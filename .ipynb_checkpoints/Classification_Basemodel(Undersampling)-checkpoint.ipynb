{
 "cells": [
  {
   "cell_type": "markdown",
   "id": "a1a8ce1a",
   "metadata": {
    "id": "a1a8ce1a"
   },
   "source": [
    "# Severity Classification Models for Traffic Accidents\n",
    "In this notebook, base model to predict the severity of traffic crashes will be developed."
   ]
  },
  {
   "cell_type": "code",
   "execution_count": 1,
   "id": "-U0EtmnN5FDc",
   "metadata": {
    "colab": {
     "base_uri": "https://localhost:8080/"
    },
    "executionInfo": {
     "elapsed": 28974,
     "status": "ok",
     "timestamp": 1711657377303,
     "user": {
      "displayName": "Kentaro Osawa",
      "userId": "00866064059030608685"
     },
     "user_tz": 240
    },
    "id": "-U0EtmnN5FDc",
    "outputId": "27f5cafe-294d-4477-e527-d6acdbaa2029"
   },
   "outputs": [
    {
     "name": "stdout",
     "output_type": "stream",
     "text": [
      "Mounted at /content/drive\n",
      "/content/drive/My Drive/Capstone\n"
     ]
    }
   ],
   "source": [
    "# This cell should be run when this notebook is excuted on Google Colab.\n",
    "from google.colab import drive\n",
    "import sys\n",
    "\n",
    "# Mount Google Drive\n",
    "drive.mount('/content/drive')\n",
    "\n",
    "# Get the absolute path of the current folder\n",
    "abspath_curr = '/content/drive/My Drive/Capstone/'\n",
    "\n",
    "%cd $abspath_curr"
   ]
  },
  {
   "cell_type": "code",
   "execution_count": 2,
   "id": "e84dfea4",
   "metadata": {
    "executionInfo": {
     "elapsed": 2261,
     "status": "ok",
     "timestamp": 1711657379559,
     "user": {
      "displayName": "Kentaro Osawa",
      "userId": "00866064059030608685"
     },
     "user_tz": 240
    },
    "id": "e84dfea4"
   },
   "outputs": [],
   "source": [
    "import numpy as np\n",
    "import pandas as pd\n",
    "import matplotlib.pyplot as plt\n",
    "import seaborn as sns\n",
    "from toolbox import *"
   ]
  },
  {
   "cell_type": "markdown",
   "id": "3943df12",
   "metadata": {
    "id": "3943df12"
   },
   "source": [
    "## Read Dataset\n",
    "Load the undersampled data"
   ]
  },
  {
   "cell_type": "code",
   "execution_count": 3,
   "id": "a345fc12",
   "metadata": {
    "executionInfo": {
     "elapsed": 3171,
     "status": "ok",
     "timestamp": 1711657382727,
     "user": {
      "displayName": "Kentaro Osawa",
      "userId": "00866064059030608685"
     },
     "user_tz": 240
    },
    "id": "a345fc12"
   },
   "outputs": [],
   "source": [
    "# Read the data\n",
    "df_train = pd.read_csv(\"Data/train_us.csv\", index_col=False)\n",
    "df_val = pd.read_csv(\"Data/val.csv\", index_col=False)\n",
    "df_test = pd.read_csv(\"Data/test.csv\", index_col=False)"
   ]
  },
  {
   "cell_type": "markdown",
   "id": "71b916d0",
   "metadata": {
    "id": "71b916d0"
   },
   "source": [
    "### Model Development - Decision Tree"
   ]
  },
  {
   "cell_type": "markdown",
   "id": "482f25cb",
   "metadata": {
    "id": "482f25cb"
   },
   "source": [
    "Encoding the categorical features"
   ]
  },
  {
   "cell_type": "code",
   "execution_count": 4,
   "id": "hpbUC8Kl5PEF",
   "metadata": {
    "executionInfo": {
     "elapsed": 6,
     "status": "ok",
     "timestamp": 1711657382728,
     "user": {
      "displayName": "Kentaro Osawa",
      "userId": "00866064059030608685"
     },
     "user_tz": 240
    },
    "id": "hpbUC8Kl5PEF"
   },
   "outputs": [],
   "source": [
    "df_train_x = df_train.drop(columns=[\"Severity\"])\n",
    "y_train = df_train[\"Severity\"].values\n",
    "\n",
    "df_val_x = df_val.drop(columns=[\"Severity\"])\n",
    "y_val = df_val[\"Severity\"].values\n",
    "\n",
    "df_test_x = df_test.drop(columns=[\"Severity\"])\n",
    "y_test = df_test[\"Severity\"].values"
   ]
  },
  {
   "cell_type": "code",
   "execution_count": 5,
   "id": "106197ec",
   "metadata": {
    "executionInfo": {
     "elapsed": 4,
     "status": "ok",
     "timestamp": 1711657382728,
     "user": {
      "displayName": "Kentaro Osawa",
      "userId": "00866064059030608685"
     },
     "user_tz": 240
    },
    "id": "106197ec"
   },
   "outputs": [],
   "source": [
    "# Concat feature matrics\n",
    "df_X = pd.concat([df_train_x, df_val_x, df_test_x], sort=False)\n",
    "#df_X = df_X.drop(columns=[\"ALIGNMENT\", \"ROAD_DEFECT\", 'WEATHER_CONDITION', 'ROADWAY_SURFACE_COND'])"
   ]
  },
  {
   "cell_type": "markdown",
   "id": "21500182",
   "metadata": {
    "id": "21500182"
   },
   "source": [
    "#### Encoding cyclic categorical features\n",
    "* \"CRASH_DATE_month\", \"CRASH_DATE_hour\", and \"CRASH_DAY_OF_WEEK\" are categorical, but also are cyclical.\n",
    "* Encoding these feature by One-Hot encoding (OHE) will lead to the increase of the demension, which is not prefereable. In addition, the OHE cannot capture the cyclic characteristic in these features. Therefore, encoding utilized trigonometric functions will be applied."
   ]
  },
  {
   "cell_type": "code",
   "execution_count": 6,
   "id": "1ebb29fb",
   "metadata": {
    "executionInfo": {
     "elapsed": 4,
     "status": "ok",
     "timestamp": 1711657382728,
     "user": {
      "displayName": "Kentaro Osawa",
      "userId": "00866064059030608685"
     },
     "user_tz": 240
    },
    "id": "1ebb29fb"
   },
   "outputs": [],
   "source": [
    "df_X = cyclic_encoding(df_X, [\"CRASH_DATE_month\", \"CRASH_DATE_hour\", \"CRASH_DAY_OF_WEEK\"])"
   ]
  },
  {
   "cell_type": "markdown",
   "id": "28bd6449",
   "metadata": {
    "id": "28bd6449"
   },
   "source": [
    "#### Encoding other catogorical features\n",
    "* Encoding other categorical features than cyclic ones by OHE"
   ]
  },
  {
   "cell_type": "code",
   "execution_count": 7,
   "id": "7cf70802",
   "metadata": {
    "executionInfo": {
     "elapsed": 817,
     "status": "ok",
     "timestamp": 1711657383541,
     "user": {
      "displayName": "Kentaro Osawa",
      "userId": "00866064059030608685"
     },
     "user_tz": 240
    },
    "id": "7cf70802"
   },
   "outputs": [],
   "source": [
    "df_X = df_X.astype({\"POSTED_SPEED_LIMIT\": float, \"NUM_UNITS\": float, \"LATITUDE\": float, \"LONGITUDE\": float})"
   ]
  },
  {
   "cell_type": "code",
   "execution_count": 8,
   "id": "2a36a803",
   "metadata": {
    "executionInfo": {
     "elapsed": 11,
     "status": "ok",
     "timestamp": 1711657383542,
     "user": {
      "displayName": "Kentaro Osawa",
      "userId": "00866064059030608685"
     },
     "user_tz": 240
    },
    "id": "2a36a803"
   },
   "outputs": [],
   "source": [
    "df_X = pd.get_dummies(df_X, drop_first=True)"
   ]
  },
  {
   "cell_type": "code",
   "execution_count": 9,
   "id": "0f87c087",
   "metadata": {
    "executionInfo": {
     "elapsed": 10,
     "status": "ok",
     "timestamp": 1711657383542,
     "user": {
      "displayName": "Kentaro Osawa",
      "userId": "00866064059030608685"
     },
     "user_tz": 240
    },
    "id": "0f87c087"
   },
   "outputs": [],
   "source": [
    "df_train_x = df_X.iloc[:df_train_x.shape[0], :]\n",
    "df_val_x = df_X.iloc[df_train_x.shape[0] : df_train_x.shape[0] + df_val_x.shape[0], :]\n",
    "df_test_x = df_X.iloc[df_train_x.shape[0] + df_val_x.shape[0]:, :]"
   ]
  },
  {
   "cell_type": "markdown",
   "id": "ff714f38",
   "metadata": {
    "id": "ff714f38"
   },
   "source": [
    "### Hyperparameter Tuning"
   ]
  },
  {
   "cell_type": "code",
   "execution_count": 10,
   "id": "703fa751",
   "metadata": {
    "executionInfo": {
     "elapsed": 12,
     "status": "ok",
     "timestamp": 1711657383544,
     "user": {
      "displayName": "Kentaro Osawa",
      "userId": "00866064059030608685"
     },
     "user_tz": 240
    },
    "id": "703fa751"
   },
   "outputs": [],
   "source": [
    "X_train = df_train_x.values\n",
    "X_val = df_val_x.values\n",
    "X_test = df_test_x.values"
   ]
  },
  {
   "cell_type": "code",
   "execution_count": 11,
   "id": "3a88a065",
   "metadata": {
    "colab": {
     "base_uri": "https://localhost:8080/",
     "height": 75
    },
    "executionInfo": {
     "elapsed": 12,
     "status": "ok",
     "timestamp": 1711657383544,
     "user": {
      "displayName": "Kentaro Osawa",
      "userId": "00866064059030608685"
     },
     "user_tz": 240
    },
    "id": "3a88a065",
    "outputId": "c209e5dc-7191-4f25-bec8-e857117139b7"
   },
   "outputs": [
    {
     "data": {
      "text/html": [
       "<style>#sk-container-id-1 {color: black;background-color: white;}#sk-container-id-1 pre{padding: 0;}#sk-container-id-1 div.sk-toggleable {background-color: white;}#sk-container-id-1 label.sk-toggleable__label {cursor: pointer;display: block;width: 100%;margin-bottom: 0;padding: 0.3em;box-sizing: border-box;text-align: center;}#sk-container-id-1 label.sk-toggleable__label-arrow:before {content: \"▸\";float: left;margin-right: 0.25em;color: #696969;}#sk-container-id-1 label.sk-toggleable__label-arrow:hover:before {color: black;}#sk-container-id-1 div.sk-estimator:hover label.sk-toggleable__label-arrow:before {color: black;}#sk-container-id-1 div.sk-toggleable__content {max-height: 0;max-width: 0;overflow: hidden;text-align: left;background-color: #f0f8ff;}#sk-container-id-1 div.sk-toggleable__content pre {margin: 0.2em;color: black;border-radius: 0.25em;background-color: #f0f8ff;}#sk-container-id-1 input.sk-toggleable__control:checked~div.sk-toggleable__content {max-height: 200px;max-width: 100%;overflow: auto;}#sk-container-id-1 input.sk-toggleable__control:checked~label.sk-toggleable__label-arrow:before {content: \"▾\";}#sk-container-id-1 div.sk-estimator input.sk-toggleable__control:checked~label.sk-toggleable__label {background-color: #d4ebff;}#sk-container-id-1 div.sk-label input.sk-toggleable__control:checked~label.sk-toggleable__label {background-color: #d4ebff;}#sk-container-id-1 input.sk-hidden--visually {border: 0;clip: rect(1px 1px 1px 1px);clip: rect(1px, 1px, 1px, 1px);height: 1px;margin: -1px;overflow: hidden;padding: 0;position: absolute;width: 1px;}#sk-container-id-1 div.sk-estimator {font-family: monospace;background-color: #f0f8ff;border: 1px dotted black;border-radius: 0.25em;box-sizing: border-box;margin-bottom: 0.5em;}#sk-container-id-1 div.sk-estimator:hover {background-color: #d4ebff;}#sk-container-id-1 div.sk-parallel-item::after {content: \"\";width: 100%;border-bottom: 1px solid gray;flex-grow: 1;}#sk-container-id-1 div.sk-label:hover label.sk-toggleable__label {background-color: #d4ebff;}#sk-container-id-1 div.sk-serial::before {content: \"\";position: absolute;border-left: 1px solid gray;box-sizing: border-box;top: 0;bottom: 0;left: 50%;z-index: 0;}#sk-container-id-1 div.sk-serial {display: flex;flex-direction: column;align-items: center;background-color: white;padding-right: 0.2em;padding-left: 0.2em;position: relative;}#sk-container-id-1 div.sk-item {position: relative;z-index: 1;}#sk-container-id-1 div.sk-parallel {display: flex;align-items: stretch;justify-content: center;background-color: white;position: relative;}#sk-container-id-1 div.sk-item::before, #sk-container-id-1 div.sk-parallel-item::before {content: \"\";position: absolute;border-left: 1px solid gray;box-sizing: border-box;top: 0;bottom: 0;left: 50%;z-index: -1;}#sk-container-id-1 div.sk-parallel-item {display: flex;flex-direction: column;z-index: 1;position: relative;background-color: white;}#sk-container-id-1 div.sk-parallel-item:first-child::after {align-self: flex-end;width: 50%;}#sk-container-id-1 div.sk-parallel-item:last-child::after {align-self: flex-start;width: 50%;}#sk-container-id-1 div.sk-parallel-item:only-child::after {width: 0;}#sk-container-id-1 div.sk-dashed-wrapped {border: 1px dashed gray;margin: 0 0.4em 0.5em 0.4em;box-sizing: border-box;padding-bottom: 0.4em;background-color: white;}#sk-container-id-1 div.sk-label label {font-family: monospace;font-weight: bold;display: inline-block;line-height: 1.2em;}#sk-container-id-1 div.sk-label-container {text-align: center;}#sk-container-id-1 div.sk-container {/* jupyter's `normalize.less` sets `[hidden] { display: none; }` but bootstrap.min.css set `[hidden] { display: none !important; }` so we also need the `!important` here to be able to override the default hidden behavior on the sphinx rendered scikit-learn.org. See: https://github.com/scikit-learn/scikit-learn/issues/21755 */display: inline-block !important;position: relative;}#sk-container-id-1 div.sk-text-repr-fallback {display: none;}</style><div id=\"sk-container-id-1\" class=\"sk-top-container\"><div class=\"sk-text-repr-fallback\"><pre>DummyClassifier()</pre><b>In a Jupyter environment, please rerun this cell to show the HTML representation or trust the notebook. <br />On GitHub, the HTML representation is unable to render, please try loading this page with nbviewer.org.</b></div><div class=\"sk-container\" hidden><div class=\"sk-item\"><div class=\"sk-estimator sk-toggleable\"><input class=\"sk-toggleable__control sk-hidden--visually\" id=\"sk-estimator-id-1\" type=\"checkbox\" checked><label for=\"sk-estimator-id-1\" class=\"sk-toggleable__label sk-toggleable__label-arrow\">DummyClassifier</label><div class=\"sk-toggleable__content\"><pre>DummyClassifier()</pre></div></div></div></div></div>"
      ],
      "text/plain": [
       "DummyClassifier()"
      ]
     },
     "execution_count": 11,
     "metadata": {},
     "output_type": "execute_result"
    }
   ],
   "source": [
    "from sklearn.dummy import DummyClassifier\n",
    "\n",
    "# The DummyClassifier\n",
    "model = DummyClassifier()\n",
    "\n",
    "# Fit the model\n",
    "model.fit(X_train, y_train)"
   ]
  },
  {
   "cell_type": "code",
   "execution_count": 12,
   "id": "c08c5a9d",
   "metadata": {
    "executionInfo": {
     "elapsed": 9,
     "status": "ok",
     "timestamp": 1711657383544,
     "user": {
      "displayName": "Kentaro Osawa",
      "userId": "00866064059030608685"
     },
     "user_tz": 240
    },
    "id": "c08c5a9d"
   },
   "outputs": [],
   "source": [
    "from sklearn.metrics import accuracy_score, recall_score, precision_score, f1_score\n",
    "\n",
    "def display_metrics(model, X, y):\n",
    "    y_pred = model.predict(X)\n",
    "\n",
    "    accuracy = accuracy_score(y, y_pred)\n",
    "    recall = recall_score(y, y_pred, average='macro')\n",
    "    precision = precision_score(y, y_pred, average='macro')\n",
    "    f1 = f1_score(y, y_pred, average='macro')\n",
    "\n",
    "    print(\"Accuracy:\", accuracy)\n",
    "    print(\"Recall:\", recall)\n",
    "    print(\"Precision:\", precision)\n",
    "    print(\"F1 Score:\", f1)"
   ]
  },
  {
   "cell_type": "code",
   "execution_count": 13,
   "id": "a838f109",
   "metadata": {
    "colab": {
     "base_uri": "https://localhost:8080/"
    },
    "executionInfo": {
     "elapsed": 9,
     "status": "ok",
     "timestamp": 1711657383544,
     "user": {
      "displayName": "Kentaro Osawa",
      "userId": "00866064059030608685"
     },
     "user_tz": 240
    },
    "id": "a838f109",
    "outputId": "dfae31b4-31c6-49e9-ce50-a8c7fe9bda15"
   },
   "outputs": [
    {
     "name": "stdout",
     "output_type": "stream",
     "text": [
      "Accuracy: 0.8549216504028829\n",
      "Recall: 0.3333333333333333\n",
      "Precision: 0.28497388346762764\n",
      "F1 Score: 0.30726244788369605\n"
     ]
    },
    {
     "name": "stderr",
     "output_type": "stream",
     "text": [
      "/usr/local/lib/python3.10/dist-packages/sklearn/metrics/_classification.py:1344: UndefinedMetricWarning: Precision is ill-defined and being set to 0.0 in labels with no predicted samples. Use `zero_division` parameter to control this behavior.\n",
      "  _warn_prf(average, modifier, msg_start, len(result))\n"
     ]
    }
   ],
   "source": [
    "display_metrics(model, X_test, y_test)"
   ]
  }
 ],
 "metadata": {
  "colab": {
   "provenance": []
  },
  "kernelspec": {
   "display_name": "Python 3 (ipykernel)",
   "language": "python",
   "name": "python3"
  },
  "language_info": {
   "codemirror_mode": {
    "name": "ipython",
    "version": 3
   },
   "file_extension": ".py",
   "mimetype": "text/x-python",
   "name": "python",
   "nbconvert_exporter": "python",
   "pygments_lexer": "ipython3",
   "version": "3.9.7"
  }
 },
 "nbformat": 4,
 "nbformat_minor": 5
}
