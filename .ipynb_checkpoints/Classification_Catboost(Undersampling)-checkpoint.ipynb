{
 "cells": [
  {
   "cell_type": "markdown",
   "id": "a1a8ce1a",
   "metadata": {
    "id": "a1a8ce1a"
   },
   "source": [
    "# Severity Classification Models for Traffic Accidents\n",
    "In this notebook, CatBoost models to predict the severity of traffic crashes will be developed."
   ]
  },
  {
   "cell_type": "code",
   "execution_count": 1,
   "id": "cPv8p9PfJ3I9",
   "metadata": {
    "colab": {
     "base_uri": "https://localhost:8080/"
    },
    "executionInfo": {
     "elapsed": 27755,
     "status": "ok",
     "timestamp": 1711578848951,
     "user": {
      "displayName": "Kentaro Osawa",
      "userId": "00866064059030608685"
     },
     "user_tz": 240
    },
    "id": "cPv8p9PfJ3I9",
    "outputId": "2f448284-86ae-4a76-8116-e21a3d47ed58"
   },
   "outputs": [
    {
     "name": "stdout",
     "output_type": "stream",
     "text": [
      "Mounted at /content/drive\n",
      "/content/drive/My Drive/Capstone\n"
     ]
    }
   ],
   "source": [
    "# This cell should be run when this notebook is excuted on Google Colab.\n",
    "from google.colab import drive\n",
    "import sys\n",
    "\n",
    "# Mount Google Drive\n",
    "drive.mount('/content/drive')\n",
    "\n",
    "# Get the absolute path of the current folder\n",
    "abspath_curr = '/content/drive/My Drive/Capstone/'\n",
    "\n",
    "%cd $abspath_curr"
   ]
  },
  {
   "cell_type": "code",
   "execution_count": 1,
   "id": "e84dfea4",
   "metadata": {
    "executionInfo": {
     "elapsed": 2345,
     "status": "ok",
     "timestamp": 1711578854090,
     "user": {
      "displayName": "Kentaro Osawa",
      "userId": "00866064059030608685"
     },
     "user_tz": 240
    },
    "id": "e84dfea4"
   },
   "outputs": [],
   "source": [
    "import numpy as np\n",
    "import pandas as pd\n",
    "import matplotlib.pyplot as plt\n",
    "import seaborn as sns\n",
    "from toolbox import *"
   ]
  },
  {
   "cell_type": "markdown",
   "id": "3943df12",
   "metadata": {
    "id": "3943df12"
   },
   "source": [
    "## Read Dataset\n",
    "Load the undersampled data"
   ]
  },
  {
   "cell_type": "code",
   "execution_count": 7,
   "id": "a345fc12",
   "metadata": {
    "executionInfo": {
     "elapsed": 2831,
     "status": "ok",
     "timestamp": 1711579039080,
     "user": {
      "displayName": "Kentaro Osawa",
      "userId": "00866064059030608685"
     },
     "user_tz": 240
    },
    "id": "a345fc12"
   },
   "outputs": [],
   "source": [
    "# Read the data\n",
    "df_train = pd.read_csv(\"Data/train_us.csv\", index_col=False)\n",
    "df_val = pd.read_csv(\"Data/val.csv\", index_col=False)\n",
    "df_test = pd.read_csv(\"Data/test.csv\", index_col=False)"
   ]
  },
  {
   "cell_type": "markdown",
   "id": "71b916d0",
   "metadata": {
    "id": "71b916d0"
   },
   "source": [
    "### Model Development - Catboost"
   ]
  },
  {
   "cell_type": "markdown",
   "id": "ff714f38",
   "metadata": {
    "id": "ff714f38"
   },
   "source": [
    "#### Hyperparameter Tuning"
   ]
  },
  {
   "cell_type": "code",
   "execution_count": 8,
   "id": "3Dpy0P1TRu8E",
   "metadata": {
    "executionInfo": {
     "elapsed": 812,
     "status": "ok",
     "timestamp": 1711579042736,
     "user": {
      "displayName": "Kentaro Osawa",
      "userId": "00866064059030608685"
     },
     "user_tz": 240
    },
    "id": "3Dpy0P1TRu8E"
   },
   "outputs": [],
   "source": [
    "df_train_x = df_train.drop(columns=[\"Severity\"])\n",
    "y_train = df_train[\"Severity\"].values\n",
    "\n",
    "df_val_x = df_val.drop(columns=[\"Severity\"])\n",
    "y_val = df_val[\"Severity\"].values\n",
    "\n",
    "df_test_x = df_test.drop(columns=[\"Severity\"])\n",
    "y_test = df_test[\"Severity\"].values"
   ]
  },
  {
   "cell_type": "code",
   "execution_count": null,
   "id": "DvYc7nZ-SphK",
   "metadata": {
    "id": "DvYc7nZ-SphK"
   },
   "outputs": [],
   "source": [
    "# Get  the position of categorical features\n",
    "categorical_features = df_train_x.dtypes[df_train_x.dtypes==object].index\n",
    "cat_pos = []\n",
    "for i in range(len(df_train_x.columns)):\n",
    "    if df_train_x.columns[i] in categorical_features:\n",
    "        cat_pos.append(i)"
   ]
  },
  {
   "cell_type": "code",
   "execution_count": null,
   "id": "703fa751",
   "metadata": {
    "id": "703fa751"
   },
   "outputs": [],
   "source": [
    "X_train_cat = df_train_x.values\n",
    "X_val_cat = df_val_x.values\n",
    "X_test_cat = df_test_x.values"
   ]
  },
  {
   "cell_type": "code",
   "execution_count": 2,
   "id": "IgHBxdOOMJcT",
   "metadata": {
    "colab": {
     "base_uri": "https://localhost:8080/"
    },
    "executionInfo": {
     "elapsed": 13031,
     "status": "ok",
     "timestamp": 1711578876304,
     "user": {
      "displayName": "Kentaro Osawa",
      "userId": "00866064059030608685"
     },
     "user_tz": 240
    },
    "id": "IgHBxdOOMJcT",
    "outputId": "9960604b-1953-4f8a-8500-e73ee2f729d1"
   },
   "outputs": [
    {
     "name": "stdout",
     "output_type": "stream",
     "text": [
      "Requirement already satisfied: catboost in /Users/osawakentaro/opt/anaconda3/lib/python3.9/site-packages (1.2.3)\n",
      "Requirement already satisfied: graphviz in /Users/osawakentaro/opt/anaconda3/lib/python3.9/site-packages (from catboost) (0.16)\n",
      "Requirement already satisfied: numpy>=1.16.0 in /Users/osawakentaro/opt/anaconda3/lib/python3.9/site-packages (from catboost) (1.21.0)\n",
      "Requirement already satisfied: pandas>=0.24 in /Users/osawakentaro/opt/anaconda3/lib/python3.9/site-packages (from catboost) (1.4.1)\n",
      "Requirement already satisfied: scipy in /Users/osawakentaro/opt/anaconda3/lib/python3.9/site-packages (from catboost) (1.7.1)\n",
      "Requirement already satisfied: matplotlib in /Users/osawakentaro/opt/anaconda3/lib/python3.9/site-packages (from catboost) (3.4.3)\n",
      "Requirement already satisfied: plotly in /Users/osawakentaro/opt/anaconda3/lib/python3.9/site-packages (from catboost) (5.9.0)\n",
      "Requirement already satisfied: six in /Users/osawakentaro/opt/anaconda3/lib/python3.9/site-packages (from catboost) (1.16.0)\n",
      "Requirement already satisfied: python-dateutil>=2.8.1 in /Users/osawakentaro/opt/anaconda3/lib/python3.9/site-packages (from pandas>=0.24->catboost) (2.8.2)\n",
      "Requirement already satisfied: pytz>=2020.1 in /Users/osawakentaro/opt/anaconda3/lib/python3.9/site-packages (from pandas>=0.24->catboost) (2021.3)\n",
      "Requirement already satisfied: pyparsing>=2.2.1 in /Users/osawakentaro/opt/anaconda3/lib/python3.9/site-packages (from matplotlib->catboost) (3.0.4)\n",
      "Requirement already satisfied: cycler>=0.10 in /Users/osawakentaro/opt/anaconda3/lib/python3.9/site-packages (from matplotlib->catboost) (0.10.0)\n",
      "Requirement already satisfied: pillow>=6.2.0 in /Users/osawakentaro/opt/anaconda3/lib/python3.9/site-packages (from matplotlib->catboost) (8.4.0)\n",
      "Requirement already satisfied: kiwisolver>=1.0.1 in /Users/osawakentaro/opt/anaconda3/lib/python3.9/site-packages (from matplotlib->catboost) (1.3.1)\n",
      "Requirement already satisfied: tenacity>=6.2.0 in /Users/osawakentaro/opt/anaconda3/lib/python3.9/site-packages (from plotly->catboost) (8.0.1)\n"
     ]
    }
   ],
   "source": [
    "!pip install catboost"
   ]
  },
  {
   "cell_type": "code",
   "execution_count": null,
   "id": "UGvYNczxUo5h",
   "metadata": {
    "colab": {
     "base_uri": "https://localhost:8080/"
    },
    "executionInfo": {
     "elapsed": 6944,
     "status": "ok",
     "timestamp": 1711576596053,
     "user": {
      "displayName": "Kentaro Osawa",
      "userId": "00866064059030608685"
     },
     "user_tz": 240
    },
    "id": "UGvYNczxUo5h",
    "outputId": "09675360-2bda-4726-9479-8b83dfb4c94a"
   },
   "outputs": [
    {
     "name": "stdout",
     "output_type": "stream",
     "text": [
      "Requirement already satisfied: ipywidgets in /usr/local/lib/python3.10/dist-packages (7.7.1)\n",
      "Requirement already satisfied: ipykernel>=4.5.1 in /usr/local/lib/python3.10/dist-packages (from ipywidgets) (5.5.6)\n",
      "Requirement already satisfied: ipython-genutils~=0.2.0 in /usr/local/lib/python3.10/dist-packages (from ipywidgets) (0.2.0)\n",
      "Requirement already satisfied: traitlets>=4.3.1 in /usr/local/lib/python3.10/dist-packages (from ipywidgets) (5.7.1)\n",
      "Requirement already satisfied: widgetsnbextension~=3.6.0 in /usr/local/lib/python3.10/dist-packages (from ipywidgets) (3.6.6)\n",
      "Requirement already satisfied: ipython>=4.0.0 in /usr/local/lib/python3.10/dist-packages (from ipywidgets) (7.34.0)\n",
      "Requirement already satisfied: jupyterlab-widgets>=1.0.0 in /usr/local/lib/python3.10/dist-packages (from ipywidgets) (3.0.10)\n",
      "Requirement already satisfied: jupyter-client in /usr/local/lib/python3.10/dist-packages (from ipykernel>=4.5.1->ipywidgets) (6.1.12)\n",
      "Requirement already satisfied: tornado>=4.2 in /usr/local/lib/python3.10/dist-packages (from ipykernel>=4.5.1->ipywidgets) (6.3.3)\n",
      "Requirement already satisfied: setuptools>=18.5 in /usr/local/lib/python3.10/dist-packages (from ipython>=4.0.0->ipywidgets) (67.7.2)\n",
      "Collecting jedi>=0.16 (from ipython>=4.0.0->ipywidgets)\n",
      "  Downloading jedi-0.19.1-py2.py3-none-any.whl (1.6 MB)\n",
      "\u001b[2K     \u001b[90m━━━━━━━━━━━━━━━━━━━━━━━━━━━━━━━━━━━━━━━━\u001b[0m \u001b[32m1.6/1.6 MB\u001b[0m \u001b[31m7.1 MB/s\u001b[0m eta \u001b[36m0:00:00\u001b[0m\n",
      "\u001b[?25hRequirement already satisfied: decorator in /usr/local/lib/python3.10/dist-packages (from ipython>=4.0.0->ipywidgets) (4.4.2)\n",
      "Requirement already satisfied: pickleshare in /usr/local/lib/python3.10/dist-packages (from ipython>=4.0.0->ipywidgets) (0.7.5)\n",
      "Requirement already satisfied: prompt-toolkit!=3.0.0,!=3.0.1,<3.1.0,>=2.0.0 in /usr/local/lib/python3.10/dist-packages (from ipython>=4.0.0->ipywidgets) (3.0.43)\n",
      "Requirement already satisfied: pygments in /usr/local/lib/python3.10/dist-packages (from ipython>=4.0.0->ipywidgets) (2.16.1)\n",
      "Requirement already satisfied: backcall in /usr/local/lib/python3.10/dist-packages (from ipython>=4.0.0->ipywidgets) (0.2.0)\n",
      "Requirement already satisfied: matplotlib-inline in /usr/local/lib/python3.10/dist-packages (from ipython>=4.0.0->ipywidgets) (0.1.6)\n",
      "Requirement already satisfied: pexpect>4.3 in /usr/local/lib/python3.10/dist-packages (from ipython>=4.0.0->ipywidgets) (4.9.0)\n",
      "Requirement already satisfied: notebook>=4.4.1 in /usr/local/lib/python3.10/dist-packages (from widgetsnbextension~=3.6.0->ipywidgets) (6.5.5)\n",
      "Requirement already satisfied: parso<0.9.0,>=0.8.3 in /usr/local/lib/python3.10/dist-packages (from jedi>=0.16->ipython>=4.0.0->ipywidgets) (0.8.3)\n",
      "Requirement already satisfied: jinja2 in /usr/local/lib/python3.10/dist-packages (from notebook>=4.4.1->widgetsnbextension~=3.6.0->ipywidgets) (3.1.3)\n",
      "Requirement already satisfied: pyzmq<25,>=17 in /usr/local/lib/python3.10/dist-packages (from notebook>=4.4.1->widgetsnbextension~=3.6.0->ipywidgets) (23.2.1)\n",
      "Requirement already satisfied: argon2-cffi in /usr/local/lib/python3.10/dist-packages (from notebook>=4.4.1->widgetsnbextension~=3.6.0->ipywidgets) (23.1.0)\n",
      "Requirement already satisfied: jupyter-core>=4.6.1 in /usr/local/lib/python3.10/dist-packages (from notebook>=4.4.1->widgetsnbextension~=3.6.0->ipywidgets) (5.7.2)\n",
      "Requirement already satisfied: nbformat in /usr/local/lib/python3.10/dist-packages (from notebook>=4.4.1->widgetsnbextension~=3.6.0->ipywidgets) (5.10.3)\n",
      "Requirement already satisfied: nbconvert>=5 in /usr/local/lib/python3.10/dist-packages (from notebook>=4.4.1->widgetsnbextension~=3.6.0->ipywidgets) (6.5.4)\n",
      "Requirement already satisfied: nest-asyncio>=1.5 in /usr/local/lib/python3.10/dist-packages (from notebook>=4.4.1->widgetsnbextension~=3.6.0->ipywidgets) (1.6.0)\n",
      "Requirement already satisfied: Send2Trash>=1.8.0 in /usr/local/lib/python3.10/dist-packages (from notebook>=4.4.1->widgetsnbextension~=3.6.0->ipywidgets) (1.8.2)\n",
      "Requirement already satisfied: terminado>=0.8.3 in /usr/local/lib/python3.10/dist-packages (from notebook>=4.4.1->widgetsnbextension~=3.6.0->ipywidgets) (0.18.1)\n",
      "Requirement already satisfied: prometheus-client in /usr/local/lib/python3.10/dist-packages (from notebook>=4.4.1->widgetsnbextension~=3.6.0->ipywidgets) (0.20.0)\n",
      "Requirement already satisfied: nbclassic>=0.4.7 in /usr/local/lib/python3.10/dist-packages (from notebook>=4.4.1->widgetsnbextension~=3.6.0->ipywidgets) (1.0.0)\n",
      "Requirement already satisfied: python-dateutil>=2.1 in /usr/local/lib/python3.10/dist-packages (from jupyter-client->ipykernel>=4.5.1->ipywidgets) (2.8.2)\n",
      "Requirement already satisfied: ptyprocess>=0.5 in /usr/local/lib/python3.10/dist-packages (from pexpect>4.3->ipython>=4.0.0->ipywidgets) (0.7.0)\n",
      "Requirement already satisfied: wcwidth in /usr/local/lib/python3.10/dist-packages (from prompt-toolkit!=3.0.0,!=3.0.1,<3.1.0,>=2.0.0->ipython>=4.0.0->ipywidgets) (0.2.13)\n",
      "Requirement already satisfied: platformdirs>=2.5 in /usr/local/lib/python3.10/dist-packages (from jupyter-core>=4.6.1->notebook>=4.4.1->widgetsnbextension~=3.6.0->ipywidgets) (4.2.0)\n",
      "Requirement already satisfied: jupyter-server>=1.8 in /usr/local/lib/python3.10/dist-packages (from nbclassic>=0.4.7->notebook>=4.4.1->widgetsnbextension~=3.6.0->ipywidgets) (1.24.0)\n",
      "Requirement already satisfied: notebook-shim>=0.2.3 in /usr/local/lib/python3.10/dist-packages (from nbclassic>=0.4.7->notebook>=4.4.1->widgetsnbextension~=3.6.0->ipywidgets) (0.2.4)\n",
      "Requirement already satisfied: lxml in /usr/local/lib/python3.10/dist-packages (from nbconvert>=5->notebook>=4.4.1->widgetsnbextension~=3.6.0->ipywidgets) (4.9.4)\n",
      "Requirement already satisfied: beautifulsoup4 in /usr/local/lib/python3.10/dist-packages (from nbconvert>=5->notebook>=4.4.1->widgetsnbextension~=3.6.0->ipywidgets) (4.12.3)\n",
      "Requirement already satisfied: bleach in /usr/local/lib/python3.10/dist-packages (from nbconvert>=5->notebook>=4.4.1->widgetsnbextension~=3.6.0->ipywidgets) (6.1.0)\n",
      "Requirement already satisfied: defusedxml in /usr/local/lib/python3.10/dist-packages (from nbconvert>=5->notebook>=4.4.1->widgetsnbextension~=3.6.0->ipywidgets) (0.7.1)\n",
      "Requirement already satisfied: entrypoints>=0.2.2 in /usr/local/lib/python3.10/dist-packages (from nbconvert>=5->notebook>=4.4.1->widgetsnbextension~=3.6.0->ipywidgets) (0.4)\n",
      "Requirement already satisfied: jupyterlab-pygments in /usr/local/lib/python3.10/dist-packages (from nbconvert>=5->notebook>=4.4.1->widgetsnbextension~=3.6.0->ipywidgets) (0.3.0)\n",
      "Requirement already satisfied: MarkupSafe>=2.0 in /usr/local/lib/python3.10/dist-packages (from nbconvert>=5->notebook>=4.4.1->widgetsnbextension~=3.6.0->ipywidgets) (2.1.5)\n",
      "Requirement already satisfied: mistune<2,>=0.8.1 in /usr/local/lib/python3.10/dist-packages (from nbconvert>=5->notebook>=4.4.1->widgetsnbextension~=3.6.0->ipywidgets) (0.8.4)\n",
      "Requirement already satisfied: nbclient>=0.5.0 in /usr/local/lib/python3.10/dist-packages (from nbconvert>=5->notebook>=4.4.1->widgetsnbextension~=3.6.0->ipywidgets) (0.10.0)\n",
      "Requirement already satisfied: packaging in /usr/local/lib/python3.10/dist-packages (from nbconvert>=5->notebook>=4.4.1->widgetsnbextension~=3.6.0->ipywidgets) (24.0)\n",
      "Requirement already satisfied: pandocfilters>=1.4.1 in /usr/local/lib/python3.10/dist-packages (from nbconvert>=5->notebook>=4.4.1->widgetsnbextension~=3.6.0->ipywidgets) (1.5.1)\n",
      "Requirement already satisfied: tinycss2 in /usr/local/lib/python3.10/dist-packages (from nbconvert>=5->notebook>=4.4.1->widgetsnbextension~=3.6.0->ipywidgets) (1.2.1)\n",
      "Requirement already satisfied: fastjsonschema in /usr/local/lib/python3.10/dist-packages (from nbformat->notebook>=4.4.1->widgetsnbextension~=3.6.0->ipywidgets) (2.19.1)\n",
      "Requirement already satisfied: jsonschema>=2.6 in /usr/local/lib/python3.10/dist-packages (from nbformat->notebook>=4.4.1->widgetsnbextension~=3.6.0->ipywidgets) (4.19.2)\n",
      "Requirement already satisfied: six>=1.5 in /usr/local/lib/python3.10/dist-packages (from python-dateutil>=2.1->jupyter-client->ipykernel>=4.5.1->ipywidgets) (1.16.0)\n",
      "Requirement already satisfied: argon2-cffi-bindings in /usr/local/lib/python3.10/dist-packages (from argon2-cffi->notebook>=4.4.1->widgetsnbextension~=3.6.0->ipywidgets) (21.2.0)\n",
      "Requirement already satisfied: attrs>=22.2.0 in /usr/local/lib/python3.10/dist-packages (from jsonschema>=2.6->nbformat->notebook>=4.4.1->widgetsnbextension~=3.6.0->ipywidgets) (23.2.0)\n",
      "Requirement already satisfied: jsonschema-specifications>=2023.03.6 in /usr/local/lib/python3.10/dist-packages (from jsonschema>=2.6->nbformat->notebook>=4.4.1->widgetsnbextension~=3.6.0->ipywidgets) (2023.12.1)\n",
      "Requirement already satisfied: referencing>=0.28.4 in /usr/local/lib/python3.10/dist-packages (from jsonschema>=2.6->nbformat->notebook>=4.4.1->widgetsnbextension~=3.6.0->ipywidgets) (0.34.0)\n",
      "Requirement already satisfied: rpds-py>=0.7.1 in /usr/local/lib/python3.10/dist-packages (from jsonschema>=2.6->nbformat->notebook>=4.4.1->widgetsnbextension~=3.6.0->ipywidgets) (0.18.0)\n",
      "Requirement already satisfied: anyio<4,>=3.1.0 in /usr/local/lib/python3.10/dist-packages (from jupyter-server>=1.8->nbclassic>=0.4.7->notebook>=4.4.1->widgetsnbextension~=3.6.0->ipywidgets) (3.7.1)\n",
      "Requirement already satisfied: websocket-client in /usr/local/lib/python3.10/dist-packages (from jupyter-server>=1.8->nbclassic>=0.4.7->notebook>=4.4.1->widgetsnbextension~=3.6.0->ipywidgets) (1.7.0)\n",
      "Requirement already satisfied: cffi>=1.0.1 in /usr/local/lib/python3.10/dist-packages (from argon2-cffi-bindings->argon2-cffi->notebook>=4.4.1->widgetsnbextension~=3.6.0->ipywidgets) (1.16.0)\n",
      "Requirement already satisfied: soupsieve>1.2 in /usr/local/lib/python3.10/dist-packages (from beautifulsoup4->nbconvert>=5->notebook>=4.4.1->widgetsnbextension~=3.6.0->ipywidgets) (2.5)\n",
      "Requirement already satisfied: webencodings in /usr/local/lib/python3.10/dist-packages (from bleach->nbconvert>=5->notebook>=4.4.1->widgetsnbextension~=3.6.0->ipywidgets) (0.5.1)\n",
      "Requirement already satisfied: idna>=2.8 in /usr/local/lib/python3.10/dist-packages (from anyio<4,>=3.1.0->jupyter-server>=1.8->nbclassic>=0.4.7->notebook>=4.4.1->widgetsnbextension~=3.6.0->ipywidgets) (3.6)\n",
      "Requirement already satisfied: sniffio>=1.1 in /usr/local/lib/python3.10/dist-packages (from anyio<4,>=3.1.0->jupyter-server>=1.8->nbclassic>=0.4.7->notebook>=4.4.1->widgetsnbextension~=3.6.0->ipywidgets) (1.3.1)\n",
      "Requirement already satisfied: exceptiongroup in /usr/local/lib/python3.10/dist-packages (from anyio<4,>=3.1.0->jupyter-server>=1.8->nbclassic>=0.4.7->notebook>=4.4.1->widgetsnbextension~=3.6.0->ipywidgets) (1.2.0)\n",
      "Requirement already satisfied: pycparser in /usr/local/lib/python3.10/dist-packages (from cffi>=1.0.1->argon2-cffi-bindings->argon2-cffi->notebook>=4.4.1->widgetsnbextension~=3.6.0->ipywidgets) (2.21)\n",
      "Installing collected packages: jedi\n",
      "Successfully installed jedi-0.19.1\n",
      "Enabling notebook extension jupyter-js-widgets/extension...\n",
      "Paths used for configuration of notebook: \n",
      "    \t/root/.jupyter/nbconfig/notebook.json\n",
      "Paths used for configuration of notebook: \n",
      "    \t\n",
      "      - Validating: \u001b[32mOK\u001b[0m\n",
      "Paths used for configuration of notebook: \n",
      "    \t/root/.jupyter/nbconfig/notebook.json\n"
     ]
    }
   ],
   "source": [
    "!pip install ipywidgets\n",
    "!jupyter nbextension enable --py widgetsnbextension\n",
    "\n",
    "from google.colab import output\n",
    "output.enable_custom_widget_manager()"
   ]
  },
  {
   "cell_type": "markdown",
   "id": "sQota7baQ3w4",
   "metadata": {
    "id": "sQota7baQ3w4"
   },
   "source": [
    "Tuning parameters: l2_leaf_reg = 1, 2, 3 and depth = 6, 8, 10.  \n",
    "The model with l2_leaf_reg = 3 and depth = 6 showed the best performance in terms of F1 score."
   ]
  },
  {
   "cell_type": "code",
   "execution_count": 3,
   "id": "Wn_egXx6j4xP",
   "metadata": {
    "executionInfo": {
     "elapsed": 2,
     "status": "ok",
     "timestamp": 1711578886191,
     "user": {
      "displayName": "Kentaro Osawa",
      "userId": "00866064059030608685"
     },
     "user_tz": 240
    },
    "id": "Wn_egXx6j4xP"
   },
   "outputs": [],
   "source": [
    "import catboost\n",
    "\n",
    "params = {\n",
    "    \"iterations\": 1000,\n",
    "    \"learning_rate\": 0.05,\n",
    "    \"use_best_model\": True,\n",
    "    \"eval_metric\": 'TotalF1:average=Macro',\n",
    "    \"random_seed\": 6501,\n",
    "    \"loss_function\": 'MultiClass',\n",
    "    \"task_type\": \"GPU\",\n",
    "    \"max_bin\": 254,\n",
    "    \"subsample\": 0.8,\n",
    "    \"bootstrap_type\": \"Bernoulli\",\n",
    "    \"ctr_target_border_count\": 2,\n",
    "    \"max_ctr_complexity\": 4,\n",
    "    \"allow_writing_files\": False,\n",
    "    \"logging_level\": 'Silent'\n",
    "    }"
   ]
  },
  {
   "cell_type": "code",
   "execution_count": null,
   "id": "SBU-iX4jlUUp",
   "metadata": {
    "id": "SBU-iX4jlUUp"
   },
   "outputs": [],
   "source": [
    "from sklearn.metrics import accuracy_score, recall_score, precision_score, f1_score\n",
    "\n",
    "def display_metrics(model, X, y):\n",
    "  y_pred = model.predict(X)\n",
    "\n",
    "  accuracy = accuracy_score(y, y_pred)\n",
    "  recall = recall_score(y, y_pred, average='macro')\n",
    "  precision = precision_score(y, y_pred, average='macro')\n",
    "  f1 = f1_score(y, y_pred, average='macro')\n",
    "\n",
    "  print(\"Accuracy:\", accuracy)\n",
    "  print(\"Recall:\", recall)\n",
    "  print(\"Precision:\", precision)\n",
    "  print(\"F1 Score:\", f1)"
   ]
  },
  {
   "cell_type": "code",
   "execution_count": null,
   "id": "KdlVmGgCkyT5",
   "metadata": {
    "colab": {
     "base_uri": "https://localhost:8080/",
     "height": 88,
     "referenced_widgets": [
      "c8ce6f5701bb4d449fec8c7722ade47d"
     ]
    },
    "executionInfo": {
     "elapsed": 20102,
     "status": "ok",
     "timestamp": 1711578204975,
     "user": {
      "displayName": "Kentaro Osawa",
      "userId": "00866064059030608685"
     },
     "user_tz": 240
    },
    "id": "KdlVmGgCkyT5",
    "outputId": "0021aa11-ba38-4e60-c3c5-398ef7914108"
   },
   "outputs": [
    {
     "data": {
      "application/vnd.jupyter.widget-view+json": {
       "model_id": "c8ce6f5701bb4d449fec8c7722ade47d",
       "version_major": 2,
       "version_minor": 0
      },
      "text/plain": [
       "MetricVisualizer(layout=Layout(align_self='stretch', height='500px'))"
      ]
     },
     "metadata": {},
     "output_type": "display_data"
    },
    {
     "name": "stdout",
     "output_type": "stream",
     "text": [
      "Accuracy: 0.6546111237083346\n",
      "Recall: 0.5847058480064298\n",
      "Precision: 0.4420742310461905\n",
      "F1 Score: 0.41074666346696787\n"
     ]
    }
   ],
   "source": [
    "# depth=6, l2_leaf_reg=1\n",
    "params.update({\"depth\": 6, \"l2_leaf_reg\": 1})\n",
    "clf_cat1 = catboost.CatBoostClassifier(**params)\n",
    "\n",
    "clf_cat1.fit(X_train_cat, y_train,\n",
    "             cat_features=cat_pos,\n",
    "             eval_set=(X_val_cat, y_val),\n",
    "             plot=True)\n",
    "\n",
    "display_metrics(clf_cat1, X_val_cat, y_val)"
   ]
  },
  {
   "cell_type": "code",
   "execution_count": null,
   "id": "iSOWthalnaU8",
   "metadata": {
    "colab": {
     "base_uri": "https://localhost:8080/",
     "height": 88,
     "referenced_widgets": [
      "67868320831c4dd99acfb99c6a26a5ec"
     ]
    },
    "executionInfo": {
     "elapsed": 17700,
     "status": "ok",
     "timestamp": 1711578223380,
     "user": {
      "displayName": "Kentaro Osawa",
      "userId": "00866064059030608685"
     },
     "user_tz": 240
    },
    "id": "iSOWthalnaU8",
    "outputId": "ab4d6e12-0c92-4f6c-9093-7eb55ebf4795"
   },
   "outputs": [
    {
     "data": {
      "application/vnd.jupyter.widget-view+json": {
       "model_id": "67868320831c4dd99acfb99c6a26a5ec",
       "version_major": 2,
       "version_minor": 0
      },
      "text/plain": [
       "MetricVisualizer(layout=Layout(align_self='stretch', height='500px'))"
      ]
     },
     "metadata": {},
     "output_type": "display_data"
    },
    {
     "name": "stdout",
     "output_type": "stream",
     "text": [
      "Accuracy: 0.6573321239998704\n",
      "Recall: 0.5842575167182114\n",
      "Precision: 0.44133720970956297\n",
      "F1 Score: 0.4112927216539388\n"
     ]
    }
   ],
   "source": [
    "# depth=6, l2_leaf_reg=2\n",
    "params.update({\"depth\": 6, \"l2_leaf_reg\": 2})\n",
    "clf_cat2 = catboost.CatBoostClassifier(**params)\n",
    "\n",
    "clf_cat2.fit(X_train_cat, y_train,\n",
    "             cat_features=cat_pos,\n",
    "             eval_set=(X_val_cat, y_val),\n",
    "             plot=True)\n",
    "\n",
    "display_metrics(clf_cat2, X_val_cat, y_val)"
   ]
  },
  {
   "cell_type": "code",
   "execution_count": null,
   "id": "L1ZlziYToT_0",
   "metadata": {
    "colab": {
     "base_uri": "https://localhost:8080/",
     "height": 88,
     "referenced_widgets": [
      "d67a74254f1f4b589f7f6ef28483509d"
     ]
    },
    "executionInfo": {
     "elapsed": 15284,
     "status": "ok",
     "timestamp": 1711578238649,
     "user": {
      "displayName": "Kentaro Osawa",
      "userId": "00866064059030608685"
     },
     "user_tz": 240
    },
    "id": "L1ZlziYToT_0",
    "outputId": "ed1ebe92-027c-4845-b4fa-7d3590d8a843"
   },
   "outputs": [
    {
     "data": {
      "application/vnd.jupyter.widget-view+json": {
       "model_id": "d67a74254f1f4b589f7f6ef28483509d",
       "version_major": 2,
       "version_minor": 0
      },
      "text/plain": [
       "MetricVisualizer(layout=Layout(align_self='stretch', height='500px'))"
      ]
     },
     "metadata": {},
     "output_type": "display_data"
    },
    {
     "name": "stdout",
     "output_type": "stream",
     "text": [
      "Accuracy: 0.6614217226523275\n",
      "Recall: 0.5819611646838279\n",
      "Precision: 0.4399586184591778\n",
      "F1 Score: 0.41216472504504226\n"
     ]
    }
   ],
   "source": [
    "# depth=6, l2_leaf_reg=3\n",
    "params.update({\"depth\": 6, \"l2_leaf_reg\": 3})\n",
    "clf_cat3 = catboost.CatBoostClassifier(**params)\n",
    "\n",
    "clf_cat3.fit(X_train_cat, y_train,\n",
    "             cat_features=cat_pos,\n",
    "             eval_set=(X_val_cat, y_val),\n",
    "             plot=True)\n",
    "\n",
    "display_metrics(clf_cat3, X_val_cat, y_val)"
   ]
  },
  {
   "cell_type": "code",
   "execution_count": null,
   "id": "kjQgf9j6pJA5",
   "metadata": {
    "colab": {
     "base_uri": "https://localhost:8080/",
     "height": 88,
     "referenced_widgets": [
      "63e181eea0a8482fb525d58bdddc9293"
     ]
    },
    "executionInfo": {
     "elapsed": 23480,
     "status": "ok",
     "timestamp": 1711578262111,
     "user": {
      "displayName": "Kentaro Osawa",
      "userId": "00866064059030608685"
     },
     "user_tz": 240
    },
    "id": "kjQgf9j6pJA5",
    "outputId": "09daa739-1f84-4b04-9c88-d61a5466b141"
   },
   "outputs": [
    {
     "data": {
      "application/vnd.jupyter.widget-view+json": {
       "model_id": "63e181eea0a8482fb525d58bdddc9293",
       "version_major": 2,
       "version_minor": 0
      },
      "text/plain": [
       "MetricVisualizer(layout=Layout(align_self='stretch', height='500px'))"
      ]
     },
     "metadata": {},
     "output_type": "display_data"
    },
    {
     "name": "stdout",
     "output_type": "stream",
     "text": [
      "Accuracy: 0.6481325515856305\n",
      "Recall: 0.5807930293222463\n",
      "Precision: 0.44271641162510783\n",
      "F1 Score: 0.4073888079218079\n"
     ]
    }
   ],
   "source": [
    "# depth=8, l2_leaf_reg=1\n",
    "params.update({\"depth\": 8, \"l2_leaf_reg\": 1})\n",
    "clf_cat4 = catboost.CatBoostClassifier(**params)\n",
    "\n",
    "clf_cat4.fit(X_train_cat, y_train,\n",
    "             cat_features=cat_pos,\n",
    "             eval_set=(X_val_cat, y_val),\n",
    "             plot=True)\n",
    "\n",
    "display_metrics(clf_cat4, X_val_cat, y_val)"
   ]
  },
  {
   "cell_type": "code",
   "execution_count": null,
   "id": "wpi6oFoLqP63",
   "metadata": {
    "colab": {
     "base_uri": "https://localhost:8080/",
     "height": 88,
     "referenced_widgets": [
      "bc033311dff64ce59ad704c14db530ab"
     ]
    },
    "executionInfo": {
     "elapsed": 24101,
     "status": "ok",
     "timestamp": 1711578286210,
     "user": {
      "displayName": "Kentaro Osawa",
      "userId": "00866064059030608685"
     },
     "user_tz": 240
    },
    "id": "wpi6oFoLqP63",
    "outputId": "9149233f-1529-47e5-fa7c-3acad317aab7"
   },
   "outputs": [
    {
     "data": {
      "application/vnd.jupyter.widget-view+json": {
       "model_id": "bc033311dff64ce59ad704c14db530ab",
       "version_major": 2,
       "version_minor": 0
      },
      "text/plain": [
       "MetricVisualizer(layout=Layout(align_self='stretch', height='500px'))"
      ]
     },
     "metadata": {},
     "output_type": "display_data"
    },
    {
     "name": "stdout",
     "output_type": "stream",
     "text": [
      "Accuracy: 0.6548864630235496\n",
      "Recall: 0.5782319363056123\n",
      "Precision: 0.44063017687653666\n",
      "F1 Score: 0.40899782088014947\n"
     ]
    }
   ],
   "source": [
    "# depth=8, l2_leaf_reg=2\n",
    "params.update({\"depth\": 8, \"l2_leaf_reg\": 2})\n",
    "clf_cat5 = catboost.CatBoostClassifier(**params)\n",
    "\n",
    "clf_cat5.fit(X_train_cat, y_train,\n",
    "             cat_features=cat_pos,\n",
    "             eval_set=(X_val_cat, y_val),\n",
    "             plot=True)\n",
    "\n",
    "display_metrics(clf_cat5, X_val_cat, y_val)"
   ]
  },
  {
   "cell_type": "code",
   "execution_count": null,
   "id": "KspZqqFFrPjB",
   "metadata": {
    "colab": {
     "base_uri": "https://localhost:8080/",
     "height": 88,
     "referenced_widgets": [
      "7ce2af377b5d4f24b7b8c414b97c5190"
     ]
    },
    "executionInfo": {
     "elapsed": 20397,
     "status": "ok",
     "timestamp": 1711578306604,
     "user": {
      "displayName": "Kentaro Osawa",
      "userId": "00866064059030608685"
     },
     "user_tz": 240
    },
    "id": "KspZqqFFrPjB",
    "outputId": "095ad653-654e-4876-bf21-a608a4a7cb6b"
   },
   "outputs": [
    {
     "data": {
      "application/vnd.jupyter.widget-view+json": {
       "model_id": "7ce2af377b5d4f24b7b8c414b97c5190",
       "version_major": 2,
       "version_minor": 0
      },
      "text/plain": [
       "MetricVisualizer(layout=Layout(align_self='stretch', height='500px'))"
      ]
     },
     "metadata": {},
     "output_type": "display_data"
    },
    {
     "name": "stdout",
     "output_type": "stream",
     "text": [
      "Accuracy: 0.6504972304104175\n",
      "Recall: 0.5794410423483612\n",
      "Precision: 0.44386395650424476\n",
      "F1 Score: 0.4073472793009465\n"
     ]
    }
   ],
   "source": [
    "# depth=8, l2_leaf_reg=3\n",
    "params.update({\"depth\": 8, \"l2_leaf_reg\": 3})\n",
    "clf_cat6 = catboost.CatBoostClassifier(**params)\n",
    "\n",
    "clf_cat6.fit(X_train_cat, y_train,\n",
    "             cat_features=cat_pos,\n",
    "             eval_set=(X_val_cat, y_val),\n",
    "             plot=True)\n",
    "\n",
    "display_metrics(clf_cat6, X_val_cat, y_val)"
   ]
  },
  {
   "cell_type": "code",
   "execution_count": null,
   "id": "xNI-RV7HsSvP",
   "metadata": {
    "colab": {
     "base_uri": "https://localhost:8080/",
     "height": 88,
     "referenced_widgets": [
      "18b924505121428bad2d44a534c40d4e"
     ]
    },
    "executionInfo": {
     "elapsed": 47687,
     "status": "ok",
     "timestamp": 1711578354290,
     "user": {
      "displayName": "Kentaro Osawa",
      "userId": "00866064059030608685"
     },
     "user_tz": 240
    },
    "id": "xNI-RV7HsSvP",
    "outputId": "03b4a696-dc68-4768-d4cb-b8ad72d115b5"
   },
   "outputs": [
    {
     "data": {
      "application/vnd.jupyter.widget-view+json": {
       "model_id": "18b924505121428bad2d44a534c40d4e",
       "version_major": 2,
       "version_minor": 0
      },
      "text/plain": [
       "MetricVisualizer(layout=Layout(align_self='stretch', height='500px'))"
      ]
     },
     "metadata": {},
     "output_type": "display_data"
    },
    {
     "name": "stdout",
     "output_type": "stream",
     "text": [
      "Accuracy: 0.6421317741569758\n",
      "Recall: 0.5777879097382089\n",
      "Precision: 0.43506770807064465\n",
      "F1 Score: 0.40240381992812413\n"
     ]
    }
   ],
   "source": [
    "# depth=10, l2_leaf_reg=1\n",
    "params.update({\"depth\": 10, \"l2_leaf_reg\": 1})\n",
    "clf_cat7 = catboost.CatBoostClassifier(**params)\n",
    "\n",
    "clf_cat7.fit(X_train_cat, y_train,\n",
    "             cat_features=cat_pos,\n",
    "             eval_set=(X_val_cat, y_val),\n",
    "             plot=True)\n",
    "\n",
    "display_metrics(clf_cat7, X_val_cat, y_val)"
   ]
  },
  {
   "cell_type": "code",
   "execution_count": null,
   "id": "9unD0rcFuBHP",
   "metadata": {
    "colab": {
     "base_uri": "https://localhost:8080/",
     "height": 88,
     "referenced_widgets": [
      "3dfa75f84bae4b1fbfe63f84a4827136"
     ]
    },
    "executionInfo": {
     "elapsed": 67301,
     "status": "ok",
     "timestamp": 1711578421589,
     "user": {
      "displayName": "Kentaro Osawa",
      "userId": "00866064059030608685"
     },
     "user_tz": 240
    },
    "id": "9unD0rcFuBHP",
    "outputId": "70c44a54-044e-4b06-c2f0-e667e453945f"
   },
   "outputs": [
    {
     "data": {
      "application/vnd.jupyter.widget-view+json": {
       "model_id": "3dfa75f84bae4b1fbfe63f84a4827136",
       "version_major": 2,
       "version_minor": 0
      },
      "text/plain": [
       "MetricVisualizer(layout=Layout(align_self='stretch', height='500px'))"
      ]
     },
     "metadata": {},
     "output_type": "display_data"
    },
    {
     "name": "stdout",
     "output_type": "stream",
     "text": [
      "Accuracy: 0.6397104078261151\n",
      "Recall: 0.5721979111272939\n",
      "Precision: 0.43462267287079354\n",
      "F1 Score: 0.4008502752022974\n"
     ]
    }
   ],
   "source": [
    "# depth=10, l2_leaf_reg=2\n",
    "params.update({\"depth\": 10, \"l2_leaf_reg\": 2})\n",
    "clf_cat8 = catboost.CatBoostClassifier(**params)\n",
    "\n",
    "clf_cat8.fit(X_train_cat, y_train,\n",
    "             cat_features=cat_pos,\n",
    "             eval_set=(X_val_cat, y_val),\n",
    "             plot=True)\n",
    "\n",
    "display_metrics(clf_cat8, X_val_cat, y_val)"
   ]
  },
  {
   "cell_type": "code",
   "execution_count": null,
   "id": "5Y4mBsMJvxr9",
   "metadata": {
    "colab": {
     "base_uri": "https://localhost:8080/",
     "height": 88,
     "referenced_widgets": [
      "a221453a60074142ab4a2527c873c547"
     ]
    },
    "executionInfo": {
     "elapsed": 49438,
     "status": "ok",
     "timestamp": 1711578471025,
     "user": {
      "displayName": "Kentaro Osawa",
      "userId": "00866064059030608685"
     },
     "user_tz": 240
    },
    "id": "5Y4mBsMJvxr9",
    "outputId": "e59d780f-02ef-4efc-f1cd-ca611624b15f"
   },
   "outputs": [
    {
     "data": {
      "application/vnd.jupyter.widget-view+json": {
       "model_id": "a221453a60074142ab4a2527c873c547",
       "version_major": 2,
       "version_minor": 0
      },
      "text/plain": [
       "MetricVisualizer(layout=Layout(align_self='stretch', height='500px'))"
      ]
     },
     "metadata": {},
     "output_type": "display_data"
    },
    {
     "name": "stdout",
     "output_type": "stream",
     "text": [
      "Accuracy: 0.643840497554339\n",
      "Recall: 0.5739575341278574\n",
      "Precision: 0.43684282895375665\n",
      "F1 Score: 0.40255599887252913\n"
     ]
    }
   ],
   "source": [
    "# depth=10, l2_leaf_reg=3\n",
    "params.update({\"depth\": 10, \"l2_leaf_reg\": 3})\n",
    "clf_cat9 = catboost.CatBoostClassifier(**params)\n",
    "\n",
    "clf_cat9.fit(X_train_cat, y_train,\n",
    "             cat_features=cat_pos,\n",
    "             eval_set=(X_val_cat, y_val),\n",
    "             plot=True)\n",
    "\n",
    "display_metrics(clf_cat9, X_val_cat, y_val)"
   ]
  },
  {
   "cell_type": "markdown",
   "id": "UDFrTRlfR-o2",
   "metadata": {
    "id": "UDFrTRlfR-o2"
   },
   "source": [
    "Training the model with best paramters and train and validation data."
   ]
  },
  {
   "cell_type": "code",
   "execution_count": null,
   "id": "VSBcOaZORjb-",
   "metadata": {
    "colab": {
     "base_uri": "https://localhost:8080/"
    },
    "executionInfo": {
     "elapsed": 15466,
     "status": "ok",
     "timestamp": 1711578493106,
     "user": {
      "displayName": "Kentaro Osawa",
      "userId": "00866064059030608685"
     },
     "user_tz": 240
    },
    "id": "VSBcOaZORjb-",
    "outputId": "7f7f7a44-5930-4158-b153-70ed59046d58"
   },
   "outputs": [
    {
     "name": "stdout",
     "output_type": "stream",
     "text": [
      "Accuracy: 0.8763736486212901\n",
      "Recall: 0.4446784749244414\n",
      "Precision: 0.6128815614360292\n",
      "F1 Score: 0.4804112544744646\n"
     ]
    }
   ],
   "source": [
    "X_train_val_cat, y_train_val_cat, ps_cat = get_train_val_ps(X_train_cat, y_train, X_val_cat, y_val)\n",
    "params.update({\"depth\": 6, \"l2_leaf_reg\": 3, \"use_best_model\": False})\n",
    "clf_cat = catboost.CatBoostClassifier(**params)\n",
    "\n",
    "clf_cat.fit(X_train_val_cat, y_train_val_cat,\n",
    "             cat_features=cat_pos)\n",
    "\n",
    "display_metrics(clf_cat, X_test_cat, y_test)"
   ]
  },
  {
   "cell_type": "code",
   "execution_count": null,
   "id": "yaK0EFTQfhUO",
   "metadata": {
    "id": "yaK0EFTQfhUO"
   },
   "outputs": [],
   "source": [
    "#clf_cat.save_model('catboost_bestmodel_us.bin')"
   ]
  },
  {
   "cell_type": "code",
   "execution_count": 5,
   "id": "zTox5oSgfn-W",
   "metadata": {
    "colab": {
     "base_uri": "https://localhost:8080/"
    },
    "executionInfo": {
     "elapsed": 692,
     "status": "ok",
     "timestamp": 1711579015749,
     "user": {
      "displayName": "Kentaro Osawa",
      "userId": "00866064059030608685"
     },
     "user_tz": 240
    },
    "id": "zTox5oSgfn-W",
    "outputId": "1ba3b424-595f-412e-fded-7aa7c4c4ed48"
   },
   "outputs": [
    {
     "data": {
      "text/plain": [
       "<catboost.core.CatBoostClassifier at 0x7fa784852ee0>"
      ]
     },
     "execution_count": 5,
     "metadata": {},
     "output_type": "execute_result"
    }
   ],
   "source": [
    "# Load the best model\n",
    "# clf_cat = catboost.CatBoostClassifier()\n",
    "# clf_cat.load_model('catboost_bestmodel_us.bin')"
   ]
  },
  {
   "cell_type": "code",
   "execution_count": 9,
   "id": "c08c5a9d",
   "metadata": {
    "colab": {
     "base_uri": "https://localhost:8080/",
     "height": 1000
    },
    "executionInfo": {
     "elapsed": 6,
     "status": "ok",
     "timestamp": 1711579049223,
     "user": {
      "displayName": "Kentaro Osawa",
      "userId": "00866064059030608685"
     },
     "user_tz": 240
    },
    "id": "c08c5a9d",
    "outputId": "0661e0a1-3b1a-47f6-ea32-f5ee87dc98cf"
   },
   "outputs": [
    {
     "data": {
      "image/png": "[encoded data removed]",
      "text/plain": [
       "<Figure size 720x1440 with 1 Axes>"
      ]
     },
     "metadata": {
      "needs_background": "light"
     },
     "output_type": "display_data"
    }
   ],
   "source": [
    "importances = clf_cat.get_feature_importance()\n",
    "\n",
    "indices = np.argsort(importances)[::-1]\n",
    "sorted_features = [df_train_x.columns[i] for i in indices]\n",
    "sorted_importances = importances[indices]\n",
    "\n",
    "plt.figure(figsize=(10, 20))\n",
    "sns.barplot(x=sorted_importances, y=sorted_features)\n",
    "plt.xlabel('Feature Importance')\n",
    "plt.ylabel('Features')\n",
    "plt.title('CatBoost - Feature Importance')\n",
    "plt.show()"
   ]
  },
  {
   "cell_type": "code",
   "execution_count": null,
   "id": "f5d68c4a",
   "metadata": {},
   "outputs": [],
   "source": []
  }
 ],
 "metadata": {
  "accelerator": "GPU",
  "colab": {
   "gpuType": "T4",
   "provenance": []
  },
  "kernelspec": {
   "display_name": "Python 3 (ipykernel)",
   "language": "python",
   "name": "python3"
  },
  "language_info": {
   "codemirror_mode": {
    "name": "ipython",
    "version": 3
   },
   "file_extension": ".py",
   "mimetype": "text/x-python",
   "name": "python",
   "nbconvert_exporter": "python",
   "pygments_lexer": "ipython3",
   "version": "3.9.7"
  },
  "widgets": {
   "application/vnd.jupyter.widget-state+json": {
    "18b924505121428bad2d44a534c40d4e": {
     "model_module": "catboost-widget",
     "model_module_version": "^1.0.0",
     "model_name": "CatboostWidgetModel",
     "state": {
      "_dom_classes": [],
      "_model_module": "catboost-widget",
      "_model_module_version": "^1.0.0",
      "_model_name": "CatboostWidgetModel",
      "_view_count": null,
      "_view_module": "catboost-widget",
      "_view_module_version": "^1.0.0",
      "_view_name": "CatboostWidgetView",
      "data": {
       "catboost_info": {
        "content": {
         "data": {
          "iterations": [],
          "meta": {}
         },
         "passed_iterations": 0,
         "total_iterations": 0
        },
        "name": "catboost_info",
        "path": "catboost_info"
       }
      },
      "layout": "IPY_MODEL_d89e87ac1aab4daeaa39587dbed2190d"
     }
    },
    "3dfa75f84bae4b1fbfe63f84a4827136": {
     "model_module": "catboost-widget",
     "model_module_version": "^1.0.0",
     "model_name": "CatboostWidgetModel",
     "state": {
      "_dom_classes": [],
      "_model_module": "catboost-widget",
      "_model_module_version": "^1.0.0",
      "_model_name": "CatboostWidgetModel",
      "_view_count": null,
      "_view_module": "catboost-widget",
      "_view_module_version": "^1.0.0",
      "_view_name": "CatboostWidgetView",
      "data": {
       "catboost_info": {
        "content": {
         "data": {
          "iterations": [],
          "meta": {}
         },
         "passed_iterations": 0,
         "total_iterations": 0
        },
        "name": "catboost_info",
        "path": "catboost_info"
       }
      },
      "layout": "IPY_MODEL_bbc232508b0e4a43b8a8f83ee651d78a"
     }
    },
    "63e181eea0a8482fb525d58bdddc9293": {
     "model_module": "catboost-widget",
     "model_module_version": "^1.0.0",
     "model_name": "CatboostWidgetModel",
     "state": {
      "_dom_classes": [],
      "_model_module": "catboost-widget",
      "_model_module_version": "^1.0.0",
      "_model_name": "CatboostWidgetModel",
      "_view_count": null,
      "_view_module": "catboost-widget",
      "_view_module_version": "^1.0.0",
      "_view_name": "CatboostWidgetView",
      "data": {
       "catboost_info": {
        "content": {
         "data": {
          "iterations": [],
          "meta": {}
         },
         "passed_iterations": 0,
         "total_iterations": 0
        },
        "name": "catboost_info",
        "path": "catboost_info"
       }
      },
      "layout": "IPY_MODEL_cb3447a53a924114a322e50d96fad045"
     }
    },
    "67868320831c4dd99acfb99c6a26a5ec": {
     "model_module": "catboost-widget",
     "model_module_version": "^1.0.0",
     "model_name": "CatboostWidgetModel",
     "state": {
      "_dom_classes": [],
      "_model_module": "catboost-widget",
      "_model_module_version": "^1.0.0",
      "_model_name": "CatboostWidgetModel",
      "_view_count": null,
      "_view_module": "catboost-widget",
      "_view_module_version": "^1.0.0",
      "_view_name": "CatboostWidgetView",
      "data": {
       "catboost_info": {
        "content": {
         "data": {
          "iterations": [],
          "meta": {}
         },
         "passed_iterations": 0,
         "total_iterations": 0
        },
        "name": "catboost_info",
        "path": "catboost_info"
       }
      },
      "layout": "IPY_MODEL_cee5b257967d4bf7acdf628dcf118f58"
     }
    },
    "7ce2af377b5d4f24b7b8c414b97c5190": {
     "model_module": "catboost-widget",
     "model_module_version": "^1.0.0",
     "model_name": "CatboostWidgetModel",
     "state": {
      "_dom_classes": [],
      "_model_module": "catboost-widget",
      "_model_module_version": "^1.0.0",
      "_model_name": "CatboostWidgetModel",
      "_view_count": null,
      "_view_module": "catboost-widget",
      "_view_module_version": "^1.0.0",
      "_view_name": "CatboostWidgetView",
      "data": {
       "catboost_info": {
        "content": {
         "data": {
          "iterations": [],
          "meta": {}
         },
         "passed_iterations": 0,
         "total_iterations": 0
        },
        "name": "catboost_info",
        "path": "catboost_info"
       }
      },
      "layout": "IPY_MODEL_521117259ecb4fc48f99d6c4954b9cd5"
     }
    },
    "a221453a60074142ab4a2527c873c547": {
     "model_module": "catboost-widget",
     "model_module_version": "^1.0.0",
     "model_name": "CatboostWidgetModel",
     "state": {
      "_dom_classes": [],
      "_model_module": "catboost-widget",
      "_model_module_version": "^1.0.0",
      "_model_name": "CatboostWidgetModel",
      "_view_count": null,
      "_view_module": "catboost-widget",
      "_view_module_version": "^1.0.0",
      "_view_name": "CatboostWidgetView",
      "data": {
       "catboost_info": {
        "content": {
         "data": {
          "iterations": [],
          "meta": {}
         },
         "passed_iterations": 0,
         "total_iterations": 0
        },
        "name": "catboost_info",
        "path": "catboost_info"
       }
      },
      "layout": "IPY_MODEL_f0c8cff6344b4b7c8146c683e65ce069"
     }
    },
    "bc033311dff64ce59ad704c14db530ab": {
     "model_module": "catboost-widget",
     "model_module_version": "^1.0.0",
     "model_name": "CatboostWidgetModel",
     "state": {
      "_dom_classes": [],
      "_model_module": "catboost-widget",
      "_model_module_version": "^1.0.0",
      "_model_name": "CatboostWidgetModel",
      "_view_count": null,
      "_view_module": "catboost-widget",
      "_view_module_version": "^1.0.0",
      "_view_name": "CatboostWidgetView",
      "data": {
       "catboost_info": {
        "content": {
         "data": {
          "iterations": [],
          "meta": {}
         },
         "passed_iterations": 0,
         "total_iterations": 0
        },
        "name": "catboost_info",
        "path": "catboost_info"
       }
      },
      "layout": "IPY_MODEL_56b060295b8f445395cd903fa8f5c197"
     }
    },
    "c8ce6f5701bb4d449fec8c7722ade47d": {
     "model_module": "catboost-widget",
     "model_module_version": "^1.0.0",
     "model_name": "CatboostWidgetModel",
     "state": {
      "_dom_classes": [],
      "_model_module": "catboost-widget",
      "_model_module_version": "^1.0.0",
      "_model_name": "CatboostWidgetModel",
      "_view_count": null,
      "_view_module": "catboost-widget",
      "_view_module_version": "^1.0.0",
      "_view_name": "CatboostWidgetView",
      "data": {
       "catboost_info": {
        "content": {
         "data": {
          "iterations": [],
          "meta": {}
         },
         "passed_iterations": 0,
         "total_iterations": 0
        },
        "name": "catboost_info",
        "path": "catboost_info"
       }
      },
      "layout": "IPY_MODEL_dd8276bde15444c39026898351f088cd"
     }
    },
    "d67a74254f1f4b589f7f6ef28483509d": {
     "model_module": "catboost-widget",
     "model_module_version": "^1.0.0",
     "model_name": "CatboostWidgetModel",
     "state": {
      "_dom_classes": [],
      "_model_module": "catboost-widget",
      "_model_module_version": "^1.0.0",
      "_model_name": "CatboostWidgetModel",
      "_view_count": null,
      "_view_module": "catboost-widget",
      "_view_module_version": "^1.0.0",
      "_view_name": "CatboostWidgetView",
      "data": {
       "catboost_info": {
        "content": {
         "data": {
          "iterations": [],
          "meta": {}
         },
         "passed_iterations": 0,
         "total_iterations": 0
        },
        "name": "catboost_info",
        "path": "catboost_info"
       }
      },
      "layout": "IPY_MODEL_cdf0c10f3c2e4599b743517ec2ff46bb"
     }
    }
   }
  }
 },
 "nbformat": 4,
 "nbformat_minor": 5
}
