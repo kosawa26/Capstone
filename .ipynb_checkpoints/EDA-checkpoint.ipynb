{
 "cells": [
  {
   "cell_type": "code",
   "execution_count": 1,
   "id": "e84dfea4",
   "metadata": {},
   "outputs": [],
   "source": [
    "import numpy as np\n",
    "import pandas as pd\n",
    "from datetime import datetime"
   ]
  },
  {
   "cell_type": "code",
   "execution_count": 2,
   "id": "a345fc12",
   "metadata": {},
   "outputs": [],
   "source": [
    "# Read the data\n",
    "df = pd.concat([pd.read_csv(f\"Data/Traffic_Crashes_{i}.csv\") for i in range(8)], ignore_index=True)"
   ]
  },
  {
   "cell_type": "code",
   "execution_count": 3,
   "id": "c41d098b",
   "metadata": {},
   "outputs": [
    {
     "name": "stdout",
     "output_type": "stream",
     "text": [
      "# of observations: 799526, # of features: 48\n"
     ]
    }
   ],
   "source": [
    "print(f\"# of observations: {df.shape[0]}, # of features: {df.shape[1]}\")"
   ]
  },
  {
   "cell_type": "code",
   "execution_count": 4,
   "id": "d3f48080",
   "metadata": {},
   "outputs": [
    {
     "name": "stdout",
     "output_type": "stream",
     "text": [
      "CRASH_RECORD_ID                       0\n",
      "CRASH_DATE_EST_I                 739619\n",
      "CRASH_DATE                            0\n",
      "POSTED_SPEED_LIMIT                    0\n",
      "TRAFFIC_CONTROL_DEVICE                0\n",
      "DEVICE_CONDITION                      0\n",
      "WEATHER_CONDITION                     0\n",
      "LIGHTING_CONDITION                    0\n",
      "FIRST_CRASH_TYPE                      0\n",
      "TRAFFICWAY_TYPE                       0\n",
      "LANE_CNT                         600520\n",
      "ALIGNMENT                             0\n",
      "ROADWAY_SURFACE_COND                  0\n",
      "ROAD_DEFECT                           0\n",
      "REPORT_TYPE                       23437\n",
      "CRASH_TYPE                            0\n",
      "INTERSECTION_RELATED_I           616234\n",
      "NOT_RIGHT_OF_WAY_I               762606\n",
      "HIT_AND_RUN_I                    549515\n",
      "DAMAGE                                0\n",
      "DATE_POLICE_NOTIFIED                  0\n",
      "PRIM_CONTRIBUTORY_CAUSE               0\n",
      "SEC_CONTRIBUTORY_CAUSE                0\n",
      "STREET_NO                             0\n",
      "STREET_DIRECTION                      4\n",
      "STREET_NAME                           1\n",
      "BEAT_OF_OCCURRENCE                    5\n",
      "PHOTOS_TAKEN_I                   789082\n",
      "STATEMENTS_TAKEN_I               781844\n",
      "DOORING_I                        797060\n",
      "WORK_ZONE_I                      794912\n",
      "WORK_ZONE_TYPE                   795944\n",
      "WORKERS_PRESENT_I                798344\n",
      "NUM_UNITS                             0\n",
      "MOST_SEVERE_INJURY                 1766\n",
      "INJURIES_TOTAL                     1755\n",
      "INJURIES_FATAL                     1755\n",
      "INJURIES_INCAPACITATING            1755\n",
      "INJURIES_NON_INCAPACITATING        1755\n",
      "INJURIES_REPORTED_NOT_EVIDENT      1755\n",
      "INJURIES_NO_INDICATION             1755\n",
      "INJURIES_UNKNOWN                   1755\n",
      "CRASH_HOUR                            0\n",
      "CRASH_DAY_OF_WEEK                     0\n",
      "CRASH_MONTH                           0\n",
      "LATITUDE                           5445\n",
      "LONGITUDE                          5445\n",
      "LOCATION                           5445\n",
      "dtype: int64\n"
     ]
    }
   ],
   "source": [
    "print(df.isna().sum())"
   ]
  },
  {
   "cell_type": "code",
   "execution_count": 5,
   "id": "d8f5dbd5",
   "metadata": {},
   "outputs": [],
   "source": [
    "date_format = \"%m/%d/%Y %I:%M:%S %p\"\n",
    "date_series = pd.to_datetime(df.CRASH_DATE, format=date_format)\n",
    "df.CRASH_DATE = date_series"
   ]
  },
  {
   "cell_type": "code",
   "execution_count": 6,
   "id": "470a05d0",
   "metadata": {},
   "outputs": [],
   "source": [
    "def datetime_transformer(df, datetime_vars):\n",
    "    \"\"\"\n",
    "    The datetime transformer\n",
    "\n",
    "    Parameters\n",
    "    ----------\n",
    "    df : the dataframe\n",
    "    datetime_vars : the datetime variables\n",
    "    \n",
    "    Returns\n",
    "    ----------\n",
    "    The dataframe where datetime_vars are transformed into the following 6 datetime types:\n",
    "    year, month, day, hour, minute and second\n",
    "    \"\"\"\n",
    "    \n",
    "    # The dictionary with key as datetime type and value as datetime type operator\n",
    "    dict_ = {'year'   : lambda x : x.dt.year,\n",
    "             'month'  : lambda x : x.dt.month,\n",
    "             'day'    : lambda x : x.dt.day,\n",
    "             'hour'   : lambda x : x.dt.hour,\n",
    "             'minute' : lambda x : x.dt.minute,\n",
    "             'second' : lambda x : x.dt.second}\n",
    "    \n",
    "    # Make a copy of df\n",
    "    df_datetime = df.copy(deep=True)\n",
    "    \n",
    "    # For each variable in datetime_vars\n",
    "    for var in datetime_vars:\n",
    "        # Cast the variable to datetime\n",
    "        df_datetime[var] = pd.to_datetime(df_datetime[var])\n",
    "        \n",
    "        # For each item (datetime_type and datetime_type_operator) in dict_\n",
    "        for datetime_type, datetime_type_operator in dict_.items():\n",
    "            # Add a new variable to df_datetime where:\n",
    "            # the variable's name is var + '_' + datetime_type\n",
    "            # the variable's values are the ones obtained by datetime_type_operator\n",
    "            df_datetime[var + '_' + datetime_type] = datetime_type_operator(df_datetime[var])\n",
    "            \n",
    "    # Remove datetime_vars from df_datetime\n",
    "    df_datetime = df_datetime.drop(columns=datetime_vars)\n",
    "                \n",
    "    return df_datetime"
   ]
  },
  {
   "cell_type": "code",
   "execution_count": 7,
   "id": "a473a8c1",
   "metadata": {},
   "outputs": [],
   "source": [
    "df = datetime_transformer(df, [\"CRASH_DATE\"])"
   ]
  },
  {
   "cell_type": "code",
   "execution_count": null,
   "id": "fb57d16f",
   "metadata": {},
   "outputs": [],
   "source": []
  }
 ],
 "metadata": {
  "kernelspec": {
   "display_name": "Python 3 (ipykernel)",
   "language": "python",
   "name": "python3"
  },
  "language_info": {
   "codemirror_mode": {
    "name": "ipython",
    "version": 3
   },
   "file_extension": ".py",
   "mimetype": "text/x-python",
   "name": "python",
   "nbconvert_exporter": "python",
   "pygments_lexer": "ipython3",
   "version": "3.9.7"
  }
 },
 "nbformat": 4,
 "nbformat_minor": 5
}
