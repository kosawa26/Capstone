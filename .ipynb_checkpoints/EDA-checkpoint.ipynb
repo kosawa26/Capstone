{
 "cells": [
  {
   "cell_type": "code",
   "execution_count": 18,
   "id": "e84dfea4",
   "metadata": {},
   "outputs": [],
   "source": [
    "import numpy as np\n",
    "import pandas as pd\n",
    "from toolbox import *"
   ]
  },
  {
   "cell_type": "code",
   "execution_count": 19,
   "id": "a345fc12",
   "metadata": {},
   "outputs": [],
   "source": [
    "# Read the data\n",
    "df = pd.concat([pd.read_csv(f\"Data/Traffic_Crashes_{i}.csv\") for i in range(8)], ignore_index=True)"
   ]
  },
  {
   "cell_type": "markdown",
   "id": "408a0d22",
   "metadata": {},
   "source": [
    "# Data Description"
   ]
  },
  {
   "cell_type": "code",
   "execution_count": 20,
   "id": "c41d098b",
   "metadata": {},
   "outputs": [
    {
     "name": "stdout",
     "output_type": "stream",
     "text": [
      "# of observations: 799526, # of features: 48\n"
     ]
    }
   ],
   "source": [
    "print(f\"# of observations: {df.shape[0]}, # of features: {df.shape[1]}\")"
   ]
  },
  {
   "cell_type": "code",
   "execution_count": 21,
   "id": "ee5b63d8",
   "metadata": {},
   "outputs": [
    {
     "data": {
      "text/plain": [
       "Index(['CRASH_RECORD_ID', 'CRASH_DATE_EST_I', 'CRASH_DATE',\n",
       "       'POSTED_SPEED_LIMIT', 'TRAFFIC_CONTROL_DEVICE', 'DEVICE_CONDITION',\n",
       "       'WEATHER_CONDITION', 'LIGHTING_CONDITION', 'FIRST_CRASH_TYPE',\n",
       "       'TRAFFICWAY_TYPE', 'LANE_CNT', 'ALIGNMENT', 'ROADWAY_SURFACE_COND',\n",
       "       'ROAD_DEFECT', 'REPORT_TYPE', 'CRASH_TYPE', 'INTERSECTION_RELATED_I',\n",
       "       'NOT_RIGHT_OF_WAY_I', 'HIT_AND_RUN_I', 'DAMAGE', 'DATE_POLICE_NOTIFIED',\n",
       "       'PRIM_CONTRIBUTORY_CAUSE', 'SEC_CONTRIBUTORY_CAUSE', 'STREET_NO',\n",
       "       'STREET_DIRECTION', 'STREET_NAME', 'BEAT_OF_OCCURRENCE',\n",
       "       'PHOTOS_TAKEN_I', 'STATEMENTS_TAKEN_I', 'DOORING_I', 'WORK_ZONE_I',\n",
       "       'WORK_ZONE_TYPE', 'WORKERS_PRESENT_I', 'NUM_UNITS',\n",
       "       'MOST_SEVERE_INJURY', 'INJURIES_TOTAL', 'INJURIES_FATAL',\n",
       "       'INJURIES_INCAPACITATING', 'INJURIES_NON_INCAPACITATING',\n",
       "       'INJURIES_REPORTED_NOT_EVIDENT', 'INJURIES_NO_INDICATION',\n",
       "       'INJURIES_UNKNOWN', 'CRASH_HOUR', 'CRASH_DAY_OF_WEEK', 'CRASH_MONTH',\n",
       "       'LATITUDE', 'LONGITUDE', 'LOCATION'],\n",
       "      dtype='object')"
      ]
     },
     "execution_count": 21,
     "metadata": {},
     "output_type": "execute_result"
    }
   ],
   "source": [
    "df.columns"
   ]
  },
  {
   "cell_type": "code",
   "execution_count": 22,
   "id": "d4eaf021",
   "metadata": {},
   "outputs": [
    {
     "data": {
      "text/html": [
       "<div>\n",
       "<style scoped>\n",
       "    .dataframe tbody tr th:only-of-type {\n",
       "        vertical-align: middle;\n",
       "    }\n",
       "\n",
       "    .dataframe tbody tr th {\n",
       "        vertical-align: top;\n",
       "    }\n",
       "\n",
       "    .dataframe thead th {\n",
       "        text-align: right;\n",
       "    }\n",
       "</style>\n",
       "<table border=\"1\" class=\"dataframe\">\n",
       "  <thead>\n",
       "    <tr style=\"text-align: right;\">\n",
       "      <th></th>\n",
       "      <th>POSTED_SPEED_LIMIT</th>\n",
       "      <th>LANE_CNT</th>\n",
       "      <th>STREET_NO</th>\n",
       "      <th>BEAT_OF_OCCURRENCE</th>\n",
       "      <th>NUM_UNITS</th>\n",
       "      <th>INJURIES_TOTAL</th>\n",
       "      <th>INJURIES_FATAL</th>\n",
       "      <th>INJURIES_INCAPACITATING</th>\n",
       "      <th>INJURIES_NON_INCAPACITATING</th>\n",
       "      <th>INJURIES_REPORTED_NOT_EVIDENT</th>\n",
       "      <th>INJURIES_NO_INDICATION</th>\n",
       "      <th>INJURIES_UNKNOWN</th>\n",
       "      <th>CRASH_HOUR</th>\n",
       "      <th>CRASH_DAY_OF_WEEK</th>\n",
       "      <th>CRASH_MONTH</th>\n",
       "      <th>LATITUDE</th>\n",
       "      <th>LONGITUDE</th>\n",
       "    </tr>\n",
       "  </thead>\n",
       "  <tbody>\n",
       "    <tr>\n",
       "      <th>count</th>\n",
       "      <td>799526.000000</td>\n",
       "      <td>1.990060e+05</td>\n",
       "      <td>799526.000000</td>\n",
       "      <td>799521.000000</td>\n",
       "      <td>799526.000000</td>\n",
       "      <td>797771.000000</td>\n",
       "      <td>797771.000000</td>\n",
       "      <td>797771.000000</td>\n",
       "      <td>797771.000000</td>\n",
       "      <td>797771.000000</td>\n",
       "      <td>797771.000000</td>\n",
       "      <td>797771.0</td>\n",
       "      <td>799526.000000</td>\n",
       "      <td>799526.000000</td>\n",
       "      <td>799526.000000</td>\n",
       "      <td>794081.000000</td>\n",
       "      <td>794081.000000</td>\n",
       "    </tr>\n",
       "    <tr>\n",
       "      <th>mean</th>\n",
       "      <td>28.403780</td>\n",
       "      <td>1.333032e+01</td>\n",
       "      <td>3688.695708</td>\n",
       "      <td>1243.135123</td>\n",
       "      <td>2.034823</td>\n",
       "      <td>0.189443</td>\n",
       "      <td>0.001187</td>\n",
       "      <td>0.019997</td>\n",
       "      <td>0.106981</td>\n",
       "      <td>0.061278</td>\n",
       "      <td>2.004076</td>\n",
       "      <td>0.0</td>\n",
       "      <td>13.201700</td>\n",
       "      <td>4.123786</td>\n",
       "      <td>6.756523</td>\n",
       "      <td>41.854820</td>\n",
       "      <td>-87.673497</td>\n",
       "    </tr>\n",
       "    <tr>\n",
       "      <th>std</th>\n",
       "      <td>6.177193</td>\n",
       "      <td>2.961623e+03</td>\n",
       "      <td>2888.049772</td>\n",
       "      <td>705.252405</td>\n",
       "      <td>0.452526</td>\n",
       "      <td>0.565504</td>\n",
       "      <td>0.037333</td>\n",
       "      <td>0.165503</td>\n",
       "      <td>0.421910</td>\n",
       "      <td>0.318553</td>\n",
       "      <td>1.158045</td>\n",
       "      <td>0.0</td>\n",
       "      <td>5.568989</td>\n",
       "      <td>1.980238</td>\n",
       "      <td>3.423399</td>\n",
       "      <td>0.336628</td>\n",
       "      <td>0.684215</td>\n",
       "    </tr>\n",
       "    <tr>\n",
       "      <th>min</th>\n",
       "      <td>0.000000</td>\n",
       "      <td>0.000000e+00</td>\n",
       "      <td>0.000000</td>\n",
       "      <td>111.000000</td>\n",
       "      <td>1.000000</td>\n",
       "      <td>0.000000</td>\n",
       "      <td>0.000000</td>\n",
       "      <td>0.000000</td>\n",
       "      <td>0.000000</td>\n",
       "      <td>0.000000</td>\n",
       "      <td>0.000000</td>\n",
       "      <td>0.0</td>\n",
       "      <td>0.000000</td>\n",
       "      <td>1.000000</td>\n",
       "      <td>1.000000</td>\n",
       "      <td>0.000000</td>\n",
       "      <td>-87.936193</td>\n",
       "    </tr>\n",
       "    <tr>\n",
       "      <th>25%</th>\n",
       "      <td>30.000000</td>\n",
       "      <td>2.000000e+00</td>\n",
       "      <td>1249.000000</td>\n",
       "      <td>714.000000</td>\n",
       "      <td>2.000000</td>\n",
       "      <td>0.000000</td>\n",
       "      <td>0.000000</td>\n",
       "      <td>0.000000</td>\n",
       "      <td>0.000000</td>\n",
       "      <td>0.000000</td>\n",
       "      <td>1.000000</td>\n",
       "      <td>0.0</td>\n",
       "      <td>9.000000</td>\n",
       "      <td>2.000000</td>\n",
       "      <td>4.000000</td>\n",
       "      <td>41.782440</td>\n",
       "      <td>-87.721733</td>\n",
       "    </tr>\n",
       "    <tr>\n",
       "      <th>50%</th>\n",
       "      <td>30.000000</td>\n",
       "      <td>2.000000e+00</td>\n",
       "      <td>3201.000000</td>\n",
       "      <td>1211.000000</td>\n",
       "      <td>2.000000</td>\n",
       "      <td>0.000000</td>\n",
       "      <td>0.000000</td>\n",
       "      <td>0.000000</td>\n",
       "      <td>0.000000</td>\n",
       "      <td>0.000000</td>\n",
       "      <td>2.000000</td>\n",
       "      <td>0.0</td>\n",
       "      <td>14.000000</td>\n",
       "      <td>4.000000</td>\n",
       "      <td>7.000000</td>\n",
       "      <td>41.874778</td>\n",
       "      <td>-87.674114</td>\n",
       "    </tr>\n",
       "    <tr>\n",
       "      <th>75%</th>\n",
       "      <td>30.000000</td>\n",
       "      <td>4.000000e+00</td>\n",
       "      <td>5600.000000</td>\n",
       "      <td>1822.000000</td>\n",
       "      <td>2.000000</td>\n",
       "      <td>0.000000</td>\n",
       "      <td>0.000000</td>\n",
       "      <td>0.000000</td>\n",
       "      <td>0.000000</td>\n",
       "      <td>0.000000</td>\n",
       "      <td>2.000000</td>\n",
       "      <td>0.0</td>\n",
       "      <td>17.000000</td>\n",
       "      <td>6.000000</td>\n",
       "      <td>10.000000</td>\n",
       "      <td>41.924350</td>\n",
       "      <td>-87.633304</td>\n",
       "    </tr>\n",
       "    <tr>\n",
       "      <th>max</th>\n",
       "      <td>99.000000</td>\n",
       "      <td>1.191625e+06</td>\n",
       "      <td>451100.000000</td>\n",
       "      <td>6100.000000</td>\n",
       "      <td>18.000000</td>\n",
       "      <td>21.000000</td>\n",
       "      <td>4.000000</td>\n",
       "      <td>10.000000</td>\n",
       "      <td>21.000000</td>\n",
       "      <td>15.000000</td>\n",
       "      <td>61.000000</td>\n",
       "      <td>0.0</td>\n",
       "      <td>23.000000</td>\n",
       "      <td>7.000000</td>\n",
       "      <td>12.000000</td>\n",
       "      <td>42.022780</td>\n",
       "      <td>0.000000</td>\n",
       "    </tr>\n",
       "  </tbody>\n",
       "</table>\n",
       "</div>"
      ],
      "text/plain": [
       "       POSTED_SPEED_LIMIT      LANE_CNT      STREET_NO  BEAT_OF_OCCURRENCE  \\\n",
       "count       799526.000000  1.990060e+05  799526.000000       799521.000000   \n",
       "mean            28.403780  1.333032e+01    3688.695708         1243.135123   \n",
       "std              6.177193  2.961623e+03    2888.049772          705.252405   \n",
       "min              0.000000  0.000000e+00       0.000000          111.000000   \n",
       "25%             30.000000  2.000000e+00    1249.000000          714.000000   \n",
       "50%             30.000000  2.000000e+00    3201.000000         1211.000000   \n",
       "75%             30.000000  4.000000e+00    5600.000000         1822.000000   \n",
       "max             99.000000  1.191625e+06  451100.000000         6100.000000   \n",
       "\n",
       "           NUM_UNITS  INJURIES_TOTAL  INJURIES_FATAL  INJURIES_INCAPACITATING  \\\n",
       "count  799526.000000   797771.000000   797771.000000            797771.000000   \n",
       "mean        2.034823        0.189443        0.001187                 0.019997   \n",
       "std         0.452526        0.565504        0.037333                 0.165503   \n",
       "min         1.000000        0.000000        0.000000                 0.000000   \n",
       "25%         2.000000        0.000000        0.000000                 0.000000   \n",
       "50%         2.000000        0.000000        0.000000                 0.000000   \n",
       "75%         2.000000        0.000000        0.000000                 0.000000   \n",
       "max        18.000000       21.000000        4.000000                10.000000   \n",
       "\n",
       "       INJURIES_NON_INCAPACITATING  INJURIES_REPORTED_NOT_EVIDENT  \\\n",
       "count                797771.000000                  797771.000000   \n",
       "mean                      0.106981                       0.061278   \n",
       "std                       0.421910                       0.318553   \n",
       "min                       0.000000                       0.000000   \n",
       "25%                       0.000000                       0.000000   \n",
       "50%                       0.000000                       0.000000   \n",
       "75%                       0.000000                       0.000000   \n",
       "max                      21.000000                      15.000000   \n",
       "\n",
       "       INJURIES_NO_INDICATION  INJURIES_UNKNOWN     CRASH_HOUR  \\\n",
       "count           797771.000000          797771.0  799526.000000   \n",
       "mean                 2.004076               0.0      13.201700   \n",
       "std                  1.158045               0.0       5.568989   \n",
       "min                  0.000000               0.0       0.000000   \n",
       "25%                  1.000000               0.0       9.000000   \n",
       "50%                  2.000000               0.0      14.000000   \n",
       "75%                  2.000000               0.0      17.000000   \n",
       "max                 61.000000               0.0      23.000000   \n",
       "\n",
       "       CRASH_DAY_OF_WEEK    CRASH_MONTH       LATITUDE      LONGITUDE  \n",
       "count      799526.000000  799526.000000  794081.000000  794081.000000  \n",
       "mean            4.123786       6.756523      41.854820     -87.673497  \n",
       "std             1.980238       3.423399       0.336628       0.684215  \n",
       "min             1.000000       1.000000       0.000000     -87.936193  \n",
       "25%             2.000000       4.000000      41.782440     -87.721733  \n",
       "50%             4.000000       7.000000      41.874778     -87.674114  \n",
       "75%             6.000000      10.000000      41.924350     -87.633304  \n",
       "max             7.000000      12.000000      42.022780       0.000000  "
      ]
     },
     "execution_count": 22,
     "metadata": {},
     "output_type": "execute_result"
    }
   ],
   "source": [
    "df.describe()"
   ]
  },
  {
   "cell_type": "markdown",
   "id": "687958af",
   "metadata": {},
   "source": [
    "# Preprocessing"
   ]
  },
  {
   "cell_type": "markdown",
   "id": "a88ce32a",
   "metadata": {},
   "source": [
    "## Removing identifiers"
   ]
  },
  {
   "cell_type": "code",
   "execution_count": 23,
   "id": "caae826b",
   "metadata": {},
   "outputs": [],
   "source": [
    "df.drop(columns=['CRASH_RECORD_ID'], inplace=True)"
   ]
  },
  {
   "cell_type": "markdown",
   "id": "f01fa6fd",
   "metadata": {},
   "source": [
    "## Handling date time variables"
   ]
  },
  {
   "cell_type": "code",
   "execution_count": 24,
   "id": "c1cabf7b",
   "metadata": {},
   "outputs": [],
   "source": [
    "df = datetime_transformer(df, [\"CRASH_DATE\"])"
   ]
  },
  {
   "cell_type": "markdown",
   "id": "5a0fad53",
   "metadata": {},
   "source": [
    "## Handling missing value"
   ]
  },
  {
   "cell_type": "code",
   "execution_count": 26,
   "id": "d3f48080",
   "metadata": {},
   "outputs": [
    {
     "data": {
      "text/html": [
       "<div>\n",
       "<style scoped>\n",
       "    .dataframe tbody tr th:only-of-type {\n",
       "        vertical-align: middle;\n",
       "    }\n",
       "\n",
       "    .dataframe tbody tr th {\n",
       "        vertical-align: top;\n",
       "    }\n",
       "\n",
       "    .dataframe thead th {\n",
       "        text-align: right;\n",
       "    }\n",
       "</style>\n",
       "<table border=\"1\" class=\"dataframe\">\n",
       "  <thead>\n",
       "    <tr style=\"text-align: right;\">\n",
       "      <th></th>\n",
       "      <th># of missing value</th>\n",
       "      <th>Percentage of missing value</th>\n",
       "    </tr>\n",
       "  </thead>\n",
       "  <tbody>\n",
       "    <tr>\n",
       "      <th>CRASH_DATE_EST_I</th>\n",
       "      <td>739619.0</td>\n",
       "      <td>92.507186</td>\n",
       "    </tr>\n",
       "    <tr>\n",
       "      <th>LANE_CNT</th>\n",
       "      <td>600520.0</td>\n",
       "      <td>75.109502</td>\n",
       "    </tr>\n",
       "    <tr>\n",
       "      <th>REPORT_TYPE</th>\n",
       "      <td>23437.0</td>\n",
       "      <td>2.931362</td>\n",
       "    </tr>\n",
       "    <tr>\n",
       "      <th>INTERSECTION_RELATED_I</th>\n",
       "      <td>616234.0</td>\n",
       "      <td>77.074917</td>\n",
       "    </tr>\n",
       "    <tr>\n",
       "      <th>NOT_RIGHT_OF_WAY_I</th>\n",
       "      <td>762606.0</td>\n",
       "      <td>95.382264</td>\n",
       "    </tr>\n",
       "    <tr>\n",
       "      <th>HIT_AND_RUN_I</th>\n",
       "      <td>549515.0</td>\n",
       "      <td>68.730098</td>\n",
       "    </tr>\n",
       "    <tr>\n",
       "      <th>STREET_DIRECTION</th>\n",
       "      <td>4.0</td>\n",
       "      <td>0.000500</td>\n",
       "    </tr>\n",
       "    <tr>\n",
       "      <th>STREET_NAME</th>\n",
       "      <td>1.0</td>\n",
       "      <td>0.000125</td>\n",
       "    </tr>\n",
       "    <tr>\n",
       "      <th>BEAT_OF_OCCURRENCE</th>\n",
       "      <td>5.0</td>\n",
       "      <td>0.000625</td>\n",
       "    </tr>\n",
       "    <tr>\n",
       "      <th>PHOTOS_TAKEN_I</th>\n",
       "      <td>789082.0</td>\n",
       "      <td>98.693726</td>\n",
       "    </tr>\n",
       "    <tr>\n",
       "      <th>STATEMENTS_TAKEN_I</th>\n",
       "      <td>781844.0</td>\n",
       "      <td>97.788440</td>\n",
       "    </tr>\n",
       "    <tr>\n",
       "      <th>DOORING_I</th>\n",
       "      <td>797060.0</td>\n",
       "      <td>99.691567</td>\n",
       "    </tr>\n",
       "    <tr>\n",
       "      <th>WORK_ZONE_I</th>\n",
       "      <td>794912.0</td>\n",
       "      <td>99.422908</td>\n",
       "    </tr>\n",
       "    <tr>\n",
       "      <th>WORK_ZONE_TYPE</th>\n",
       "      <td>795944.0</td>\n",
       "      <td>99.551985</td>\n",
       "    </tr>\n",
       "    <tr>\n",
       "      <th>WORKERS_PRESENT_I</th>\n",
       "      <td>798344.0</td>\n",
       "      <td>99.852162</td>\n",
       "    </tr>\n",
       "    <tr>\n",
       "      <th>MOST_SEVERE_INJURY</th>\n",
       "      <td>1766.0</td>\n",
       "      <td>0.220881</td>\n",
       "    </tr>\n",
       "    <tr>\n",
       "      <th>INJURIES_TOTAL</th>\n",
       "      <td>1755.0</td>\n",
       "      <td>0.219505</td>\n",
       "    </tr>\n",
       "    <tr>\n",
       "      <th>INJURIES_FATAL</th>\n",
       "      <td>1755.0</td>\n",
       "      <td>0.219505</td>\n",
       "    </tr>\n",
       "    <tr>\n",
       "      <th>INJURIES_INCAPACITATING</th>\n",
       "      <td>1755.0</td>\n",
       "      <td>0.219505</td>\n",
       "    </tr>\n",
       "    <tr>\n",
       "      <th>INJURIES_NON_INCAPACITATING</th>\n",
       "      <td>1755.0</td>\n",
       "      <td>0.219505</td>\n",
       "    </tr>\n",
       "    <tr>\n",
       "      <th>INJURIES_REPORTED_NOT_EVIDENT</th>\n",
       "      <td>1755.0</td>\n",
       "      <td>0.219505</td>\n",
       "    </tr>\n",
       "    <tr>\n",
       "      <th>INJURIES_NO_INDICATION</th>\n",
       "      <td>1755.0</td>\n",
       "      <td>0.219505</td>\n",
       "    </tr>\n",
       "    <tr>\n",
       "      <th>INJURIES_UNKNOWN</th>\n",
       "      <td>1755.0</td>\n",
       "      <td>0.219505</td>\n",
       "    </tr>\n",
       "    <tr>\n",
       "      <th>LATITUDE</th>\n",
       "      <td>5445.0</td>\n",
       "      <td>0.681029</td>\n",
       "    </tr>\n",
       "    <tr>\n",
       "      <th>LONGITUDE</th>\n",
       "      <td>5445.0</td>\n",
       "      <td>0.681029</td>\n",
       "    </tr>\n",
       "    <tr>\n",
       "      <th>LOCATION</th>\n",
       "      <td>5445.0</td>\n",
       "      <td>0.681029</td>\n",
       "    </tr>\n",
       "  </tbody>\n",
       "</table>\n",
       "</div>"
      ],
      "text/plain": [
       "                               # of missing value  Percentage of missing value\n",
       "CRASH_DATE_EST_I                         739619.0                    92.507186\n",
       "LANE_CNT                                 600520.0                    75.109502\n",
       "REPORT_TYPE                               23437.0                     2.931362\n",
       "INTERSECTION_RELATED_I                   616234.0                    77.074917\n",
       "NOT_RIGHT_OF_WAY_I                       762606.0                    95.382264\n",
       "HIT_AND_RUN_I                            549515.0                    68.730098\n",
       "STREET_DIRECTION                              4.0                     0.000500\n",
       "STREET_NAME                                   1.0                     0.000125\n",
       "BEAT_OF_OCCURRENCE                            5.0                     0.000625\n",
       "PHOTOS_TAKEN_I                           789082.0                    98.693726\n",
       "STATEMENTS_TAKEN_I                       781844.0                    97.788440\n",
       "DOORING_I                                797060.0                    99.691567\n",
       "WORK_ZONE_I                              794912.0                    99.422908\n",
       "WORK_ZONE_TYPE                           795944.0                    99.551985\n",
       "WORKERS_PRESENT_I                        798344.0                    99.852162\n",
       "MOST_SEVERE_INJURY                         1766.0                     0.220881\n",
       "INJURIES_TOTAL                             1755.0                     0.219505\n",
       "INJURIES_FATAL                             1755.0                     0.219505\n",
       "INJURIES_INCAPACITATING                    1755.0                     0.219505\n",
       "INJURIES_NON_INCAPACITATING                1755.0                     0.219505\n",
       "INJURIES_REPORTED_NOT_EVIDENT              1755.0                     0.219505\n",
       "INJURIES_NO_INDICATION                     1755.0                     0.219505\n",
       "INJURIES_UNKNOWN                           1755.0                     0.219505\n",
       "LATITUDE                                   5445.0                     0.681029\n",
       "LONGITUDE                                  5445.0                     0.681029\n",
       "LOCATION                                   5445.0                     0.681029"
      ]
     },
     "execution_count": 26,
     "metadata": {},
     "output_type": "execute_result"
    }
   ],
   "source": [
    "# show features with missing values and its counts and percentage\n",
    "miss_num = df.isna().sum()[df.isna().sum() > 0]\n",
    "miss_ratio = miss_num * 100 / df.shape[0]\n",
    "df_miss = pd.DataFrame(data=[miss_num, miss_ratio], index=[\"# of missing value\", \"Percentage of missing value\"]).T\n",
    "df_miss"
   ]
  },
  {
   "cell_type": "code",
   "execution_count": 27,
   "id": "398f569c",
   "metadata": {},
   "outputs": [],
   "source": [
    "# drop columns with more than 50% missing values\n",
    "df.drop(columns=miss_ratio[miss_ratio > 50].index, inplace=True)\n",
    "\n",
    "# drop 'REPORT_TYPE' because this would not be a factor in the severity\n",
    "df.drop(columns=[\"REPORT_TYPE\"], inplace=True)\n",
    "\n",
    "# drop rows with missing value\n",
    "df.dropna(axis=0, inplace=True)"
   ]
  },
  {
   "cell_type": "markdown",
   "id": "5f8a5788",
   "metadata": {},
   "source": [
    "## Removing constant features and redundant features\n",
    "* Removing constant features, which means features with only one value.\n",
    "* Removing redunadat features:\n",
    "    * \"CRASH_HOUR\" is the same as \"CRASH_DATE_hour\"\n",
    "    * \"CRASH_MONTH\" is the same as \"CRASH_DATE_month\""
   ]
  },
  {
   "cell_type": "code",
   "execution_count": 40,
   "id": "fb57d16f",
   "metadata": {},
   "outputs": [],
   "source": [
    "# remove constant features\n",
    "const_features = df.nunique()[df.nunique()==1].index\n",
    "df.drop(columns=const_features, inplace=True)\n",
    "\n",
    "# remove redundant features: CRASH_HOUR, CRASH_MONTH\n",
    "df.drop(columns=[\"CRASH_HOUR\", \"CRASH_MONTH\"], inplace=True)"
   ]
  },
  {
   "cell_type": "code",
   "execution_count": 47,
   "id": "c66318fe",
   "metadata": {},
   "outputs": [
    {
     "data": {
      "text/plain": [
       "0.21861033947014033"
      ]
     },
     "execution_count": 47,
     "metadata": {},
     "output_type": "execute_result"
    }
   ],
   "source": [
    "df[(df.TRAFFIC_CONTROL_DEVICE==\"UNKNOWN\") | \n",
    "   (df.DEVICE_CONDITION==\"UNKNOWN\") | \n",
    "   (df.WEATHER_CONDITION==\"UNKNOWN\") | \n",
    "   (df.LIGHTING_CONDITION==\"UNKNOWN\") |\n",
    "   (df.ROADWAY_SURFACE_COND==\"UNKNOWN\") |\n",
    "   (df.ROAD_DEFECT==\"UNKNOWN\")].shape[0] / df.shape[0]"
   ]
  },
  {
   "cell_type": "code",
   "execution_count": 44,
   "id": "c2f0aad4",
   "metadata": {},
   "outputs": [
    {
     "data": {
      "text/plain": [
       "54607"
      ]
     },
     "execution_count": 44,
     "metadata": {},
     "output_type": "execute_result"
    }
   ],
   "source": [
    "df[(df.TRAFFIC_CONTROL_DEVICE==\"UNKNOWN\") | (df.DEVICE_CONDITION==\"UNKNOWN\")].shape[0]"
   ]
  },
  {
   "cell_type": "markdown",
   "id": "2851d567",
   "metadata": {},
   "source": [
    "## Removing unreliable observations"
   ]
  },
  {
   "cell_type": "code",
   "execution_count": 59,
   "id": "1f55ebb9",
   "metadata": {},
   "outputs": [
    {
     "name": "stdout",
     "output_type": "stream",
     "text": [
      "CRASH_DATE_year min: 2013 max: 2024\n",
      "CRASH_DATE_month min: 1 max: 12\n",
      "CRASH_DATE_day min: 1 max: 31\n",
      "CRASH_DATE_hour min: 0 max: 23\n",
      "CRASH_DATE_minute min: 0 max: 59\n"
     ]
    }
   ],
   "source": [
    "for feature in [\"CRASH_DATE_year\", \"CRASH_DATE_month\", \"CRASH_DATE_day\", \"CRASH_DATE_hour\", \"CRASH_DATE_minute\"]:\n",
    "    print(feature, f\"min: {df[feature].min()}\", f\"max: {df[feature].max()}\")"
   ]
  },
  {
   "cell_type": "code",
   "execution_count": 64,
   "id": "d165e154",
   "metadata": {},
   "outputs": [],
   "source": [
    "df.drop(index=df[(df.CRASH_DATE_year==2013) | (df.CRASH_DATE_year==2014)].index, inplace=True)"
   ]
  },
  {
   "cell_type": "markdown",
   "id": "fddbd23e",
   "metadata": {},
   "source": [
    "# EDA"
   ]
  },
  {
   "cell_type": "code",
   "execution_count": 65,
   "id": "4a117c26",
   "metadata": {},
   "outputs": [],
   "source": [
    "import matplotlib.pyplot as plt\n",
    "import seaborn as sns"
   ]
  },
  {
   "cell_type": "code",
   "execution_count": 95,
   "id": "d7467977",
   "metadata": {},
   "outputs": [
    {
     "data": {
      "image/png": "[encoded data removed]",
      "text/plain": [
       "<Figure size 864x288 with 2 Axes>"
      ]
     },
     "metadata": {
      "needs_background": "light"
     },
     "output_type": "display_data"
    }
   ],
   "source": [
    "fig, axes = plt.subplots(1,2, figsize=(12, 4))\n",
    "sns.histplot(df.CRASH_DATE_year, discrete=True, shrink=0.8, ax=axes[0])\n",
    "axes[0].set_xticks(range(2015, 2025))\n",
    "axes[0].set_xlabel(\"Year\")\n",
    "axes[0].set_title(\"Counts of traffic crashes vs. Year\")\n",
    "sns.histplot(df.CRASH_DATE_month, discrete=True, shrink=0.8, ax=axes[1])\n",
    "axes[1].set_xticks(range(1, 13))\n",
    "axes[1].set_xlabel(\"Month\")\n",
    "axes[1].set_title(\"Counts of traffic crashes vs. Month\")\n",
    "plt.show()"
   ]
  },
  {
   "cell_type": "code",
   "execution_count": 84,
   "id": "3a271f43",
   "metadata": {},
   "outputs": [
    {
     "data": {
      "image/png": "[encoded data removed]",
      "text/plain": [
       "<Figure size 432x288 with 1 Axes>"
      ]
     },
     "metadata": {
      "needs_background": "light"
     },
     "output_type": "display_data"
    }
   ],
   "source": [
    "sns.histplot(df.INJURIES_TOTAL, discrete=True, shrink=0.8)\n",
    "plt.title(\"Histogram of total injuries\")\n",
    "plt.show()"
   ]
  },
  {
   "cell_type": "code",
   "execution_count": 85,
   "id": "835df5f3",
   "metadata": {},
   "outputs": [
    {
     "data": {
      "image/png": "[encoded data removed]",
      "text/plain": [
       "<Figure size 432x288 with 1 Axes>"
      ]
     },
     "metadata": {
      "needs_background": "light"
     },
     "output_type": "display_data"
    }
   ],
   "source": [
    "sns.histplot(df.INJURIES_FATAL, discrete=True, shrink=0.8)\n",
    "plt.title(\"Histogram of fatal injuries\")\n",
    "plt.show()"
   ]
  },
  {
   "cell_type": "code",
   "execution_count": null,
   "id": "84ccaf86",
   "metadata": {},
   "outputs": [],
   "source": []
  }
 ],
 "metadata": {
  "kernelspec": {
   "display_name": "Python 3 (ipykernel)",
   "language": "python",
   "name": "python3"
  },
  "language_info": {
   "codemirror_mode": {
    "name": "ipython",
    "version": 3
   },
   "file_extension": ".py",
   "mimetype": "text/x-python",
   "name": "python",
   "nbconvert_exporter": "python",
   "pygments_lexer": "ipython3",
   "version": "3.9.7"
  }
 },
 "nbformat": 4,
 "nbformat_minor": 5
}
