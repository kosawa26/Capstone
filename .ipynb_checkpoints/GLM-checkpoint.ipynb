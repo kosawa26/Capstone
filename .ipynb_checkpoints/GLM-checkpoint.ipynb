{
 "cells": [
  {
   "cell_type": "markdown",
   "id": "1abfbe4f",
   "metadata": {},
   "source": [
    "# Generalized Linear Models for Traffic Accident Counts\n",
    "In this notebook, GLM for the count of traffic crashes will be developed."
   ]
  },
  {
   "cell_type": "code",
   "execution_count": 113,
   "id": "e84dfea4",
   "metadata": {},
   "outputs": [],
   "source": [
    "import numpy as np\n",
    "import pandas as pd\n",
    "import geopandas as gpd\n",
    "import geodatasets\n",
    "import matplotlib.pyplot as plt\n",
    "import seaborn as sns\n",
    "from shapely.geometry import Point, MultiPolygon\n",
    "from shapely.wkt import loads\n",
    "from toolbox import *"
   ]
  },
  {
   "cell_type": "markdown",
   "id": "3943df12",
   "metadata": {},
   "source": [
    "## Read Dataset\n",
    "The dataset is obtained from Chicago Data Potal."
   ]
  },
  {
   "cell_type": "code",
   "execution_count": 114,
   "id": "a345fc12",
   "metadata": {},
   "outputs": [],
   "source": [
    "# Read the data\n",
    "df = pd.concat([pd.read_csv(f\"Data/Traffic_Crashes_{i}.csv\") for i in range(8)], ignore_index=True)"
   ]
  },
  {
   "cell_type": "markdown",
   "id": "408a0d22",
   "metadata": {},
   "source": [
    "## Data Description\n",
    "In the following, the basic information of the original dataset will be shown."
   ]
  },
  {
   "cell_type": "code",
   "execution_count": 115,
   "id": "c41d098b",
   "metadata": {},
   "outputs": [
    {
     "name": "stdout",
     "output_type": "stream",
     "text": [
      "# of observations: 799526, # of features: 48\n"
     ]
    }
   ],
   "source": [
    "print(f\"# of observations: {df.shape[0]}, # of features: {df.shape[1]}\")"
   ]
  },
  {
   "cell_type": "code",
   "execution_count": 116,
   "id": "ee5b63d8",
   "metadata": {},
   "outputs": [
    {
     "data": {
      "text/html": [
       "<div>\n",
       "<style scoped>\n",
       "    .dataframe tbody tr th:only-of-type {\n",
       "        vertical-align: middle;\n",
       "    }\n",
       "\n",
       "    .dataframe tbody tr th {\n",
       "        vertical-align: top;\n",
       "    }\n",
       "\n",
       "    .dataframe thead th {\n",
       "        text-align: right;\n",
       "    }\n",
       "</style>\n",
       "<table border=\"1\" class=\"dataframe\">\n",
       "  <thead>\n",
       "    <tr style=\"text-align: right;\">\n",
       "      <th></th>\n",
       "      <th>CRASH_RECORD_ID</th>\n",
       "      <th>CRASH_DATE_EST_I</th>\n",
       "      <th>CRASH_DATE</th>\n",
       "      <th>POSTED_SPEED_LIMIT</th>\n",
       "      <th>TRAFFIC_CONTROL_DEVICE</th>\n",
       "      <th>DEVICE_CONDITION</th>\n",
       "      <th>WEATHER_CONDITION</th>\n",
       "      <th>LIGHTING_CONDITION</th>\n",
       "      <th>FIRST_CRASH_TYPE</th>\n",
       "      <th>TRAFFICWAY_TYPE</th>\n",
       "      <th>LANE_CNT</th>\n",
       "      <th>ALIGNMENT</th>\n",
       "      <th>ROADWAY_SURFACE_COND</th>\n",
       "      <th>ROAD_DEFECT</th>\n",
       "      <th>REPORT_TYPE</th>\n",
       "      <th>CRASH_TYPE</th>\n",
       "      <th>INTERSECTION_RELATED_I</th>\n",
       "      <th>NOT_RIGHT_OF_WAY_I</th>\n",
       "      <th>HIT_AND_RUN_I</th>\n",
       "      <th>DAMAGE</th>\n",
       "      <th>DATE_POLICE_NOTIFIED</th>\n",
       "      <th>PRIM_CONTRIBUTORY_CAUSE</th>\n",
       "      <th>SEC_CONTRIBUTORY_CAUSE</th>\n",
       "      <th>STREET_NO</th>\n",
       "      <th>STREET_DIRECTION</th>\n",
       "      <th>STREET_NAME</th>\n",
       "      <th>BEAT_OF_OCCURRENCE</th>\n",
       "      <th>PHOTOS_TAKEN_I</th>\n",
       "      <th>STATEMENTS_TAKEN_I</th>\n",
       "      <th>DOORING_I</th>\n",
       "      <th>WORK_ZONE_I</th>\n",
       "      <th>WORK_ZONE_TYPE</th>\n",
       "      <th>WORKERS_PRESENT_I</th>\n",
       "      <th>NUM_UNITS</th>\n",
       "      <th>MOST_SEVERE_INJURY</th>\n",
       "      <th>INJURIES_TOTAL</th>\n",
       "      <th>INJURIES_FATAL</th>\n",
       "      <th>INJURIES_INCAPACITATING</th>\n",
       "      <th>INJURIES_NON_INCAPACITATING</th>\n",
       "      <th>INJURIES_REPORTED_NOT_EVIDENT</th>\n",
       "      <th>INJURIES_NO_INDICATION</th>\n",
       "      <th>INJURIES_UNKNOWN</th>\n",
       "      <th>CRASH_HOUR</th>\n",
       "      <th>CRASH_DAY_OF_WEEK</th>\n",
       "      <th>CRASH_MONTH</th>\n",
       "      <th>LATITUDE</th>\n",
       "      <th>LONGITUDE</th>\n",
       "      <th>LOCATION</th>\n",
       "    </tr>\n",
       "  </thead>\n",
       "  <tbody>\n",
       "    <tr>\n",
       "      <th>0</th>\n",
       "      <td>6c1659069e9c6285a650e70d6f9b574ed5f64c12888479...</td>\n",
       "      <td>NaN</td>\n",
       "      <td>08/18/2023 12:50:00 PM</td>\n",
       "      <td>15</td>\n",
       "      <td>OTHER</td>\n",
       "      <td>FUNCTIONING PROPERLY</td>\n",
       "      <td>CLEAR</td>\n",
       "      <td>DAYLIGHT</td>\n",
       "      <td>REAR END</td>\n",
       "      <td>OTHER</td>\n",
       "      <td>NaN</td>\n",
       "      <td>STRAIGHT AND LEVEL</td>\n",
       "      <td>DRY</td>\n",
       "      <td>NO DEFECTS</td>\n",
       "      <td>ON SCENE</td>\n",
       "      <td>INJURY AND / OR TOW DUE TO CRASH</td>\n",
       "      <td>NaN</td>\n",
       "      <td>NaN</td>\n",
       "      <td>NaN</td>\n",
       "      <td>OVER $1,500</td>\n",
       "      <td>08/18/2023 12:55:00 PM</td>\n",
       "      <td>FOLLOWING TOO CLOSELY</td>\n",
       "      <td>DISTRACTION - FROM INSIDE VEHICLE</td>\n",
       "      <td>700</td>\n",
       "      <td>W</td>\n",
       "      <td>OHARE ST</td>\n",
       "      <td>1654.0</td>\n",
       "      <td>NaN</td>\n",
       "      <td>NaN</td>\n",
       "      <td>NaN</td>\n",
       "      <td>NaN</td>\n",
       "      <td>NaN</td>\n",
       "      <td>NaN</td>\n",
       "      <td>2</td>\n",
       "      <td>NONINCAPACITATING INJURY</td>\n",
       "      <td>1.0</td>\n",
       "      <td>0.0</td>\n",
       "      <td>0.0</td>\n",
       "      <td>1.0</td>\n",
       "      <td>0.0</td>\n",
       "      <td>1.0</td>\n",
       "      <td>0.0</td>\n",
       "      <td>12</td>\n",
       "      <td>6</td>\n",
       "      <td>8</td>\n",
       "      <td>NaN</td>\n",
       "      <td>NaN</td>\n",
       "      <td>NaN</td>\n",
       "    </tr>\n",
       "    <tr>\n",
       "      <th>1</th>\n",
       "      <td>5f54a59fcb087b12ae5b1acff96a3caf4f2d37e79f8db4...</td>\n",
       "      <td>NaN</td>\n",
       "      <td>07/29/2023 02:45:00 PM</td>\n",
       "      <td>30</td>\n",
       "      <td>TRAFFIC SIGNAL</td>\n",
       "      <td>FUNCTIONING PROPERLY</td>\n",
       "      <td>CLEAR</td>\n",
       "      <td>DAYLIGHT</td>\n",
       "      <td>PARKED MOTOR VEHICLE</td>\n",
       "      <td>DIVIDED - W/MEDIAN (NOT RAISED)</td>\n",
       "      <td>NaN</td>\n",
       "      <td>STRAIGHT AND LEVEL</td>\n",
       "      <td>DRY</td>\n",
       "      <td>NO DEFECTS</td>\n",
       "      <td>ON SCENE</td>\n",
       "      <td>NO INJURY / DRIVE AWAY</td>\n",
       "      <td>NaN</td>\n",
       "      <td>NaN</td>\n",
       "      <td>Y</td>\n",
       "      <td>OVER $1,500</td>\n",
       "      <td>07/29/2023 02:45:00 PM</td>\n",
       "      <td>FAILING TO REDUCE SPEED TO AVOID CRASH</td>\n",
       "      <td>OPERATING VEHICLE IN ERRATIC, RECKLESS, CARELE...</td>\n",
       "      <td>2101</td>\n",
       "      <td>S</td>\n",
       "      <td>ASHLAND AVE</td>\n",
       "      <td>1235.0</td>\n",
       "      <td>NaN</td>\n",
       "      <td>NaN</td>\n",
       "      <td>NaN</td>\n",
       "      <td>NaN</td>\n",
       "      <td>NaN</td>\n",
       "      <td>NaN</td>\n",
       "      <td>4</td>\n",
       "      <td>NO INDICATION OF INJURY</td>\n",
       "      <td>0.0</td>\n",
       "      <td>0.0</td>\n",
       "      <td>0.0</td>\n",
       "      <td>0.0</td>\n",
       "      <td>0.0</td>\n",
       "      <td>1.0</td>\n",
       "      <td>0.0</td>\n",
       "      <td>14</td>\n",
       "      <td>7</td>\n",
       "      <td>7</td>\n",
       "      <td>41.854120</td>\n",
       "      <td>-87.665902</td>\n",
       "      <td>POINT (-87.665902342962 41.854120262952)</td>\n",
       "    </tr>\n",
       "    <tr>\n",
       "      <th>2</th>\n",
       "      <td>61fcb8c1eb522a6469b460e2134df3d15f82e81fd93e9c...</td>\n",
       "      <td>NaN</td>\n",
       "      <td>08/18/2023 05:58:00 PM</td>\n",
       "      <td>30</td>\n",
       "      <td>NO CONTROLS</td>\n",
       "      <td>NO CONTROLS</td>\n",
       "      <td>CLEAR</td>\n",
       "      <td>DAYLIGHT</td>\n",
       "      <td>PEDALCYCLIST</td>\n",
       "      <td>NOT DIVIDED</td>\n",
       "      <td>NaN</td>\n",
       "      <td>STRAIGHT AND LEVEL</td>\n",
       "      <td>DRY</td>\n",
       "      <td>NO DEFECTS</td>\n",
       "      <td>ON SCENE</td>\n",
       "      <td>INJURY AND / OR TOW DUE TO CRASH</td>\n",
       "      <td>NaN</td>\n",
       "      <td>NaN</td>\n",
       "      <td>NaN</td>\n",
       "      <td>$501 - $1,500</td>\n",
       "      <td>08/18/2023 06:01:00 PM</td>\n",
       "      <td>FAILING TO REDUCE SPEED TO AVOID CRASH</td>\n",
       "      <td>UNABLE TO DETERMINE</td>\n",
       "      <td>3422</td>\n",
       "      <td>N</td>\n",
       "      <td>LONG AVE</td>\n",
       "      <td>1633.0</td>\n",
       "      <td>NaN</td>\n",
       "      <td>NaN</td>\n",
       "      <td>NaN</td>\n",
       "      <td>NaN</td>\n",
       "      <td>NaN</td>\n",
       "      <td>NaN</td>\n",
       "      <td>2</td>\n",
       "      <td>NONINCAPACITATING INJURY</td>\n",
       "      <td>1.0</td>\n",
       "      <td>0.0</td>\n",
       "      <td>0.0</td>\n",
       "      <td>1.0</td>\n",
       "      <td>0.0</td>\n",
       "      <td>1.0</td>\n",
       "      <td>0.0</td>\n",
       "      <td>17</td>\n",
       "      <td>6</td>\n",
       "      <td>8</td>\n",
       "      <td>41.942976</td>\n",
       "      <td>-87.761883</td>\n",
       "      <td>POINT (-87.761883496974 41.942975745006)</td>\n",
       "    </tr>\n",
       "    <tr>\n",
       "      <th>3</th>\n",
       "      <td>004cd14d0303a9163aad69a2d7f341b7da2a8572b2ab33...</td>\n",
       "      <td>NaN</td>\n",
       "      <td>11/26/2019 08:38:00 AM</td>\n",
       "      <td>25</td>\n",
       "      <td>NO CONTROLS</td>\n",
       "      <td>NO CONTROLS</td>\n",
       "      <td>CLEAR</td>\n",
       "      <td>DAYLIGHT</td>\n",
       "      <td>PEDESTRIAN</td>\n",
       "      <td>ONE-WAY</td>\n",
       "      <td>NaN</td>\n",
       "      <td>CURVE ON GRADE</td>\n",
       "      <td>DRY</td>\n",
       "      <td>NO DEFECTS</td>\n",
       "      <td>ON SCENE</td>\n",
       "      <td>INJURY AND / OR TOW DUE TO CRASH</td>\n",
       "      <td>NaN</td>\n",
       "      <td>NaN</td>\n",
       "      <td>NaN</td>\n",
       "      <td>OVER $1,500</td>\n",
       "      <td>11/26/2019 08:38:00 AM</td>\n",
       "      <td>UNABLE TO DETERMINE</td>\n",
       "      <td>NOT APPLICABLE</td>\n",
       "      <td>5</td>\n",
       "      <td>W</td>\n",
       "      <td>TERMINAL ST</td>\n",
       "      <td>1655.0</td>\n",
       "      <td>Y</td>\n",
       "      <td>Y</td>\n",
       "      <td>NaN</td>\n",
       "      <td>NaN</td>\n",
       "      <td>NaN</td>\n",
       "      <td>NaN</td>\n",
       "      <td>2</td>\n",
       "      <td>FATAL</td>\n",
       "      <td>1.0</td>\n",
       "      <td>1.0</td>\n",
       "      <td>0.0</td>\n",
       "      <td>0.0</td>\n",
       "      <td>0.0</td>\n",
       "      <td>1.0</td>\n",
       "      <td>0.0</td>\n",
       "      <td>8</td>\n",
       "      <td>3</td>\n",
       "      <td>11</td>\n",
       "      <td>NaN</td>\n",
       "      <td>NaN</td>\n",
       "      <td>NaN</td>\n",
       "    </tr>\n",
       "    <tr>\n",
       "      <th>4</th>\n",
       "      <td>a1d5f0ea90897745365a4cbb06cc60329a120d89753fac...</td>\n",
       "      <td>NaN</td>\n",
       "      <td>08/18/2023 10:45:00 AM</td>\n",
       "      <td>20</td>\n",
       "      <td>NO CONTROLS</td>\n",
       "      <td>NO CONTROLS</td>\n",
       "      <td>CLEAR</td>\n",
       "      <td>DAYLIGHT</td>\n",
       "      <td>FIXED OBJECT</td>\n",
       "      <td>OTHER</td>\n",
       "      <td>NaN</td>\n",
       "      <td>STRAIGHT AND LEVEL</td>\n",
       "      <td>DRY</td>\n",
       "      <td>NO DEFECTS</td>\n",
       "      <td>ON SCENE</td>\n",
       "      <td>NO INJURY / DRIVE AWAY</td>\n",
       "      <td>NaN</td>\n",
       "      <td>NaN</td>\n",
       "      <td>NaN</td>\n",
       "      <td>OVER $1,500</td>\n",
       "      <td>08/18/2023 10:48:00 AM</td>\n",
       "      <td>FOLLOWING TOO CLOSELY</td>\n",
       "      <td>DRIVING SKILLS/KNOWLEDGE/EXPERIENCE</td>\n",
       "      <td>3</td>\n",
       "      <td>W</td>\n",
       "      <td>TERMINAL ST</td>\n",
       "      <td>1653.0</td>\n",
       "      <td>NaN</td>\n",
       "      <td>NaN</td>\n",
       "      <td>NaN</td>\n",
       "      <td>NaN</td>\n",
       "      <td>NaN</td>\n",
       "      <td>NaN</td>\n",
       "      <td>1</td>\n",
       "      <td>NO INDICATION OF INJURY</td>\n",
       "      <td>0.0</td>\n",
       "      <td>0.0</td>\n",
       "      <td>0.0</td>\n",
       "      <td>0.0</td>\n",
       "      <td>0.0</td>\n",
       "      <td>1.0</td>\n",
       "      <td>0.0</td>\n",
       "      <td>10</td>\n",
       "      <td>6</td>\n",
       "      <td>8</td>\n",
       "      <td>NaN</td>\n",
       "      <td>NaN</td>\n",
       "      <td>NaN</td>\n",
       "    </tr>\n",
       "  </tbody>\n",
       "</table>\n",
       "</div>"
      ],
      "text/plain": [
       "                                     CRASH_RECORD_ID CRASH_DATE_EST_I  \\\n",
       "0  6c1659069e9c6285a650e70d6f9b574ed5f64c12888479...              NaN   \n",
       "1  5f54a59fcb087b12ae5b1acff96a3caf4f2d37e79f8db4...              NaN   \n",
       "2  61fcb8c1eb522a6469b460e2134df3d15f82e81fd93e9c...              NaN   \n",
       "3  004cd14d0303a9163aad69a2d7f341b7da2a8572b2ab33...              NaN   \n",
       "4  a1d5f0ea90897745365a4cbb06cc60329a120d89753fac...              NaN   \n",
       "\n",
       "               CRASH_DATE  POSTED_SPEED_LIMIT TRAFFIC_CONTROL_DEVICE  \\\n",
       "0  08/18/2023 12:50:00 PM                  15                  OTHER   \n",
       "1  07/29/2023 02:45:00 PM                  30         TRAFFIC SIGNAL   \n",
       "2  08/18/2023 05:58:00 PM                  30            NO CONTROLS   \n",
       "3  11/26/2019 08:38:00 AM                  25            NO CONTROLS   \n",
       "4  08/18/2023 10:45:00 AM                  20            NO CONTROLS   \n",
       "\n",
       "       DEVICE_CONDITION WEATHER_CONDITION LIGHTING_CONDITION  \\\n",
       "0  FUNCTIONING PROPERLY             CLEAR           DAYLIGHT   \n",
       "1  FUNCTIONING PROPERLY             CLEAR           DAYLIGHT   \n",
       "2           NO CONTROLS             CLEAR           DAYLIGHT   \n",
       "3           NO CONTROLS             CLEAR           DAYLIGHT   \n",
       "4           NO CONTROLS             CLEAR           DAYLIGHT   \n",
       "\n",
       "       FIRST_CRASH_TYPE                  TRAFFICWAY_TYPE  LANE_CNT  \\\n",
       "0              REAR END                            OTHER       NaN   \n",
       "1  PARKED MOTOR VEHICLE  DIVIDED - W/MEDIAN (NOT RAISED)       NaN   \n",
       "2          PEDALCYCLIST                      NOT DIVIDED       NaN   \n",
       "3            PEDESTRIAN                          ONE-WAY       NaN   \n",
       "4          FIXED OBJECT                            OTHER       NaN   \n",
       "\n",
       "            ALIGNMENT ROADWAY_SURFACE_COND ROAD_DEFECT REPORT_TYPE  \\\n",
       "0  STRAIGHT AND LEVEL                  DRY  NO DEFECTS    ON SCENE   \n",
       "1  STRAIGHT AND LEVEL                  DRY  NO DEFECTS    ON SCENE   \n",
       "2  STRAIGHT AND LEVEL                  DRY  NO DEFECTS    ON SCENE   \n",
       "3      CURVE ON GRADE                  DRY  NO DEFECTS    ON SCENE   \n",
       "4  STRAIGHT AND LEVEL                  DRY  NO DEFECTS    ON SCENE   \n",
       "\n",
       "                         CRASH_TYPE INTERSECTION_RELATED_I NOT_RIGHT_OF_WAY_I  \\\n",
       "0  INJURY AND / OR TOW DUE TO CRASH                    NaN                NaN   \n",
       "1            NO INJURY / DRIVE AWAY                    NaN                NaN   \n",
       "2  INJURY AND / OR TOW DUE TO CRASH                    NaN                NaN   \n",
       "3  INJURY AND / OR TOW DUE TO CRASH                    NaN                NaN   \n",
       "4            NO INJURY / DRIVE AWAY                    NaN                NaN   \n",
       "\n",
       "  HIT_AND_RUN_I         DAMAGE    DATE_POLICE_NOTIFIED  \\\n",
       "0           NaN    OVER $1,500  08/18/2023 12:55:00 PM   \n",
       "1             Y    OVER $1,500  07/29/2023 02:45:00 PM   \n",
       "2           NaN  $501 - $1,500  08/18/2023 06:01:00 PM   \n",
       "3           NaN    OVER $1,500  11/26/2019 08:38:00 AM   \n",
       "4           NaN    OVER $1,500  08/18/2023 10:48:00 AM   \n",
       "\n",
       "                  PRIM_CONTRIBUTORY_CAUSE  \\\n",
       "0                   FOLLOWING TOO CLOSELY   \n",
       "1  FAILING TO REDUCE SPEED TO AVOID CRASH   \n",
       "2  FAILING TO REDUCE SPEED TO AVOID CRASH   \n",
       "3                     UNABLE TO DETERMINE   \n",
       "4                   FOLLOWING TOO CLOSELY   \n",
       "\n",
       "                              SEC_CONTRIBUTORY_CAUSE  STREET_NO  \\\n",
       "0                  DISTRACTION - FROM INSIDE VEHICLE        700   \n",
       "1  OPERATING VEHICLE IN ERRATIC, RECKLESS, CARELE...       2101   \n",
       "2                                UNABLE TO DETERMINE       3422   \n",
       "3                                     NOT APPLICABLE          5   \n",
       "4                DRIVING SKILLS/KNOWLEDGE/EXPERIENCE          3   \n",
       "\n",
       "  STREET_DIRECTION  STREET_NAME  BEAT_OF_OCCURRENCE PHOTOS_TAKEN_I  \\\n",
       "0                W     OHARE ST              1654.0            NaN   \n",
       "1                S  ASHLAND AVE              1235.0            NaN   \n",
       "2                N     LONG AVE              1633.0            NaN   \n",
       "3                W  TERMINAL ST              1655.0              Y   \n",
       "4                W  TERMINAL ST              1653.0            NaN   \n",
       "\n",
       "  STATEMENTS_TAKEN_I DOORING_I WORK_ZONE_I WORK_ZONE_TYPE WORKERS_PRESENT_I  \\\n",
       "0                NaN       NaN         NaN            NaN               NaN   \n",
       "1                NaN       NaN         NaN            NaN               NaN   \n",
       "2                NaN       NaN         NaN            NaN               NaN   \n",
       "3                  Y       NaN         NaN            NaN               NaN   \n",
       "4                NaN       NaN         NaN            NaN               NaN   \n",
       "\n",
       "   NUM_UNITS        MOST_SEVERE_INJURY  INJURIES_TOTAL  INJURIES_FATAL  \\\n",
       "0          2  NONINCAPACITATING INJURY             1.0             0.0   \n",
       "1          4   NO INDICATION OF INJURY             0.0             0.0   \n",
       "2          2  NONINCAPACITATING INJURY             1.0             0.0   \n",
       "3          2                     FATAL             1.0             1.0   \n",
       "4          1   NO INDICATION OF INJURY             0.0             0.0   \n",
       "\n",
       "   INJURIES_INCAPACITATING  INJURIES_NON_INCAPACITATING  \\\n",
       "0                      0.0                          1.0   \n",
       "1                      0.0                          0.0   \n",
       "2                      0.0                          1.0   \n",
       "3                      0.0                          0.0   \n",
       "4                      0.0                          0.0   \n",
       "\n",
       "   INJURIES_REPORTED_NOT_EVIDENT  INJURIES_NO_INDICATION  INJURIES_UNKNOWN  \\\n",
       "0                            0.0                     1.0               0.0   \n",
       "1                            0.0                     1.0               0.0   \n",
       "2                            0.0                     1.0               0.0   \n",
       "3                            0.0                     1.0               0.0   \n",
       "4                            0.0                     1.0               0.0   \n",
       "\n",
       "   CRASH_HOUR  CRASH_DAY_OF_WEEK  CRASH_MONTH   LATITUDE  LONGITUDE  \\\n",
       "0          12                  6            8        NaN        NaN   \n",
       "1          14                  7            7  41.854120 -87.665902   \n",
       "2          17                  6            8  41.942976 -87.761883   \n",
       "3           8                  3           11        NaN        NaN   \n",
       "4          10                  6            8        NaN        NaN   \n",
       "\n",
       "                                   LOCATION  \n",
       "0                                       NaN  \n",
       "1  POINT (-87.665902342962 41.854120262952)  \n",
       "2  POINT (-87.761883496974 41.942975745006)  \n",
       "3                                       NaN  \n",
       "4                                       NaN  "
      ]
     },
     "execution_count": 116,
     "metadata": {},
     "output_type": "execute_result"
    }
   ],
   "source": [
    "pd.set_option('display.max_columns', None)\n",
    "df.head()"
   ]
  },
  {
   "cell_type": "code",
   "execution_count": 117,
   "id": "d4eaf021",
   "metadata": {},
   "outputs": [
    {
     "data": {
      "text/html": [
       "<div>\n",
       "<style scoped>\n",
       "    .dataframe tbody tr th:only-of-type {\n",
       "        vertical-align: middle;\n",
       "    }\n",
       "\n",
       "    .dataframe tbody tr th {\n",
       "        vertical-align: top;\n",
       "    }\n",
       "\n",
       "    .dataframe thead th {\n",
       "        text-align: right;\n",
       "    }\n",
       "</style>\n",
       "<table border=\"1\" class=\"dataframe\">\n",
       "  <thead>\n",
       "    <tr style=\"text-align: right;\">\n",
       "      <th></th>\n",
       "      <th>POSTED_SPEED_LIMIT</th>\n",
       "      <th>LANE_CNT</th>\n",
       "      <th>STREET_NO</th>\n",
       "      <th>BEAT_OF_OCCURRENCE</th>\n",
       "      <th>NUM_UNITS</th>\n",
       "      <th>INJURIES_TOTAL</th>\n",
       "      <th>INJURIES_FATAL</th>\n",
       "      <th>INJURIES_INCAPACITATING</th>\n",
       "      <th>INJURIES_NON_INCAPACITATING</th>\n",
       "      <th>INJURIES_REPORTED_NOT_EVIDENT</th>\n",
       "      <th>INJURIES_NO_INDICATION</th>\n",
       "      <th>INJURIES_UNKNOWN</th>\n",
       "      <th>CRASH_HOUR</th>\n",
       "      <th>CRASH_DAY_OF_WEEK</th>\n",
       "      <th>CRASH_MONTH</th>\n",
       "      <th>LATITUDE</th>\n",
       "      <th>LONGITUDE</th>\n",
       "    </tr>\n",
       "  </thead>\n",
       "  <tbody>\n",
       "    <tr>\n",
       "      <th>count</th>\n",
       "      <td>799526.000000</td>\n",
       "      <td>1.990060e+05</td>\n",
       "      <td>799526.000000</td>\n",
       "      <td>799521.000000</td>\n",
       "      <td>799526.000000</td>\n",
       "      <td>797771.000000</td>\n",
       "      <td>797771.000000</td>\n",
       "      <td>797771.000000</td>\n",
       "      <td>797771.000000</td>\n",
       "      <td>797771.000000</td>\n",
       "      <td>797771.000000</td>\n",
       "      <td>797771.0</td>\n",
       "      <td>799526.000000</td>\n",
       "      <td>799526.000000</td>\n",
       "      <td>799526.000000</td>\n",
       "      <td>794081.000000</td>\n",
       "      <td>794081.000000</td>\n",
       "    </tr>\n",
       "    <tr>\n",
       "      <th>mean</th>\n",
       "      <td>28.403780</td>\n",
       "      <td>1.333032e+01</td>\n",
       "      <td>3688.695708</td>\n",
       "      <td>1243.135123</td>\n",
       "      <td>2.034823</td>\n",
       "      <td>0.189443</td>\n",
       "      <td>0.001187</td>\n",
       "      <td>0.019997</td>\n",
       "      <td>0.106981</td>\n",
       "      <td>0.061278</td>\n",
       "      <td>2.004076</td>\n",
       "      <td>0.0</td>\n",
       "      <td>13.201700</td>\n",
       "      <td>4.123786</td>\n",
       "      <td>6.756523</td>\n",
       "      <td>41.854820</td>\n",
       "      <td>-87.673497</td>\n",
       "    </tr>\n",
       "    <tr>\n",
       "      <th>std</th>\n",
       "      <td>6.177193</td>\n",
       "      <td>2.961623e+03</td>\n",
       "      <td>2888.049772</td>\n",
       "      <td>705.252405</td>\n",
       "      <td>0.452526</td>\n",
       "      <td>0.565504</td>\n",
       "      <td>0.037333</td>\n",
       "      <td>0.165503</td>\n",
       "      <td>0.421910</td>\n",
       "      <td>0.318553</td>\n",
       "      <td>1.158045</td>\n",
       "      <td>0.0</td>\n",
       "      <td>5.568989</td>\n",
       "      <td>1.980238</td>\n",
       "      <td>3.423399</td>\n",
       "      <td>0.336628</td>\n",
       "      <td>0.684215</td>\n",
       "    </tr>\n",
       "    <tr>\n",
       "      <th>min</th>\n",
       "      <td>0.000000</td>\n",
       "      <td>0.000000e+00</td>\n",
       "      <td>0.000000</td>\n",
       "      <td>111.000000</td>\n",
       "      <td>1.000000</td>\n",
       "      <td>0.000000</td>\n",
       "      <td>0.000000</td>\n",
       "      <td>0.000000</td>\n",
       "      <td>0.000000</td>\n",
       "      <td>0.000000</td>\n",
       "      <td>0.000000</td>\n",
       "      <td>0.0</td>\n",
       "      <td>0.000000</td>\n",
       "      <td>1.000000</td>\n",
       "      <td>1.000000</td>\n",
       "      <td>0.000000</td>\n",
       "      <td>-87.936193</td>\n",
       "    </tr>\n",
       "    <tr>\n",
       "      <th>25%</th>\n",
       "      <td>30.000000</td>\n",
       "      <td>2.000000e+00</td>\n",
       "      <td>1249.000000</td>\n",
       "      <td>714.000000</td>\n",
       "      <td>2.000000</td>\n",
       "      <td>0.000000</td>\n",
       "      <td>0.000000</td>\n",
       "      <td>0.000000</td>\n",
       "      <td>0.000000</td>\n",
       "      <td>0.000000</td>\n",
       "      <td>1.000000</td>\n",
       "      <td>0.0</td>\n",
       "      <td>9.000000</td>\n",
       "      <td>2.000000</td>\n",
       "      <td>4.000000</td>\n",
       "      <td>41.782440</td>\n",
       "      <td>-87.721733</td>\n",
       "    </tr>\n",
       "    <tr>\n",
       "      <th>50%</th>\n",
       "      <td>30.000000</td>\n",
       "      <td>2.000000e+00</td>\n",
       "      <td>3201.000000</td>\n",
       "      <td>1211.000000</td>\n",
       "      <td>2.000000</td>\n",
       "      <td>0.000000</td>\n",
       "      <td>0.000000</td>\n",
       "      <td>0.000000</td>\n",
       "      <td>0.000000</td>\n",
       "      <td>0.000000</td>\n",
       "      <td>2.000000</td>\n",
       "      <td>0.0</td>\n",
       "      <td>14.000000</td>\n",
       "      <td>4.000000</td>\n",
       "      <td>7.000000</td>\n",
       "      <td>41.874778</td>\n",
       "      <td>-87.674114</td>\n",
       "    </tr>\n",
       "    <tr>\n",
       "      <th>75%</th>\n",
       "      <td>30.000000</td>\n",
       "      <td>4.000000e+00</td>\n",
       "      <td>5600.000000</td>\n",
       "      <td>1822.000000</td>\n",
       "      <td>2.000000</td>\n",
       "      <td>0.000000</td>\n",
       "      <td>0.000000</td>\n",
       "      <td>0.000000</td>\n",
       "      <td>0.000000</td>\n",
       "      <td>0.000000</td>\n",
       "      <td>2.000000</td>\n",
       "      <td>0.0</td>\n",
       "      <td>17.000000</td>\n",
       "      <td>6.000000</td>\n",
       "      <td>10.000000</td>\n",
       "      <td>41.924350</td>\n",
       "      <td>-87.633304</td>\n",
       "    </tr>\n",
       "    <tr>\n",
       "      <th>max</th>\n",
       "      <td>99.000000</td>\n",
       "      <td>1.191625e+06</td>\n",
       "      <td>451100.000000</td>\n",
       "      <td>6100.000000</td>\n",
       "      <td>18.000000</td>\n",
       "      <td>21.000000</td>\n",
       "      <td>4.000000</td>\n",
       "      <td>10.000000</td>\n",
       "      <td>21.000000</td>\n",
       "      <td>15.000000</td>\n",
       "      <td>61.000000</td>\n",
       "      <td>0.0</td>\n",
       "      <td>23.000000</td>\n",
       "      <td>7.000000</td>\n",
       "      <td>12.000000</td>\n",
       "      <td>42.022780</td>\n",
       "      <td>0.000000</td>\n",
       "    </tr>\n",
       "  </tbody>\n",
       "</table>\n",
       "</div>"
      ],
      "text/plain": [
       "       POSTED_SPEED_LIMIT      LANE_CNT      STREET_NO  BEAT_OF_OCCURRENCE  \\\n",
       "count       799526.000000  1.990060e+05  799526.000000       799521.000000   \n",
       "mean            28.403780  1.333032e+01    3688.695708         1243.135123   \n",
       "std              6.177193  2.961623e+03    2888.049772          705.252405   \n",
       "min              0.000000  0.000000e+00       0.000000          111.000000   \n",
       "25%             30.000000  2.000000e+00    1249.000000          714.000000   \n",
       "50%             30.000000  2.000000e+00    3201.000000         1211.000000   \n",
       "75%             30.000000  4.000000e+00    5600.000000         1822.000000   \n",
       "max             99.000000  1.191625e+06  451100.000000         6100.000000   \n",
       "\n",
       "           NUM_UNITS  INJURIES_TOTAL  INJURIES_FATAL  INJURIES_INCAPACITATING  \\\n",
       "count  799526.000000   797771.000000   797771.000000            797771.000000   \n",
       "mean        2.034823        0.189443        0.001187                 0.019997   \n",
       "std         0.452526        0.565504        0.037333                 0.165503   \n",
       "min         1.000000        0.000000        0.000000                 0.000000   \n",
       "25%         2.000000        0.000000        0.000000                 0.000000   \n",
       "50%         2.000000        0.000000        0.000000                 0.000000   \n",
       "75%         2.000000        0.000000        0.000000                 0.000000   \n",
       "max        18.000000       21.000000        4.000000                10.000000   \n",
       "\n",
       "       INJURIES_NON_INCAPACITATING  INJURIES_REPORTED_NOT_EVIDENT  \\\n",
       "count                797771.000000                  797771.000000   \n",
       "mean                      0.106981                       0.061278   \n",
       "std                       0.421910                       0.318553   \n",
       "min                       0.000000                       0.000000   \n",
       "25%                       0.000000                       0.000000   \n",
       "50%                       0.000000                       0.000000   \n",
       "75%                       0.000000                       0.000000   \n",
       "max                      21.000000                      15.000000   \n",
       "\n",
       "       INJURIES_NO_INDICATION  INJURIES_UNKNOWN     CRASH_HOUR  \\\n",
       "count           797771.000000          797771.0  799526.000000   \n",
       "mean                 2.004076               0.0      13.201700   \n",
       "std                  1.158045               0.0       5.568989   \n",
       "min                  0.000000               0.0       0.000000   \n",
       "25%                  1.000000               0.0       9.000000   \n",
       "50%                  2.000000               0.0      14.000000   \n",
       "75%                  2.000000               0.0      17.000000   \n",
       "max                 61.000000               0.0      23.000000   \n",
       "\n",
       "       CRASH_DAY_OF_WEEK    CRASH_MONTH       LATITUDE      LONGITUDE  \n",
       "count      799526.000000  799526.000000  794081.000000  794081.000000  \n",
       "mean            4.123786       6.756523      41.854820     -87.673497  \n",
       "std             1.980238       3.423399       0.336628       0.684215  \n",
       "min             1.000000       1.000000       0.000000     -87.936193  \n",
       "25%             2.000000       4.000000      41.782440     -87.721733  \n",
       "50%             4.000000       7.000000      41.874778     -87.674114  \n",
       "75%             6.000000      10.000000      41.924350     -87.633304  \n",
       "max             7.000000      12.000000      42.022780       0.000000  "
      ]
     },
     "execution_count": 117,
     "metadata": {},
     "output_type": "execute_result"
    }
   ],
   "source": [
    "df.describe()"
   ]
  },
  {
   "cell_type": "markdown",
   "id": "687958af",
   "metadata": {},
   "source": [
    "## Preprocessing"
   ]
  },
  {
   "cell_type": "markdown",
   "id": "c5555f52",
   "metadata": {},
   "source": [
    "### Reducing demension\n",
    "* To create GLM, we need to create a count data from the original data.\n",
    "* Creating the count data lead to aggregating the original data.\n",
    "* We will drop features which cannot be aggregated in advance."
   ]
  },
  {
   "cell_type": "code",
   "execution_count": 118,
   "id": "77a9ccad",
   "metadata": {},
   "outputs": [],
   "source": [
    "df = df[[\"CRASH_DATE\", \"INJURIES_TOTAL\", \"INJURIES_FATAL\", \"CRASH_DAY_OF_WEEK\", \"LATITUDE\", \"LONGITUDE\"]]"
   ]
  },
  {
   "cell_type": "markdown",
   "id": "f01fa6fd",
   "metadata": {},
   "source": [
    "### Handling date time variables\n",
    "* Deviding the variable \"**CRASH_DATE**\" into separete date time variables: \"**CRASH_DATE_year**\", \"**CRASH_DATE_month**\", \"**CRASH_DATE_day**\", \"**CRASH_DATE_hour**\", \"**CRASH_DATE_minute**\", \"**CRASH_DATE_second**\""
   ]
  },
  {
   "cell_type": "code",
   "execution_count": 119,
   "id": "c1cabf7b",
   "metadata": {},
   "outputs": [],
   "source": [
    "df = datetime_transformer(df, [\"CRASH_DATE\"])"
   ]
  },
  {
   "cell_type": "markdown",
   "id": "dc496632",
   "metadata": {},
   "source": [
    "### Removing obsevations prior to September 2017\n",
    "* The observations are collected from 2015, but the observations from 2015 to August 2017 are collected from a part of the city."
   ]
  },
  {
   "cell_type": "code",
   "execution_count": 120,
   "id": "f0be0c88",
   "metadata": {},
   "outputs": [],
   "source": [
    "df.drop(index=df[(df.CRASH_DATE_year<2016)].index, inplace=True)\n",
    "df.drop(index=df[(df.CRASH_DATE_year==2017) & (df.CRASH_DATE_month<=8)].index, inplace=True)"
   ]
  },
  {
   "cell_type": "markdown",
   "id": "b5b0aab8",
   "metadata": {},
   "source": [
    "### Handling missing value\n",
    "* Removing observations with any missing values."
   ]
  },
  {
   "cell_type": "code",
   "execution_count": 121,
   "id": "d3f48080",
   "metadata": {},
   "outputs": [
    {
     "data": {
      "text/html": [
       "<div>\n",
       "<style scoped>\n",
       "    .dataframe tbody tr th:only-of-type {\n",
       "        vertical-align: middle;\n",
       "    }\n",
       "\n",
       "    .dataframe tbody tr th {\n",
       "        vertical-align: top;\n",
       "    }\n",
       "\n",
       "    .dataframe thead th {\n",
       "        text-align: right;\n",
       "    }\n",
       "</style>\n",
       "<table border=\"1\" class=\"dataframe\">\n",
       "  <thead>\n",
       "    <tr style=\"text-align: right;\">\n",
       "      <th></th>\n",
       "      <th># of missing value</th>\n",
       "      <th>Percentage of missing value</th>\n",
       "    </tr>\n",
       "  </thead>\n",
       "  <tbody>\n",
       "    <tr>\n",
       "      <th>INJURIES_TOTAL</th>\n",
       "      <td>1674.0</td>\n",
       "      <td>0.224823</td>\n",
       "    </tr>\n",
       "    <tr>\n",
       "      <th>INJURIES_FATAL</th>\n",
       "      <td>1674.0</td>\n",
       "      <td>0.224823</td>\n",
       "    </tr>\n",
       "    <tr>\n",
       "      <th>LATITUDE</th>\n",
       "      <td>5216.0</td>\n",
       "      <td>0.700524</td>\n",
       "    </tr>\n",
       "    <tr>\n",
       "      <th>LONGITUDE</th>\n",
       "      <td>5216.0</td>\n",
       "      <td>0.700524</td>\n",
       "    </tr>\n",
       "  </tbody>\n",
       "</table>\n",
       "</div>"
      ],
      "text/plain": [
       "                # of missing value  Percentage of missing value\n",
       "INJURIES_TOTAL              1674.0                     0.224823\n",
       "INJURIES_FATAL              1674.0                     0.224823\n",
       "LATITUDE                    5216.0                     0.700524\n",
       "LONGITUDE                   5216.0                     0.700524"
      ]
     },
     "execution_count": 121,
     "metadata": {},
     "output_type": "execute_result"
    }
   ],
   "source": [
    "# show features with missing values and its counts and percentage\n",
    "miss_num = df.isna().sum()[df.isna().sum() > 0]\n",
    "miss_ratio = miss_num * 100 / df.shape[0]\n",
    "df_miss = pd.DataFrame(data=[miss_num, miss_ratio], index=[\"# of missing value\", \"Percentage of missing value\"]).T\n",
    "df_miss"
   ]
  },
  {
   "cell_type": "code",
   "execution_count": 122,
   "id": "398f569c",
   "metadata": {},
   "outputs": [],
   "source": [
    "# drop rows with missing value\n",
    "df.dropna(axis=0, inplace=True)"
   ]
  },
  {
   "cell_type": "markdown",
   "id": "e003e1c5",
   "metadata": {},
   "source": [
    "### Removing constant features\n",
    "* Removing constant features, which means features with only one value."
   ]
  },
  {
   "cell_type": "code",
   "execution_count": 123,
   "id": "fb57d16f",
   "metadata": {},
   "outputs": [],
   "source": [
    "# remove constant features\n",
    "const_features = df.nunique()[df.nunique()==1].index\n",
    "df.drop(columns=const_features, inplace=True)"
   ]
  },
  {
   "cell_type": "markdown",
   "id": "5da0b9d5",
   "metadata": {},
   "source": [
    "### Removing unreliable observations\n",
    "* There are some unreliable values in \"CRASH_DATE_year\", \"LONGITUDE\", and \"LATITUDE\".\n",
    "* The observations containing unrealiable values will be removed."
   ]
  },
  {
   "cell_type": "code",
   "execution_count": 124,
   "id": "affe0fb4",
   "metadata": {},
   "outputs": [
    {
     "data": {
      "image/png": "[encoded data removed]",
      "text/plain": [
       "<Figure size 432x288 with 1 Axes>"
      ]
     },
     "metadata": {
      "needs_background": "light"
     },
     "output_type": "display_data"
    }
   ],
   "source": [
    "plt.scatter(df.LONGITUDE, df.LATITUDE)\n",
    "plt.xlabel(\"Longitude\")\n",
    "plt.ylabel(\"Latitude\")\n",
    "plt.title(\"Scatter plot of the location of each traffic crashes\")\n",
    "plt.show()"
   ]
  },
  {
   "cell_type": "markdown",
   "id": "f03b8489",
   "metadata": {},
   "source": [
    "Chicago is a city in the U.S., so the data in the bottom right in the above graph have errors in their location information."
   ]
  },
  {
   "cell_type": "code",
   "execution_count": 125,
   "id": "ef38f5f1",
   "metadata": {},
   "outputs": [],
   "source": [
    "df.drop(index=df[df.LATITUDE < 10].index, inplace=True)"
   ]
  },
  {
   "cell_type": "markdown",
   "id": "48a4f58f",
   "metadata": {},
   "source": [
    "### Feature Engineering\n",
    "* Creating the target variable \"**Severity**\" from \"**INJURIES_TOTAL**\" and \"**INJURIES_FATAL**\".  \n",
    "* \"Severity\" has three levels:  \n",
    "    * 3: \"INJURIES_TOTAL\" $>=3$ or \"INJURIES_FATAL\" $>= 1$  \n",
    "    * 2: $1<=$ \"INJURIES_TOTAL\" $<=2$  \n",
    "    * 1: \"INJURIES_TOTAL\" $=0$"
   ]
  },
  {
   "cell_type": "code",
   "execution_count": 126,
   "id": "91a3b23c",
   "metadata": {},
   "outputs": [],
   "source": [
    "df = create_severity(df)"
   ]
  },
  {
   "cell_type": "markdown",
   "id": "90ab1e57",
   "metadata": {},
   "source": [
    "* Creating a new feature, which value is community area name in the city of Chicago"
   ]
  },
  {
   "cell_type": "code",
   "execution_count": 127,
   "id": "7043ad2b",
   "metadata": {},
   "outputs": [],
   "source": [
    "# read community area data\n",
    "df_comm = pd.read_csv(\"Data/CommAreas.csv\")\n",
    "\n",
    "# convert the data type of 'the_geom' into the appropriate type: Multipolygon \n",
    "df_comm['the_geom'] = df_comm['the_geom'].apply(loads)\n",
    "\n",
    "# Create Point object\n",
    "geometry = [Point(xy) for xy in zip(df['LONGITUDE'], df['LATITUDE'])]\n",
    "\n",
    "# Create GeoDataFrame\n",
    "gdf = gpd.GeoDataFrame(df, geometry=geometry)\n",
    "\n",
    "series_comm = pd.Series([np.nan]*gdf.shape[0], index=gdf.index)\n",
    "gdf_geom = gdf.geometry\n",
    "df_comm_geom = gpd.GeoSeries(df_comm.the_geom)\n",
    "for i in range(gdf.shape[0]):\n",
    "    temp = df_comm_geom.contains(gdf_geom.iloc[i])\n",
    "    if np.any(temp):\n",
    "        series_comm.iloc[i] = df_comm.COMMUNITY[temp[temp==True].index[0]]\n",
    "        \n",
    "df[\"Community_area\"] = series_comm"
   ]
  },
  {
   "cell_type": "markdown",
   "id": "29528b9f",
   "metadata": {},
   "source": [
    "### Removing observations outside of Chicago city\n",
    "* Removing observations in which the traffic crashes occured outside of Chicago city"
   ]
  },
  {
   "cell_type": "code",
   "execution_count": 128,
   "id": "5dc80030",
   "metadata": {},
   "outputs": [
    {
     "data": {
      "text/plain": [
       "329"
      ]
     },
     "execution_count": 128,
     "metadata": {},
     "output_type": "execute_result"
    }
   ],
   "source": [
    "# show the number of observations outside of Chicago city\n",
    "df.Community_area.isna().sum()"
   ]
  },
  {
   "cell_type": "code",
   "execution_count": 129,
   "id": "4f233f99",
   "metadata": {},
   "outputs": [],
   "source": [
    "# remove observations outside of Chicago city\n",
    "df.dropna(axis=0, inplace=True)"
   ]
  },
  {
   "cell_type": "code",
   "execution_count": 130,
   "id": "dd19a3b3",
   "metadata": {},
   "outputs": [
    {
     "data": {
      "text/html": [
       "<div>\n",
       "<style scoped>\n",
       "    .dataframe tbody tr th:only-of-type {\n",
       "        vertical-align: middle;\n",
       "    }\n",
       "\n",
       "    .dataframe tbody tr th {\n",
       "        vertical-align: top;\n",
       "    }\n",
       "\n",
       "    .dataframe thead th {\n",
       "        text-align: right;\n",
       "    }\n",
       "</style>\n",
       "<table border=\"1\" class=\"dataframe\">\n",
       "  <thead>\n",
       "    <tr style=\"text-align: right;\">\n",
       "      <th></th>\n",
       "      <th>INJURIES_TOTAL</th>\n",
       "      <th>INJURIES_FATAL</th>\n",
       "      <th>CRASH_DAY_OF_WEEK</th>\n",
       "      <th>LATITUDE</th>\n",
       "      <th>LONGITUDE</th>\n",
       "      <th>CRASH_DATE_year</th>\n",
       "      <th>CRASH_DATE_month</th>\n",
       "      <th>CRASH_DATE_day</th>\n",
       "      <th>CRASH_DATE_hour</th>\n",
       "      <th>CRASH_DATE_minute</th>\n",
       "      <th>Severity</th>\n",
       "      <th>Community_area</th>\n",
       "    </tr>\n",
       "  </thead>\n",
       "  <tbody>\n",
       "    <tr>\n",
       "      <th>1</th>\n",
       "      <td>0.0</td>\n",
       "      <td>0.0</td>\n",
       "      <td>7</td>\n",
       "      <td>41.854120</td>\n",
       "      <td>-87.665902</td>\n",
       "      <td>2023</td>\n",
       "      <td>7</td>\n",
       "      <td>29</td>\n",
       "      <td>14</td>\n",
       "      <td>45</td>\n",
       "      <td>1</td>\n",
       "      <td>LOWER WEST SIDE</td>\n",
       "    </tr>\n",
       "    <tr>\n",
       "      <th>2</th>\n",
       "      <td>1.0</td>\n",
       "      <td>0.0</td>\n",
       "      <td>6</td>\n",
       "      <td>41.942976</td>\n",
       "      <td>-87.761883</td>\n",
       "      <td>2023</td>\n",
       "      <td>8</td>\n",
       "      <td>18</td>\n",
       "      <td>17</td>\n",
       "      <td>58</td>\n",
       "      <td>2</td>\n",
       "      <td>PORTAGE PARK</td>\n",
       "    </tr>\n",
       "    <tr>\n",
       "      <th>13</th>\n",
       "      <td>0.0</td>\n",
       "      <td>0.0</td>\n",
       "      <td>7</td>\n",
       "      <td>41.809781</td>\n",
       "      <td>-87.594213</td>\n",
       "      <td>2023</td>\n",
       "      <td>7</td>\n",
       "      <td>29</td>\n",
       "      <td>14</td>\n",
       "      <td>30</td>\n",
       "      <td>1</td>\n",
       "      <td>KENWOOD</td>\n",
       "    </tr>\n",
       "    <tr>\n",
       "      <th>14</th>\n",
       "      <td>0.0</td>\n",
       "      <td>0.0</td>\n",
       "      <td>7</td>\n",
       "      <td>41.899225</td>\n",
       "      <td>-87.696642</td>\n",
       "      <td>2023</td>\n",
       "      <td>7</td>\n",
       "      <td>29</td>\n",
       "      <td>0</td>\n",
       "      <td>50</td>\n",
       "      <td>1</td>\n",
       "      <td>WEST TOWN</td>\n",
       "    </tr>\n",
       "    <tr>\n",
       "      <th>20</th>\n",
       "      <td>0.0</td>\n",
       "      <td>0.0</td>\n",
       "      <td>4</td>\n",
       "      <td>41.744152</td>\n",
       "      <td>-87.585945</td>\n",
       "      <td>2023</td>\n",
       "      <td>9</td>\n",
       "      <td>20</td>\n",
       "      <td>12</td>\n",
       "      <td>57</td>\n",
       "      <td>1</td>\n",
       "      <td>AVALON PARK</td>\n",
       "    </tr>\n",
       "  </tbody>\n",
       "</table>\n",
       "</div>"
      ],
      "text/plain": [
       "    INJURIES_TOTAL  INJURIES_FATAL  CRASH_DAY_OF_WEEK   LATITUDE  LONGITUDE  \\\n",
       "1              0.0             0.0                  7  41.854120 -87.665902   \n",
       "2              1.0             0.0                  6  41.942976 -87.761883   \n",
       "13             0.0             0.0                  7  41.809781 -87.594213   \n",
       "14             0.0             0.0                  7  41.899225 -87.696642   \n",
       "20             0.0             0.0                  4  41.744152 -87.585945   \n",
       "\n",
       "    CRASH_DATE_year  CRASH_DATE_month  CRASH_DATE_day  CRASH_DATE_hour  \\\n",
       "1              2023                 7              29               14   \n",
       "2              2023                 8              18               17   \n",
       "13             2023                 7              29               14   \n",
       "14             2023                 7              29                0   \n",
       "20             2023                 9              20               12   \n",
       "\n",
       "    CRASH_DATE_minute  Severity   Community_area  \n",
       "1                  45         1  LOWER WEST SIDE  \n",
       "2                  58         2     PORTAGE PARK  \n",
       "13                 30         1          KENWOOD  \n",
       "14                 50         1        WEST TOWN  \n",
       "20                 57         1      AVALON PARK  "
      ]
     },
     "execution_count": 130,
     "metadata": {},
     "output_type": "execute_result"
    }
   ],
   "source": [
    "df.head()"
   ]
  },
  {
   "cell_type": "markdown",
   "id": "2c517ab9",
   "metadata": {},
   "source": [
    "### Creating a new data frame\n",
    "* creating a new data frame used for developing GLM\n",
    "* The new data frame contains \"Year\", \"Month\", \"Day\", \"Time_frame\", \"Day_of_week\", \"Severity\", \"Community_area\", and \"Count\" as its features"
   ]
  },
  {
   "cell_type": "code",
   "execution_count": 131,
   "id": "efcf454c",
   "metadata": {},
   "outputs": [],
   "source": [
    "df_agg = create_count_df(create_initial_df(df, 2017, 9, 1, 2024, 1, 22), df)"
   ]
  },
  {
   "cell_type": "code",
   "execution_count": 132,
   "id": "1b59993c",
   "metadata": {},
   "outputs": [
    {
     "data": {
      "text/html": [
       "<div>\n",
       "<style scoped>\n",
       "    .dataframe tbody tr th:only-of-type {\n",
       "        vertical-align: middle;\n",
       "    }\n",
       "\n",
       "    .dataframe tbody tr th {\n",
       "        vertical-align: top;\n",
       "    }\n",
       "\n",
       "    .dataframe thead th {\n",
       "        text-align: right;\n",
       "    }\n",
       "</style>\n",
       "<table border=\"1\" class=\"dataframe\">\n",
       "  <thead>\n",
       "    <tr style=\"text-align: right;\">\n",
       "      <th></th>\n",
       "      <th>Year</th>\n",
       "      <th>Month</th>\n",
       "      <th>Day</th>\n",
       "      <th>Time_frame</th>\n",
       "      <th>Day_of_week</th>\n",
       "      <th>Severity</th>\n",
       "      <th>Community_area</th>\n",
       "      <th>Count</th>\n",
       "    </tr>\n",
       "  </thead>\n",
       "  <tbody>\n",
       "    <tr>\n",
       "      <th>0</th>\n",
       "      <td>2017</td>\n",
       "      <td>9</td>\n",
       "      <td>1</td>\n",
       "      <td>0-2</td>\n",
       "      <td>6</td>\n",
       "      <td>1</td>\n",
       "      <td>LOWER WEST SIDE</td>\n",
       "      <td>0</td>\n",
       "    </tr>\n",
       "    <tr>\n",
       "      <th>1</th>\n",
       "      <td>2017</td>\n",
       "      <td>9</td>\n",
       "      <td>1</td>\n",
       "      <td>2-4</td>\n",
       "      <td>6</td>\n",
       "      <td>1</td>\n",
       "      <td>LOWER WEST SIDE</td>\n",
       "      <td>0</td>\n",
       "    </tr>\n",
       "    <tr>\n",
       "      <th>2</th>\n",
       "      <td>2017</td>\n",
       "      <td>9</td>\n",
       "      <td>1</td>\n",
       "      <td>4-6</td>\n",
       "      <td>6</td>\n",
       "      <td>1</td>\n",
       "      <td>LOWER WEST SIDE</td>\n",
       "      <td>0</td>\n",
       "    </tr>\n",
       "    <tr>\n",
       "      <th>3</th>\n",
       "      <td>2017</td>\n",
       "      <td>9</td>\n",
       "      <td>1</td>\n",
       "      <td>6-8</td>\n",
       "      <td>6</td>\n",
       "      <td>1</td>\n",
       "      <td>LOWER WEST SIDE</td>\n",
       "      <td>0</td>\n",
       "    </tr>\n",
       "    <tr>\n",
       "      <th>4</th>\n",
       "      <td>2017</td>\n",
       "      <td>9</td>\n",
       "      <td>1</td>\n",
       "      <td>8-10</td>\n",
       "      <td>6</td>\n",
       "      <td>1</td>\n",
       "      <td>LOWER WEST SIDE</td>\n",
       "      <td>0</td>\n",
       "    </tr>\n",
       "  </tbody>\n",
       "</table>\n",
       "</div>"
      ],
      "text/plain": [
       "   Year Month Day Time_frame Day_of_week Severity   Community_area  Count\n",
       "0  2017     9   1        0-2           6        1  LOWER WEST SIDE      0\n",
       "1  2017     9   1        2-4           6        1  LOWER WEST SIDE      0\n",
       "2  2017     9   1        4-6           6        1  LOWER WEST SIDE      0\n",
       "3  2017     9   1        6-8           6        1  LOWER WEST SIDE      0\n",
       "4  2017     9   1       8-10           6        1  LOWER WEST SIDE      0"
      ]
     },
     "execution_count": 132,
     "metadata": {},
     "output_type": "execute_result"
    }
   ],
   "source": [
    "df_agg.head()"
   ]
  },
  {
   "cell_type": "markdown",
   "id": "a4a4069a",
   "metadata": {},
   "source": [
    "## EDA"
   ]
  },
  {
   "cell_type": "markdown",
   "id": "1bff7902",
   "metadata": {},
   "source": [
    "### Histogram of the number of traffic accidents per two hours\n",
    "* There are several peaks, which means this sample is a mixture of different groups."
   ]
  },
  {
   "cell_type": "code",
   "execution_count": 133,
   "id": "70ca4c91",
   "metadata": {},
   "outputs": [],
   "source": [
    "whole_city = df_agg[[\"Year\", \"Month\", \"Day\", \"Time_frame\", \"Count\"]].groupby([\"Year\", \"Month\", \"Day\", \"Time_frame\"]).sum()"
   ]
  },
  {
   "cell_type": "code",
   "execution_count": 152,
   "id": "8e539efc",
   "metadata": {},
   "outputs": [
    {
     "data": {
      "image/png": "[encoded data removed]",
      "text/plain": [
       "<Figure size 432x288 with 1 Axes>"
      ]
     },
     "metadata": {
      "needs_background": "light"
     },
     "output_type": "display_data"
    }
   ],
   "source": [
    "sns.histplot(whole_city.Count, discrete=True, shrink=0.8)\n",
    "plt.title(\"Histogram of the traffic crashes count per two hours\")\n",
    "plt.show()"
   ]
  },
  {
   "cell_type": "markdown",
   "id": "f926fa73",
   "metadata": {},
   "source": [
    "### Number of traffic accidents in each community area\n",
    "* \"Austin\" has the most traffic crashes, and \"BURNSIDE\" has the least."
   ]
  },
  {
   "cell_type": "code",
   "execution_count": 135,
   "id": "c078bd5a",
   "metadata": {},
   "outputs": [
    {
     "data": {
      "text/html": [
       "<div>\n",
       "<style scoped>\n",
       "    .dataframe tbody tr th:only-of-type {\n",
       "        vertical-align: middle;\n",
       "    }\n",
       "\n",
       "    .dataframe tbody tr th {\n",
       "        vertical-align: top;\n",
       "    }\n",
       "\n",
       "    .dataframe thead th {\n",
       "        text-align: right;\n",
       "    }\n",
       "</style>\n",
       "<table border=\"1\" class=\"dataframe\">\n",
       "  <thead>\n",
       "    <tr style=\"text-align: right;\">\n",
       "      <th></th>\n",
       "      <th>Count</th>\n",
       "    </tr>\n",
       "    <tr>\n",
       "      <th>Community_area</th>\n",
       "      <th></th>\n",
       "    </tr>\n",
       "  </thead>\n",
       "  <tbody>\n",
       "    <tr>\n",
       "      <th>BURNSIDE</th>\n",
       "      <td>608</td>\n",
       "    </tr>\n",
       "    <tr>\n",
       "      <th>OAKLAND</th>\n",
       "      <td>1211</td>\n",
       "    </tr>\n",
       "    <tr>\n",
       "      <th>RIVERDALE</th>\n",
       "      <td>1772</td>\n",
       "    </tr>\n",
       "    <tr>\n",
       "      <th>EDISON PARK</th>\n",
       "      <td>1843</td>\n",
       "    </tr>\n",
       "    <tr>\n",
       "      <th>HEGEWISCH</th>\n",
       "      <td>1959</td>\n",
       "    </tr>\n",
       "    <tr>\n",
       "      <th>...</th>\n",
       "      <td>...</td>\n",
       "    </tr>\n",
       "    <tr>\n",
       "      <th>WEST TOWN</th>\n",
       "      <td>20246</td>\n",
       "    </tr>\n",
       "    <tr>\n",
       "      <th>LOOP</th>\n",
       "      <td>22633</td>\n",
       "    </tr>\n",
       "    <tr>\n",
       "      <th>NEAR NORTH SIDE</th>\n",
       "      <td>31299</td>\n",
       "    </tr>\n",
       "    <tr>\n",
       "      <th>NEAR WEST SIDE</th>\n",
       "      <td>32063</td>\n",
       "    </tr>\n",
       "    <tr>\n",
       "      <th>AUSTIN</th>\n",
       "      <td>33348</td>\n",
       "    </tr>\n",
       "  </tbody>\n",
       "</table>\n",
       "<p>77 rows × 1 columns</p>\n",
       "</div>"
      ],
      "text/plain": [
       "                 Count\n",
       "Community_area        \n",
       "BURNSIDE           608\n",
       "OAKLAND           1211\n",
       "RIVERDALE         1772\n",
       "EDISON PARK       1843\n",
       "HEGEWISCH         1959\n",
       "...                ...\n",
       "WEST TOWN        20246\n",
       "LOOP             22633\n",
       "NEAR NORTH SIDE  31299\n",
       "NEAR WEST SIDE   32063\n",
       "AUSTIN           33348\n",
       "\n",
       "[77 rows x 1 columns]"
      ]
     },
     "execution_count": 135,
     "metadata": {},
     "output_type": "execute_result"
    }
   ],
   "source": [
    "df_agg[[\"Community_area\", \"Count\"]].groupby([\"Community_area\"]).sum().sort_values(\"Count\")"
   ]
  },
  {
   "cell_type": "markdown",
   "id": "e49b2293",
   "metadata": {},
   "source": [
    "### Histogram of the number of traffic accidents per two hours and Community Area\n",
    "* The distribution of the traffic crashes count looks different by community area"
   ]
  },
  {
   "cell_type": "code",
   "execution_count": 136,
   "id": "40ce66d7",
   "metadata": {},
   "outputs": [],
   "source": [
    "by_comm = df_agg[[\"Year\", \"Month\", \"Day\", \"Time_frame\", \"Community_area\", \"Count\"]].groupby([\"Year\", \"Month\", \"Day\", \"Time_frame\", \"Community_area\"]).sum().reset_index(level='Community_area')"
   ]
  },
  {
   "cell_type": "code",
   "execution_count": 151,
   "id": "fe006d71",
   "metadata": {},
   "outputs": [
    {
     "data": {
      "image/png": "[encoded data removed]",
      "text/plain": [
       "<Figure size 864x288 with 2 Axes>"
      ]
     },
     "metadata": {
      "needs_background": "light"
     },
     "output_type": "display_data"
    }
   ],
   "source": [
    "fig, axes = plt.subplots(1,2, figsize=(12, 4))\n",
    "sns.histplot(by_comm[by_comm.Community_area==\"AUSTIN\"].Count, discrete=True, shrink=0.8, ax=axes[0])\n",
    "axes[0].set_title(\"Histogram of the traffic crashes count per two hours \\n in AUSTIN\")\n",
    "sns.histplot(by_comm[by_comm.Community_area==\"BURNSIDE\"].Count, discrete=True, shrink=0.8, ax=axes[1])\n",
    "axes[1].set_title(\"Histogram of the traffic crashes count per two hours \\n in BURNSIDE\")\n",
    "plt.show()"
   ]
  },
  {
   "cell_type": "markdown",
   "id": "19043469",
   "metadata": {},
   "source": [
    "### Number of traffic accidents per 2 hours for each Severity in Austin\n",
    "* The distribution appears to be different for each severity"
   ]
  },
  {
   "cell_type": "code",
   "execution_count": 140,
   "id": "490536c9",
   "metadata": {},
   "outputs": [],
   "source": [
    "Austin = df_agg[df_agg.Community_area==\"AUSTIN\"]\n",
    "Austin_severity = Austin[[\"Year\", \"Month\", \"Day\", \"Time_frame\", \"Severity\", \"Count\"]].groupby(\n",
    "    [\"Year\", \"Month\", \"Day\", \"Time_frame\", \"Severity\"]).sum().reset_index(level=\"Severity\")"
   ]
  },
  {
   "cell_type": "code",
   "execution_count": 141,
   "id": "2f27afb8",
   "metadata": {},
   "outputs": [
    {
     "data": {
      "image/png": "[encoded data removed]",
      "text/plain": [
       "<Figure size 1296x288 with 3 Axes>"
      ]
     },
     "metadata": {
      "needs_background": "light"
     },
     "output_type": "display_data"
    }
   ],
   "source": [
    "fig, axes = plt.subplots(1,3, figsize=(18, 4))\n",
    "sns.histplot(Austin_severity[(Austin_severity.Severity==1)].Count, discrete=True, shrink=0.8, ax=axes[0])\n",
    "sns.histplot(Austin_severity[(Austin_severity.Severity==2)].Count, discrete=True, shrink=0.8, ax=axes[1])\n",
    "sns.histplot(Austin_severity[(Austin_severity.Severity==3)].Count, discrete=True, shrink=0.8, ax=axes[2])\n",
    "axes[0].set_title(\"Histogram of the Severity 1 traffic crashes count\\n  per two hours in AUSTIN\")\n",
    "axes[1].set_title(\"Histogram of the Severity 2 traffic crashes count\\n  per two hours in AUSTIN\")\n",
    "axes[2].set_title(\"Histogram of the Severity 3 traffic crashes count\\n  per two hours in AUSTIN\")\n",
    "plt.show()"
   ]
  },
  {
   "cell_type": "markdown",
   "id": "56a7f0dc",
   "metadata": {},
   "source": [
    "### Number of traffic accidents per 2 hours for each day of the week in Austin\n",
    "* The distribution appears to be different for each day of the week. Especially, the traffic crashes tend to more happen on Sundays."
   ]
  },
  {
   "cell_type": "code",
   "execution_count": 142,
   "id": "334123c9",
   "metadata": {},
   "outputs": [],
   "source": [
    "Austin_dof = Austin[[\"Year\", \"Month\", \"Day\", \"Time_frame\", \"Day_of_week\", \"Count\"]].groupby(\n",
    "    [\"Year\", \"Month\", \"Day\", \"Time_frame\", \"Day_of_week\"]).sum().reset_index(level=\"Day_of_week\")"
   ]
  },
  {
   "cell_type": "code",
   "execution_count": 143,
   "id": "0d619068",
   "metadata": {},
   "outputs": [
    {
     "data": {
      "image/png": "[encoded data removed]",
      "text/plain": [
       "<Figure size 1728x576 with 8 Axes>"
      ]
     },
     "metadata": {
      "needs_background": "light"
     },
     "output_type": "display_data"
    }
   ],
   "source": [
    "dof_dict = {1:\"Monday\", 2:\"Tuesday\", 3:\"Wednesday\", 4:\"Thursday\", 5:\"Friday\", 6: \"Saturaday\", 7:\"Sunday\"}\n",
    "fig, axes = plt.subplots(2,4, figsize=(24, 8))\n",
    "sns.histplot(data=Austin_dof, x=\"Count\", hue=\"Day_of_week\", discrete=True, shrink=0.8, ax=axes[0][0])\n",
    "for dof in range(1, 8):\n",
    "    i = dof // 4\n",
    "    j = dof % 4\n",
    "    sns.histplot(data=Austin_dof[Austin_dof.Day_of_week==dof], x=\"Count\", discrete=True, shrink=0.8, ax=axes[i][j])\n",
    "    axes[i][j].set_title(f\"Histogram of the traffic crashes count\\n  per two hours in AUSTIN on {dof_dict[dof]}\")\n",
    "plt.tight_layout()\n",
    "plt.show()"
   ]
  },
  {
   "cell_type": "markdown",
   "id": "284d1df7",
   "metadata": {},
   "source": [
    "### Number of traffic accidents per 2 hours for each month in Austin\n",
    "* The distribution appears to be different for each month"
   ]
  },
  {
   "cell_type": "code",
   "execution_count": 144,
   "id": "e60571fe",
   "metadata": {},
   "outputs": [],
   "source": [
    "Austin_month = Austin[[\"Year\", \"Month\", \"Day\", \"Time_frame\", \"Count\"]].groupby(\n",
    "    [\"Year\", \"Month\", \"Day\", \"Time_frame\"]).sum()\n",
    "Austin_month[\"Month\"] = Austin_month.index.get_level_values('Month')"
   ]
  },
  {
   "cell_type": "code",
   "execution_count": 145,
   "id": "80754036",
   "metadata": {
    "scrolled": true
   },
   "outputs": [
    {
     "data": {
      "image/png": "[encoded data removed]",
      "text/plain": [
       "<Figure size 432x288 with 1 Axes>"
      ]
     },
     "metadata": {
      "needs_background": "light"
     },
     "output_type": "display_data"
    }
   ],
   "source": [
    "sns.histplot(data=Austin_month, x=\"Count\", hue=\"Month\", discrete=True, shrink=0.8)\n",
    "# axes[0].set_title(\"Histogram of the Severity 1 traffic crashes count\\n  per two hours in NEAR WEST SIDE\")\n",
    "# axes[1].set_title(\"Histogram of the Severity 2 traffic crashes count\\n  per two hours in NEAR WEST SIDE\")\n",
    "# axes[2].set_title(\"Histogram of the Severity 3 traffic crashes count\\n  per two hours in NEAR WEST SIDE\")\n",
    "plt.show()"
   ]
  },
  {
   "cell_type": "code",
   "execution_count": 146,
   "id": "80bef726",
   "metadata": {},
   "outputs": [
    {
     "data": {
      "image/png": "[encoded data removed]",
      "text/plain": [
       "<Figure size 1728x864 with 12 Axes>"
      ]
     },
     "metadata": {
      "needs_background": "light"
     },
     "output_type": "display_data"
    }
   ],
   "source": [
    "fig, axes = plt.subplots(3,4, figsize=(24, 12))\n",
    "for m in range(12):\n",
    "    i = m // 4\n",
    "    j = m % 4\n",
    "    sns.histplot(data=Austin_month[Austin_month.Month==m+1], x=\"Count\", discrete=True, shrink=0.8, ax=axes[i][j])\n",
    "    axes[i][j].set_title(f\"Histogram of the traffic crashes count\\n  per two hours in AUSTIN in month = {m+1}\")\n",
    "plt.tight_layout()\n",
    "plt.show()"
   ]
  },
  {
   "cell_type": "code",
   "execution_count": 147,
   "id": "e6f76ca6",
   "metadata": {},
   "outputs": [],
   "source": [
    "Austin_time = Austin[[\"Year\", \"Month\", \"Day\", \"Time_frame\", \"Count\"]].groupby(\n",
    "    [\"Year\", \"Month\", \"Day\", \"Time_frame\"]).sum()\n",
    "Austin_time[\"Time_frame\"] = Austin_time.index.get_level_values('Time_frame')"
   ]
  },
  {
   "cell_type": "markdown",
   "id": "9f5c9063",
   "metadata": {},
   "source": [
    "### Number of traffic accidents per 2 hours for each time frame in Austin\n",
    "* The distribution appears to be different for each time frame. "
   ]
  },
  {
   "cell_type": "code",
   "execution_count": 148,
   "id": "47370a13",
   "metadata": {},
   "outputs": [
    {
     "data": {
      "image/png": "[encoded data removed]",
      "text/plain": [
       "<Figure size 432x288 with 1 Axes>"
      ]
     },
     "metadata": {
      "needs_background": "light"
     },
     "output_type": "display_data"
    }
   ],
   "source": [
    "sns.histplot(data=Austin_time, x=\"Count\", hue=\"Time_frame\", discrete=True, shrink=0.8)\n",
    "# axes[0].set_title(\"Histogram of the Severity 1 traffic crashes count\\n  per two hours in NEAR WEST SIDE\")\n",
    "# axes[1].set_title(\"Histogram of the Severity 2 traffic crashes count\\n  per two hours in NEAR WEST SIDE\")\n",
    "# axes[2].set_title(\"Histogram of the Severity 3 traffic crashes count\\n  per two hours in NEAR WEST SIDE\")\n",
    "plt.show()"
   ]
  },
  {
   "cell_type": "code",
   "execution_count": 150,
   "id": "5da9173b",
   "metadata": {},
   "outputs": [
    {
     "data": {
      "image/png": "[encoded data removed]",
      "text/plain": [
       "<Figure size 1728x864 with 12 Axes>"
      ]
     },
     "metadata": {
      "needs_background": "light"
     },
     "output_type": "display_data"
    }
   ],
   "source": [
    "time_frame = [\"0-2\", \"2-4\", \"4-6\", \"6-8\", \"8-10\", \"10-12\", \"12-14\", \"14-16\", \"16-18\", \"18-20\", \"20-22\", \"22-24\"]\n",
    "fig, axes = plt.subplots(3,4, figsize=(24, 12))\n",
    "for t in range(12):\n",
    "    i = t // 4\n",
    "    j = t % 4\n",
    "    sns.histplot(data=Austin_time[Austin_time.Time_frame==time_frame[t]], x=\"Count\", discrete=True, shrink=0.8, ax=axes[i][j])\n",
    "    axes[i][j].set_title(f\"Histogram of the traffic crashes count\\n  per two hours in AUSTIN in time frame = {time_frame[t]}\")\n",
    "plt.tight_layout()\n",
    "plt.show()"
   ]
  },
  {
   "cell_type": "code",
   "execution_count": null,
   "id": "ccca1a4c",
   "metadata": {},
   "outputs": [],
   "source": []
  }
 ],
 "metadata": {
  "kernelspec": {
   "display_name": "Python 3 (ipykernel)",
   "language": "python",
   "name": "python3"
  },
  "language_info": {
   "codemirror_mode": {
    "name": "ipython",
    "version": 3
   },
   "file_extension": ".py",
   "mimetype": "text/x-python",
   "name": "python",
   "nbconvert_exporter": "python",
   "pygments_lexer": "ipython3",
   "version": "3.9.7"
  }
 },
 "nbformat": 4,
 "nbformat_minor": 5
}
