{
 "cells": [
  {
   "cell_type": "markdown",
   "id": "a1a8ce1a",
   "metadata": {
    "id": "a1a8ce1a"
   },
   "source": [
    "# Severity Classification Models for Traffic Accidents\n",
    "In this notebook, Feedforward Neural Networks to predict the severity of traffic crashes will be developed."
   ]
  },
  {
   "cell_type": "code",
   "execution_count": 1,
   "id": "p6TmU_tG_quu",
   "metadata": {
    "colab": {
     "base_uri": "https://localhost:8080/"
    },
    "executionInfo": {
     "elapsed": 27021,
     "status": "ok",
     "timestamp": 1711574343943,
     "user": {
      "displayName": "Kentaro Osawa",
      "userId": "00866064059030608685"
     },
     "user_tz": 240
    },
    "id": "p6TmU_tG_quu",
    "outputId": "ef057e52-463f-4689-a06e-dee74bebb6ee"
   },
   "outputs": [
    {
     "name": "stdout",
     "output_type": "stream",
     "text": [
      "Mounted at /content/drive\n",
      "/content/drive/My Drive/Capstone\n"
     ]
    }
   ],
   "source": [
    "# This cell should be run when this notebook is excuted on Google Colab.\n",
    "from google.colab import drive\n",
    "import sys\n",
    "\n",
    "# Mount Google Drive\n",
    "drive.mount('/content/drive')\n",
    "\n",
    "# Get the absolute path of the current folder\n",
    "abspath_curr = '/content/drive/My Drive/Capstone/'\n",
    "\n",
    "%cd $abspath_curr"
   ]
  },
  {
   "cell_type": "code",
   "execution_count": 2,
   "id": "gebTXu7DKsiV",
   "metadata": {
    "colab": {
     "base_uri": "https://localhost:8080/"
    },
    "executionInfo": {
     "elapsed": 3757,
     "status": "ok",
     "timestamp": 1711574347697,
     "user": {
      "displayName": "Kentaro Osawa",
      "userId": "00866064059030608685"
     },
     "user_tz": 240
    },
    "id": "gebTXu7DKsiV",
    "outputId": "a19450f9-6fb1-4a85-a9fb-069d6d60c44d"
   },
   "outputs": [
    {
     "name": "stdout",
     "output_type": "stream",
     "text": [
      "Colab only includes TensorFlow 2.x; %tensorflow_version has no effect.\n"
     ]
    }
   ],
   "source": [
    "# The magic below allows us to use tensorflow version 2.x\n",
    "%tensorflow_version 2.x\n",
    "import tensorflow as tf\n",
    "from tensorflow import keras"
   ]
  },
  {
   "cell_type": "code",
   "execution_count": 3,
   "id": "e84dfea4",
   "metadata": {
    "executionInfo": {
     "elapsed": 823,
     "status": "ok",
     "timestamp": 1711574348500,
     "user": {
      "displayName": "Kentaro Osawa",
      "userId": "00866064059030608685"
     },
     "user_tz": 240
    },
    "id": "e84dfea4"
   },
   "outputs": [],
   "source": [
    "import numpy as np\n",
    "import pandas as pd\n",
    "import matplotlib.pyplot as plt\n",
    "import seaborn as sns\n",
    "from toolbox import *"
   ]
  },
  {
   "cell_type": "markdown",
   "id": "3943df12",
   "metadata": {
    "id": "3943df12"
   },
   "source": [
    "## Read Dataset\n",
    "Load the oversampled data"
   ]
  },
  {
   "cell_type": "code",
   "execution_count": 4,
   "id": "a345fc12",
   "metadata": {
    "executionInfo": {
     "elapsed": 9721,
     "status": "ok",
     "timestamp": 1711574358218,
     "user": {
      "displayName": "Kentaro Osawa",
      "userId": "00866064059030608685"
     },
     "user_tz": 240
    },
    "id": "a345fc12"
   },
   "outputs": [],
   "source": [
    "# Read the data\n",
    "df_train = pd.concat([pd.read_csv(f\"Data/train_smote_{i}.csv\") for i in range(1, 5)], ignore_index=True)\n",
    "df_val = pd.read_csv(\"Data/val.csv\", index_col=False)\n",
    "df_test = pd.read_csv(\"Data/test.csv\", index_col=False)"
   ]
  },
  {
   "cell_type": "markdown",
   "id": "71b916d0",
   "metadata": {
    "id": "71b916d0"
   },
   "source": [
    "### Model Development - FNN"
   ]
  },
  {
   "cell_type": "markdown",
   "id": "482f25cb",
   "metadata": {
    "id": "482f25cb"
   },
   "source": [
    "Encoding the categorical features"
   ]
  },
  {
   "cell_type": "code",
   "execution_count": 5,
   "id": "3Np86eBH5fmD",
   "metadata": {
    "executionInfo": {
     "elapsed": 22,
     "status": "ok",
     "timestamp": 1711574358218,
     "user": {
      "displayName": "Kentaro Osawa",
      "userId": "00866064059030608685"
     },
     "user_tz": 240
    },
    "id": "3Np86eBH5fmD"
   },
   "outputs": [],
   "source": [
    "df_train = df_train.sample(frac=1, random_state=6501).reset_index(drop=True)"
   ]
  },
  {
   "cell_type": "code",
   "execution_count": 6,
   "id": "lVvPA8ysfUIf",
   "metadata": {
    "executionInfo": {
     "elapsed": 3,
     "status": "ok",
     "timestamp": 1711574359057,
     "user": {
      "displayName": "Kentaro Osawa",
      "userId": "00866064059030608685"
     },
     "user_tz": 240
    },
    "id": "lVvPA8ysfUIf"
   },
   "outputs": [],
   "source": [
    "df_train_x = df_train.drop(columns=[\"Severity\"])\n",
    "y_train = df_train[\"Severity\"].values - 1\n",
    "\n",
    "df_val_x = df_val.drop(columns=[\"Severity\"])\n",
    "y_val = df_val[\"Severity\"].values - 1\n",
    "\n",
    "df_test_x = df_test.drop(columns=[\"Severity\"])\n",
    "y_test = df_test[\"Severity\"].values - 1"
   ]
  },
  {
   "cell_type": "code",
   "execution_count": 7,
   "id": "106197ec",
   "metadata": {
    "executionInfo": {
     "elapsed": 2,
     "status": "ok",
     "timestamp": 1711574359057,
     "user": {
      "displayName": "Kentaro Osawa",
      "userId": "00866064059030608685"
     },
     "user_tz": 240
    },
    "id": "106197ec"
   },
   "outputs": [],
   "source": [
    "# Concat feature matrics\n",
    "df_X = pd.concat([df_train_x, df_val_x, df_test_x], sort=False)"
   ]
  },
  {
   "cell_type": "markdown",
   "id": "21500182",
   "metadata": {
    "id": "21500182"
   },
   "source": [
    "#### Encoding cyclic categorical features\n",
    "* \"CRASH_DATE_month\", \"CRASH_DATE_hour\", and \"CRASH_DAY_OF_WEEK\" are categorical, but also are cyclical.\n",
    "* Encoding these feature by One-Hot encoding (OHE) will lead to the increase of the demension, which is not prefereable. In addition, the OHE cannot capture the cyclic characteristic in these features. Therefore, encoding utilized trigonometric functions will be applied."
   ]
  },
  {
   "cell_type": "code",
   "execution_count": 8,
   "id": "1ebb29fb",
   "metadata": {
    "executionInfo": {
     "elapsed": 1475,
     "status": "ok",
     "timestamp": 1711574360530,
     "user": {
      "displayName": "Kentaro Osawa",
      "userId": "00866064059030608685"
     },
     "user_tz": 240
    },
    "id": "1ebb29fb"
   },
   "outputs": [],
   "source": [
    "df_X = cyclic_encoding(df_X, [\"CRASH_DATE_month\", \"CRASH_DATE_hour\", \"CRASH_DAY_OF_WEEK\"])"
   ]
  },
  {
   "cell_type": "markdown",
   "id": "28bd6449",
   "metadata": {
    "id": "28bd6449"
   },
   "source": [
    "#### Encoding other catogorical features\n",
    "* Encoding other categorical features than cyclic ones by OHE"
   ]
  },
  {
   "cell_type": "code",
   "execution_count": 9,
   "id": "7cf70802",
   "metadata": {
    "executionInfo": {
     "elapsed": 2,
     "status": "ok",
     "timestamp": 1711574360530,
     "user": {
      "displayName": "Kentaro Osawa",
      "userId": "00866064059030608685"
     },
     "user_tz": 240
    },
    "id": "7cf70802"
   },
   "outputs": [],
   "source": [
    "df_X = df_X.astype({\"POSTED_SPEED_LIMIT\": float, \"NUM_UNITS\": float, \"LATITUDE\": float, \"LONGITUDE\": float})"
   ]
  },
  {
   "cell_type": "code",
   "execution_count": 10,
   "id": "2a36a803",
   "metadata": {
    "executionInfo": {
     "elapsed": 2100,
     "status": "ok",
     "timestamp": 1711574362628,
     "user": {
      "displayName": "Kentaro Osawa",
      "userId": "00866064059030608685"
     },
     "user_tz": 240
    },
    "id": "2a36a803"
   },
   "outputs": [],
   "source": [
    "df_X = pd.get_dummies(df_X, drop_first=True)"
   ]
  },
  {
   "cell_type": "code",
   "execution_count": 11,
   "id": "0f87c087",
   "metadata": {
    "executionInfo": {
     "elapsed": 2,
     "status": "ok",
     "timestamp": 1711574362628,
     "user": {
      "displayName": "Kentaro Osawa",
      "userId": "00866064059030608685"
     },
     "user_tz": 240
    },
    "id": "0f87c087"
   },
   "outputs": [],
   "source": [
    "df_train_x = df_X.iloc[:df_train_x.shape[0], :]\n",
    "df_val_x = df_X.iloc[df_train_x.shape[0] : df_train_x.shape[0] + df_val_x.shape[0], :]\n",
    "df_test_x = df_X.iloc[df_train_x.shape[0] + df_val_x.shape[0]:, :]"
   ]
  },
  {
   "cell_type": "markdown",
   "id": "ff714f38",
   "metadata": {
    "id": "ff714f38"
   },
   "source": [
    "### Constructing model"
   ]
  },
  {
   "cell_type": "code",
   "execution_count": 12,
   "id": "703fa751",
   "metadata": {
    "executionInfo": {
     "elapsed": 829,
     "status": "ok",
     "timestamp": 1711574363455,
     "user": {
      "displayName": "Kentaro Osawa",
      "userId": "00866064059030608685"
     },
     "user_tz": 240
    },
    "id": "703fa751"
   },
   "outputs": [],
   "source": [
    "X_train = df_train_x.values\n",
    "X_val = df_val_x.values\n",
    "X_test = df_test_x.values"
   ]
  },
  {
   "cell_type": "code",
   "execution_count": 20,
   "id": "h00-UCnLLCJA",
   "metadata": {
    "colab": {
     "base_uri": "https://localhost:8080/"
    },
    "executionInfo": {
     "elapsed": 12,
     "status": "ok",
     "timestamp": 1711575105885,
     "user": {
      "displayName": "Kentaro Osawa",
      "userId": "00866064059030608685"
     },
     "user_tz": 240
    },
    "id": "h00-UCnLLCJA",
    "outputId": "00be44b4-6f94-45bb-eb24-49a713cdabe1"
   },
   "outputs": [
    {
     "name": "stdout",
     "output_type": "stream",
     "text": [
      "Model: \"sequential_2\"\n",
      "_________________________________________________________________\n",
      " Layer (type)                Output Shape              Param #   \n",
      "=================================================================\n",
      " dense_4 (Dense)             (None, 171)               19665     \n",
      "                                                                 \n",
      " batch_normalization_2 (Bat  (None, 171)               684       \n",
      " chNormalization)                                                \n",
      "                                                                 \n",
      " dense_5 (Dense)             (None, 85)                14620     \n",
      "                                                                 \n",
      " batch_normalization_3 (Bat  (None, 85)                340       \n",
      " chNormalization)                                                \n",
      "                                                                 \n",
      " dense_6 (Dense)             (None, 40)                3440      \n",
      "                                                                 \n",
      " batch_normalization_4 (Bat  (None, 40)                160       \n",
      " chNormalization)                                                \n",
      "                                                                 \n",
      " dense_7 (Dense)             (None, 3)                 123       \n",
      "                                                                 \n",
      "=================================================================\n",
      "Total params: 39032 (152.47 KB)\n",
      "Trainable params: 38440 (150.16 KB)\n",
      "Non-trainable params: 592 (2.31 KB)\n",
      "_________________________________________________________________\n"
     ]
    }
   ],
   "source": [
    "# A sequential dnn\n",
    "model = keras.models.Sequential()\n",
    "\n",
    "# Add the first hidden layer\n",
    "model.add(keras.layers.Dense(171, activation='relu', input_shape=(X_train.shape[1], )))\n",
    "# Add bn layer\n",
    "model.add(keras.layers.BatchNormalization())\n",
    "\n",
    "# Add the second hidden layer\n",
    "model.add(keras.layers.Dense(85, activation='relu'))\n",
    "# Add bn layer\n",
    "model.add(keras.layers.BatchNormalization())\n",
    "\n",
    "# Add the second hidden layer\n",
    "model.add(keras.layers.Dense(40, activation='relu'))\n",
    "# Add bn layer\n",
    "model.add(keras.layers.BatchNormalization())\n",
    "\n",
    "# Add the output layer\n",
    "model.add(keras.layers.Dense(3, activation='softmax'))\n",
    "\n",
    "# The model summary\n",
    "model.summary()"
   ]
  },
  {
   "cell_type": "code",
   "execution_count": 21,
   "id": "9sFo7nO1MjrG",
   "metadata": {
    "executionInfo": {
     "elapsed": 635,
     "status": "ok",
     "timestamp": 1711575110430,
     "user": {
      "displayName": "Kentaro Osawa",
      "userId": "00866064059030608685"
     },
     "user_tz": 240
    },
    "id": "9sFo7nO1MjrG"
   },
   "outputs": [],
   "source": [
    "# Compile the model\n",
    "model.compile(optimizer=keras.optimizers.Adam(),\n",
    "              loss='sparse_categorical_crossentropy',\n",
    "              metrics=['accuracy'])"
   ]
  },
  {
   "cell_type": "code",
   "execution_count": 16,
   "id": "m26aE6QpMsRF",
   "metadata": {
    "executionInfo": {
     "elapsed": 2,
     "status": "ok",
     "timestamp": 1711574393921,
     "user": {
      "displayName": "Kentaro Osawa",
      "userId": "00866064059030608685"
     },
     "user_tz": 240
    },
    "id": "m26aE6QpMsRF"
   },
   "outputs": [],
   "source": [
    "# EarlyStopping callback\n",
    "early_stopping_cb = keras.callbacks.EarlyStopping(patience=5,\n",
    "                                                  restore_best_weights=True)\n",
    "\n",
    "# ReduceLROnPlateau callback\n",
    "reduce_lr_on_plateau_cb = keras.callbacks.ReduceLROnPlateau(\n",
    "    factor=0.1,\n",
    "    patience=3)"
   ]
  },
  {
   "cell_type": "code",
   "execution_count": 22,
   "id": "LmiTEoZDM8Vm",
   "metadata": {
    "colab": {
     "base_uri": "https://localhost:8080/"
    },
    "executionInfo": {
     "elapsed": 1128958,
     "status": "ok",
     "timestamp": 1711576243890,
     "user": {
      "displayName": "Kentaro Osawa",
      "userId": "00866064059030608685"
     },
     "user_tz": 240
    },
    "id": "LmiTEoZDM8Vm",
    "outputId": "3bdf2969-98bb-43f9-eb98-8dbbaecd5daf"
   },
   "outputs": [
    {
     "name": "stdout",
     "output_type": "stream",
     "text": [
      "Epoch 1/50\n",
      "29692/29692 [==============================] - 104s 3ms/step - loss: 0.7289 - accuracy: 0.6733 - val_loss: 0.7183 - val_accuracy: 0.6624 - lr: 0.0010\n",
      "Epoch 2/50\n",
      "29692/29692 [==============================] - 99s 3ms/step - loss: 0.6599 - accuracy: 0.7120 - val_loss: 0.6779 - val_accuracy: 0.6950 - lr: 0.0010\n",
      "Epoch 3/50\n",
      "29692/29692 [==============================] - 95s 3ms/step - loss: 0.6326 - accuracy: 0.7259 - val_loss: 0.7044 - val_accuracy: 0.6807 - lr: 0.0010\n",
      "Epoch 4/50\n",
      "29692/29692 [==============================] - 89s 3ms/step - loss: 0.6168 - accuracy: 0.7341 - val_loss: 0.7133 - val_accuracy: 0.6798 - lr: 0.0010\n",
      "Epoch 5/50\n",
      "29692/29692 [==============================] - 97s 3ms/step - loss: 0.6050 - accuracy: 0.7398 - val_loss: 0.7064 - val_accuracy: 0.6708 - lr: 0.0010\n",
      "Epoch 6/50\n",
      "29692/29692 [==============================] - 91s 3ms/step - loss: 0.5740 - accuracy: 0.7546 - val_loss: 0.6881 - val_accuracy: 0.6832 - lr: 1.0000e-04\n",
      "Epoch 7/50\n",
      "29692/29692 [==============================] - 90s 3ms/step - loss: 0.5654 - accuracy: 0.7581 - val_loss: 0.6693 - val_accuracy: 0.6957 - lr: 1.0000e-04\n",
      "Epoch 8/50\n",
      "29692/29692 [==============================] - 97s 3ms/step - loss: 0.5624 - accuracy: 0.7598 - val_loss: 0.6758 - val_accuracy: 0.6891 - lr: 1.0000e-04\n",
      "Epoch 9/50\n",
      "29692/29692 [==============================] - 95s 3ms/step - loss: 0.5606 - accuracy: 0.7604 - val_loss: 0.6753 - val_accuracy: 0.6895 - lr: 1.0000e-04\n",
      "Epoch 10/50\n",
      "29692/29692 [==============================] - 91s 3ms/step - loss: 0.5597 - accuracy: 0.7609 - val_loss: 0.6700 - val_accuracy: 0.6941 - lr: 1.0000e-04\n",
      "Epoch 11/50\n",
      "29692/29692 [==============================] - 87s 3ms/step - loss: 0.5555 - accuracy: 0.7627 - val_loss: 0.6756 - val_accuracy: 0.6896 - lr: 1.0000e-05\n",
      "Epoch 12/50\n",
      "29692/29692 [==============================] - 91s 3ms/step - loss: 0.5550 - accuracy: 0.7634 - val_loss: 0.6799 - val_accuracy: 0.6867 - lr: 1.0000e-05\n"
     ]
    }
   ],
   "source": [
    "# Train, evaluate and save the best model\n",
    "history = model.fit(X_train,\n",
    "                    y_train,\n",
    "                    epochs=50,\n",
    "                    batch_size=32,\n",
    "                    validation_data=(X_val, y_val),\n",
    "                    #validation_split=0.2,\n",
    "                    callbacks=[early_stopping_cb,\n",
    "                               reduce_lr_on_plateau_cb])"
   ]
  },
  {
   "cell_type": "code",
   "execution_count": 23,
   "id": "OTVrT-uhmZjG",
   "metadata": {
    "colab": {
     "base_uri": "https://localhost:8080/",
     "height": 506
    },
    "executionInfo": {
     "elapsed": 26,
     "status": "ok",
     "timestamp": 1711576243891,
     "user": {
      "displayName": "Kentaro Osawa",
      "userId": "00866064059030608685"
     },
     "user_tz": 240
    },
    "id": "OTVrT-uhmZjG",
    "outputId": "07bafd67-840d-4a91-fde7-a6cf8261605f"
   },
   "outputs": [
    {
     "data": {
      "image/png": "[encoded data removed]",
      "text/plain": [
       "<Figure size 800x500 with 1 Axes>"
      ]
     },
     "metadata": {},
     "output_type": "display_data"
    }
   ],
   "source": [
    "# Create a figure\n",
    "pd.DataFrame(history.history).plot(figsize=(8, 5))\n",
    "\n",
    "# Show the figure\n",
    "plt.tight_layout()\n",
    "plt.show()"
   ]
  },
  {
   "cell_type": "code",
   "execution_count": 24,
   "id": "e57ed015",
   "metadata": {
    "colab": {
     "base_uri": "https://localhost:8080/"
    },
    "executionInfo": {
     "elapsed": 8336,
     "status": "ok",
     "timestamp": 1711576252223,
     "user": {
      "displayName": "Kentaro Osawa",
      "userId": "00866064059030608685"
     },
     "user_tz": 240
    },
    "id": "e57ed015",
    "outputId": "676e13f3-c373-4228-a287-5e3837f260de"
   },
   "outputs": [
    {
     "name": "stdout",
     "output_type": "stream",
     "text": [
      "3859/3859 [==============================] - 7s 2ms/step\n",
      "Accuracy: 0.6934769405190914\n",
      "Precision: 0.409074148925099\n",
      "Recall: 0.477497230638843\n",
      "F1 Score: 0.40862386771227927\n"
     ]
    }
   ],
   "source": [
    "from sklearn.metrics import accuracy_score, precision_score, recall_score, f1_score\n",
    "\n",
    "y_pred = model.predict(X_test)\n",
    "y_pred_classes = np.argmax(y_pred, axis=1)\n",
    "#y_true_classes = np.argmax(y_test, axis=1)\n",
    "\n",
    "accuracy = accuracy_score(y_test, y_pred_classes)\n",
    "precision = precision_score(y_test, y_pred_classes, average='macro')\n",
    "recall = recall_score(y_test, y_pred_classes, average='macro')\n",
    "f1 = f1_score(y_test, y_pred_classes, average='macro')\n",
    "\n",
    "print(\"Accuracy:\", accuracy)\n",
    "print(\"Precision:\", precision)\n",
    "print(\"Recall:\", recall)\n",
    "print(\"F1 Score:\", f1)"
   ]
  }
 ],
 "metadata": {
  "colab": {
   "provenance": []
  },
  "kernelspec": {
   "display_name": "Python 3 (ipykernel)",
   "language": "python",
   "name": "python3"
  },
  "language_info": {
   "codemirror_mode": {
    "name": "ipython",
    "version": 3
   },
   "file_extension": ".py",
   "mimetype": "text/x-python",
   "name": "python",
   "nbconvert_exporter": "python",
   "pygments_lexer": "ipython3",
   "version": "3.9.7"
  }
 },
 "nbformat": 4,
 "nbformat_minor": 5
}
